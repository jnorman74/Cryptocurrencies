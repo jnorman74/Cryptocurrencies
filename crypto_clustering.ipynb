{
 "cells": [
  {
   "cell_type": "markdown",
   "metadata": {},
   "source": [
    "# Clustering Crypto"
   ]
  },
  {
   "cell_type": "code",
   "execution_count": 14,
   "metadata": {},
   "outputs": [],
   "source": [
    "# Initial imports\n",
    "import pandas as pd\n",
    "import hvplot.pandas\n",
    "from path import Path\n",
    "import plotly.express as px\n",
    "from sklearn.preprocessing import StandardScaler, MinMaxScaler\n",
    "from sklearn.decomposition import PCA\n",
    "from sklearn.cluster import KMeans\n"
   ]
  },
  {
   "cell_type": "markdown",
   "metadata": {},
   "source": [
    "### Deliverable 1: Preprocessing the Data for PCA"
   ]
  },
  {
   "cell_type": "code",
   "execution_count": 15,
   "metadata": {},
   "outputs": [
    {
     "output_type": "execute_result",
     "data": {
      "text/plain": [
       "            CoinName Algorithm  IsTrading ProofType  TotalCoinsMined  \\\n",
       "42           42 Coin    Scrypt       True   PoW/PoS     4.199995e+01   \n",
       "365          365Coin       X11       True   PoW/PoS              NaN   \n",
       "404          404Coin    Scrypt       True   PoW/PoS     1.055185e+09   \n",
       "611        SixEleven   SHA-256       True       PoW              NaN   \n",
       "808              808   SHA-256       True   PoW/PoS     0.000000e+00   \n",
       "...              ...       ...        ...       ...              ...   \n",
       "XBC      BitcoinPlus    Scrypt       True       PoS     1.283270e+05   \n",
       "DVTC      DivotyCoin    Scrypt      False   PoW/PoS     2.149121e+07   \n",
       "GIOT     Giotto Coin    Scrypt      False   PoW/PoS              NaN   \n",
       "OPSC  OpenSourceCoin   SHA-256      False   PoW/PoS              NaN   \n",
       "PUNK       SteamPunk       PoS      False       PoS              NaN   \n",
       "\n",
       "     TotalCoinSupply  \n",
       "42                42  \n",
       "365       2300000000  \n",
       "404        532000000  \n",
       "611           611000  \n",
       "808                0  \n",
       "...              ...  \n",
       "XBC          1000000  \n",
       "DVTC       100000000  \n",
       "GIOT       233100000  \n",
       "OPSC        21000000  \n",
       "PUNK        40000000  \n",
       "\n",
       "[1252 rows x 6 columns]"
      ],
      "text/html": "<div>\n<style scoped>\n    .dataframe tbody tr th:only-of-type {\n        vertical-align: middle;\n    }\n\n    .dataframe tbody tr th {\n        vertical-align: top;\n    }\n\n    .dataframe thead th {\n        text-align: right;\n    }\n</style>\n<table border=\"1\" class=\"dataframe\">\n  <thead>\n    <tr style=\"text-align: right;\">\n      <th></th>\n      <th>CoinName</th>\n      <th>Algorithm</th>\n      <th>IsTrading</th>\n      <th>ProofType</th>\n      <th>TotalCoinsMined</th>\n      <th>TotalCoinSupply</th>\n    </tr>\n  </thead>\n  <tbody>\n    <tr>\n      <th>42</th>\n      <td>42 Coin</td>\n      <td>Scrypt</td>\n      <td>True</td>\n      <td>PoW/PoS</td>\n      <td>4.199995e+01</td>\n      <td>42</td>\n    </tr>\n    <tr>\n      <th>365</th>\n      <td>365Coin</td>\n      <td>X11</td>\n      <td>True</td>\n      <td>PoW/PoS</td>\n      <td>NaN</td>\n      <td>2300000000</td>\n    </tr>\n    <tr>\n      <th>404</th>\n      <td>404Coin</td>\n      <td>Scrypt</td>\n      <td>True</td>\n      <td>PoW/PoS</td>\n      <td>1.055185e+09</td>\n      <td>532000000</td>\n    </tr>\n    <tr>\n      <th>611</th>\n      <td>SixEleven</td>\n      <td>SHA-256</td>\n      <td>True</td>\n      <td>PoW</td>\n      <td>NaN</td>\n      <td>611000</td>\n    </tr>\n    <tr>\n      <th>808</th>\n      <td>808</td>\n      <td>SHA-256</td>\n      <td>True</td>\n      <td>PoW/PoS</td>\n      <td>0.000000e+00</td>\n      <td>0</td>\n    </tr>\n    <tr>\n      <th>...</th>\n      <td>...</td>\n      <td>...</td>\n      <td>...</td>\n      <td>...</td>\n      <td>...</td>\n      <td>...</td>\n    </tr>\n    <tr>\n      <th>XBC</th>\n      <td>BitcoinPlus</td>\n      <td>Scrypt</td>\n      <td>True</td>\n      <td>PoS</td>\n      <td>1.283270e+05</td>\n      <td>1000000</td>\n    </tr>\n    <tr>\n      <th>DVTC</th>\n      <td>DivotyCoin</td>\n      <td>Scrypt</td>\n      <td>False</td>\n      <td>PoW/PoS</td>\n      <td>2.149121e+07</td>\n      <td>100000000</td>\n    </tr>\n    <tr>\n      <th>GIOT</th>\n      <td>Giotto Coin</td>\n      <td>Scrypt</td>\n      <td>False</td>\n      <td>PoW/PoS</td>\n      <td>NaN</td>\n      <td>233100000</td>\n    </tr>\n    <tr>\n      <th>OPSC</th>\n      <td>OpenSourceCoin</td>\n      <td>SHA-256</td>\n      <td>False</td>\n      <td>PoW/PoS</td>\n      <td>NaN</td>\n      <td>21000000</td>\n    </tr>\n    <tr>\n      <th>PUNK</th>\n      <td>SteamPunk</td>\n      <td>PoS</td>\n      <td>False</td>\n      <td>PoS</td>\n      <td>NaN</td>\n      <td>40000000</td>\n    </tr>\n  </tbody>\n</table>\n<p>1252 rows × 6 columns</p>\n</div>"
     },
     "metadata": {},
     "execution_count": 15
    }
   ],
   "source": [
    "# Load the crypto_data.csv dataset.\n",
    "filepath = \"Resources/crypto_data.csv\"\n",
    "crypto_df = pd.read_csv(filepath, index_col=0)\n",
    "crypto_df"
   ]
  },
  {
   "cell_type": "code",
   "execution_count": 16,
   "metadata": {},
   "outputs": [
    {
     "output_type": "execute_result",
     "data": {
      "text/plain": [
       "         CoinName    Algorithm  IsTrading ProofType  TotalCoinsMined  \\\n",
       "42        42 Coin       Scrypt       True   PoW/PoS     4.199995e+01   \n",
       "365       365Coin          X11       True   PoW/PoS              NaN   \n",
       "404       404Coin       Scrypt       True   PoW/PoS     1.055185e+09   \n",
       "611     SixEleven      SHA-256       True       PoW              NaN   \n",
       "808           808      SHA-256       True   PoW/PoS     0.000000e+00   \n",
       "...           ...          ...        ...       ...              ...   \n",
       "SERO   Super Zero       Ethash       True       PoW              NaN   \n",
       "UOS           UOS      SHA-256       True      DPoI              NaN   \n",
       "BDX        Beldex  CryptoNight       True       PoW     9.802226e+08   \n",
       "ZEN       Horizen     Equihash       True       PoW     7.296538e+06   \n",
       "XBC   BitcoinPlus       Scrypt       True       PoS     1.283270e+05   \n",
       "\n",
       "     TotalCoinSupply  \n",
       "42                42  \n",
       "365       2300000000  \n",
       "404        532000000  \n",
       "611           611000  \n",
       "808                0  \n",
       "...              ...  \n",
       "SERO      1000000000  \n",
       "UOS       1000000000  \n",
       "BDX       1400222610  \n",
       "ZEN         21000000  \n",
       "XBC          1000000  \n",
       "\n",
       "[1144 rows x 6 columns]"
      ],
      "text/html": "<div>\n<style scoped>\n    .dataframe tbody tr th:only-of-type {\n        vertical-align: middle;\n    }\n\n    .dataframe tbody tr th {\n        vertical-align: top;\n    }\n\n    .dataframe thead th {\n        text-align: right;\n    }\n</style>\n<table border=\"1\" class=\"dataframe\">\n  <thead>\n    <tr style=\"text-align: right;\">\n      <th></th>\n      <th>CoinName</th>\n      <th>Algorithm</th>\n      <th>IsTrading</th>\n      <th>ProofType</th>\n      <th>TotalCoinsMined</th>\n      <th>TotalCoinSupply</th>\n    </tr>\n  </thead>\n  <tbody>\n    <tr>\n      <th>42</th>\n      <td>42 Coin</td>\n      <td>Scrypt</td>\n      <td>True</td>\n      <td>PoW/PoS</td>\n      <td>4.199995e+01</td>\n      <td>42</td>\n    </tr>\n    <tr>\n      <th>365</th>\n      <td>365Coin</td>\n      <td>X11</td>\n      <td>True</td>\n      <td>PoW/PoS</td>\n      <td>NaN</td>\n      <td>2300000000</td>\n    </tr>\n    <tr>\n      <th>404</th>\n      <td>404Coin</td>\n      <td>Scrypt</td>\n      <td>True</td>\n      <td>PoW/PoS</td>\n      <td>1.055185e+09</td>\n      <td>532000000</td>\n    </tr>\n    <tr>\n      <th>611</th>\n      <td>SixEleven</td>\n      <td>SHA-256</td>\n      <td>True</td>\n      <td>PoW</td>\n      <td>NaN</td>\n      <td>611000</td>\n    </tr>\n    <tr>\n      <th>808</th>\n      <td>808</td>\n      <td>SHA-256</td>\n      <td>True</td>\n      <td>PoW/PoS</td>\n      <td>0.000000e+00</td>\n      <td>0</td>\n    </tr>\n    <tr>\n      <th>...</th>\n      <td>...</td>\n      <td>...</td>\n      <td>...</td>\n      <td>...</td>\n      <td>...</td>\n      <td>...</td>\n    </tr>\n    <tr>\n      <th>SERO</th>\n      <td>Super Zero</td>\n      <td>Ethash</td>\n      <td>True</td>\n      <td>PoW</td>\n      <td>NaN</td>\n      <td>1000000000</td>\n    </tr>\n    <tr>\n      <th>UOS</th>\n      <td>UOS</td>\n      <td>SHA-256</td>\n      <td>True</td>\n      <td>DPoI</td>\n      <td>NaN</td>\n      <td>1000000000</td>\n    </tr>\n    <tr>\n      <th>BDX</th>\n      <td>Beldex</td>\n      <td>CryptoNight</td>\n      <td>True</td>\n      <td>PoW</td>\n      <td>9.802226e+08</td>\n      <td>1400222610</td>\n    </tr>\n    <tr>\n      <th>ZEN</th>\n      <td>Horizen</td>\n      <td>Equihash</td>\n      <td>True</td>\n      <td>PoW</td>\n      <td>7.296538e+06</td>\n      <td>21000000</td>\n    </tr>\n    <tr>\n      <th>XBC</th>\n      <td>BitcoinPlus</td>\n      <td>Scrypt</td>\n      <td>True</td>\n      <td>PoS</td>\n      <td>1.283270e+05</td>\n      <td>1000000</td>\n    </tr>\n  </tbody>\n</table>\n<p>1144 rows × 6 columns</p>\n</div>"
     },
     "metadata": {},
     "execution_count": 16
    }
   ],
   "source": [
    "# Keep all the cryptocurrencies that are being traded.\n",
    "traded_crypto_df = crypto_df[crypto_df['IsTrading'] == True]\n",
    "traded_crypto_df"
   ]
  },
  {
   "cell_type": "code",
   "execution_count": 17,
   "metadata": {},
   "outputs": [
    {
     "output_type": "execute_result",
     "data": {
      "text/plain": [
       "         CoinName    Algorithm  IsTrading ProofType  TotalCoinsMined  \\\n",
       "42        42 Coin       Scrypt       True   PoW/PoS     4.199995e+01   \n",
       "365       365Coin          X11       True   PoW/PoS              NaN   \n",
       "404       404Coin       Scrypt       True   PoW/PoS     1.055185e+09   \n",
       "611     SixEleven      SHA-256       True       PoW              NaN   \n",
       "808           808      SHA-256       True   PoW/PoS     0.000000e+00   \n",
       "...           ...          ...        ...       ...              ...   \n",
       "SERO   Super Zero       Ethash       True       PoW              NaN   \n",
       "UOS           UOS      SHA-256       True      DPoI              NaN   \n",
       "BDX        Beldex  CryptoNight       True       PoW     9.802226e+08   \n",
       "ZEN       Horizen     Equihash       True       PoW     7.296538e+06   \n",
       "XBC   BitcoinPlus       Scrypt       True       PoS     1.283270e+05   \n",
       "\n",
       "     TotalCoinSupply  \n",
       "42                42  \n",
       "365       2300000000  \n",
       "404        532000000  \n",
       "611           611000  \n",
       "808                0  \n",
       "...              ...  \n",
       "SERO      1000000000  \n",
       "UOS       1000000000  \n",
       "BDX       1400222610  \n",
       "ZEN         21000000  \n",
       "XBC          1000000  \n",
       "\n",
       "[1144 rows x 6 columns]"
      ],
      "text/html": "<div>\n<style scoped>\n    .dataframe tbody tr th:only-of-type {\n        vertical-align: middle;\n    }\n\n    .dataframe tbody tr th {\n        vertical-align: top;\n    }\n\n    .dataframe thead th {\n        text-align: right;\n    }\n</style>\n<table border=\"1\" class=\"dataframe\">\n  <thead>\n    <tr style=\"text-align: right;\">\n      <th></th>\n      <th>CoinName</th>\n      <th>Algorithm</th>\n      <th>IsTrading</th>\n      <th>ProofType</th>\n      <th>TotalCoinsMined</th>\n      <th>TotalCoinSupply</th>\n    </tr>\n  </thead>\n  <tbody>\n    <tr>\n      <th>42</th>\n      <td>42 Coin</td>\n      <td>Scrypt</td>\n      <td>True</td>\n      <td>PoW/PoS</td>\n      <td>4.199995e+01</td>\n      <td>42</td>\n    </tr>\n    <tr>\n      <th>365</th>\n      <td>365Coin</td>\n      <td>X11</td>\n      <td>True</td>\n      <td>PoW/PoS</td>\n      <td>NaN</td>\n      <td>2300000000</td>\n    </tr>\n    <tr>\n      <th>404</th>\n      <td>404Coin</td>\n      <td>Scrypt</td>\n      <td>True</td>\n      <td>PoW/PoS</td>\n      <td>1.055185e+09</td>\n      <td>532000000</td>\n    </tr>\n    <tr>\n      <th>611</th>\n      <td>SixEleven</td>\n      <td>SHA-256</td>\n      <td>True</td>\n      <td>PoW</td>\n      <td>NaN</td>\n      <td>611000</td>\n    </tr>\n    <tr>\n      <th>808</th>\n      <td>808</td>\n      <td>SHA-256</td>\n      <td>True</td>\n      <td>PoW/PoS</td>\n      <td>0.000000e+00</td>\n      <td>0</td>\n    </tr>\n    <tr>\n      <th>...</th>\n      <td>...</td>\n      <td>...</td>\n      <td>...</td>\n      <td>...</td>\n      <td>...</td>\n      <td>...</td>\n    </tr>\n    <tr>\n      <th>SERO</th>\n      <td>Super Zero</td>\n      <td>Ethash</td>\n      <td>True</td>\n      <td>PoW</td>\n      <td>NaN</td>\n      <td>1000000000</td>\n    </tr>\n    <tr>\n      <th>UOS</th>\n      <td>UOS</td>\n      <td>SHA-256</td>\n      <td>True</td>\n      <td>DPoI</td>\n      <td>NaN</td>\n      <td>1000000000</td>\n    </tr>\n    <tr>\n      <th>BDX</th>\n      <td>Beldex</td>\n      <td>CryptoNight</td>\n      <td>True</td>\n      <td>PoW</td>\n      <td>9.802226e+08</td>\n      <td>1400222610</td>\n    </tr>\n    <tr>\n      <th>ZEN</th>\n      <td>Horizen</td>\n      <td>Equihash</td>\n      <td>True</td>\n      <td>PoW</td>\n      <td>7.296538e+06</td>\n      <td>21000000</td>\n    </tr>\n    <tr>\n      <th>XBC</th>\n      <td>BitcoinPlus</td>\n      <td>Scrypt</td>\n      <td>True</td>\n      <td>PoS</td>\n      <td>1.283270e+05</td>\n      <td>1000000</td>\n    </tr>\n  </tbody>\n</table>\n<p>1144 rows × 6 columns</p>\n</div>"
     },
     "metadata": {},
     "execution_count": 17
    }
   ],
   "source": [
    "# Keep all the cryptocurrencies that have a working algorithm.\n",
    "working_algorithm_df = traded_crypto_df[traded_crypto_df['Algorithm'].notnull().notna()]\n",
    "working_algorithm_df"
   ]
  },
  {
   "cell_type": "code",
   "execution_count": 18,
   "metadata": {},
   "outputs": [
    {
     "output_type": "execute_result",
     "data": {
      "text/plain": [
       "         CoinName    Algorithm ProofType  TotalCoinsMined TotalCoinSupply\n",
       "42        42 Coin       Scrypt   PoW/PoS     4.199995e+01              42\n",
       "365       365Coin          X11   PoW/PoS              NaN      2300000000\n",
       "404       404Coin       Scrypt   PoW/PoS     1.055185e+09       532000000\n",
       "611     SixEleven      SHA-256       PoW              NaN          611000\n",
       "808           808      SHA-256   PoW/PoS     0.000000e+00               0\n",
       "...           ...          ...       ...              ...             ...\n",
       "SERO   Super Zero       Ethash       PoW              NaN      1000000000\n",
       "UOS           UOS      SHA-256      DPoI              NaN      1000000000\n",
       "BDX        Beldex  CryptoNight       PoW     9.802226e+08      1400222610\n",
       "ZEN       Horizen     Equihash       PoW     7.296538e+06        21000000\n",
       "XBC   BitcoinPlus       Scrypt       PoS     1.283270e+05         1000000\n",
       "\n",
       "[1144 rows x 5 columns]"
      ],
      "text/html": "<div>\n<style scoped>\n    .dataframe tbody tr th:only-of-type {\n        vertical-align: middle;\n    }\n\n    .dataframe tbody tr th {\n        vertical-align: top;\n    }\n\n    .dataframe thead th {\n        text-align: right;\n    }\n</style>\n<table border=\"1\" class=\"dataframe\">\n  <thead>\n    <tr style=\"text-align: right;\">\n      <th></th>\n      <th>CoinName</th>\n      <th>Algorithm</th>\n      <th>ProofType</th>\n      <th>TotalCoinsMined</th>\n      <th>TotalCoinSupply</th>\n    </tr>\n  </thead>\n  <tbody>\n    <tr>\n      <th>42</th>\n      <td>42 Coin</td>\n      <td>Scrypt</td>\n      <td>PoW/PoS</td>\n      <td>4.199995e+01</td>\n      <td>42</td>\n    </tr>\n    <tr>\n      <th>365</th>\n      <td>365Coin</td>\n      <td>X11</td>\n      <td>PoW/PoS</td>\n      <td>NaN</td>\n      <td>2300000000</td>\n    </tr>\n    <tr>\n      <th>404</th>\n      <td>404Coin</td>\n      <td>Scrypt</td>\n      <td>PoW/PoS</td>\n      <td>1.055185e+09</td>\n      <td>532000000</td>\n    </tr>\n    <tr>\n      <th>611</th>\n      <td>SixEleven</td>\n      <td>SHA-256</td>\n      <td>PoW</td>\n      <td>NaN</td>\n      <td>611000</td>\n    </tr>\n    <tr>\n      <th>808</th>\n      <td>808</td>\n      <td>SHA-256</td>\n      <td>PoW/PoS</td>\n      <td>0.000000e+00</td>\n      <td>0</td>\n    </tr>\n    <tr>\n      <th>...</th>\n      <td>...</td>\n      <td>...</td>\n      <td>...</td>\n      <td>...</td>\n      <td>...</td>\n    </tr>\n    <tr>\n      <th>SERO</th>\n      <td>Super Zero</td>\n      <td>Ethash</td>\n      <td>PoW</td>\n      <td>NaN</td>\n      <td>1000000000</td>\n    </tr>\n    <tr>\n      <th>UOS</th>\n      <td>UOS</td>\n      <td>SHA-256</td>\n      <td>DPoI</td>\n      <td>NaN</td>\n      <td>1000000000</td>\n    </tr>\n    <tr>\n      <th>BDX</th>\n      <td>Beldex</td>\n      <td>CryptoNight</td>\n      <td>PoW</td>\n      <td>9.802226e+08</td>\n      <td>1400222610</td>\n    </tr>\n    <tr>\n      <th>ZEN</th>\n      <td>Horizen</td>\n      <td>Equihash</td>\n      <td>PoW</td>\n      <td>7.296538e+06</td>\n      <td>21000000</td>\n    </tr>\n    <tr>\n      <th>XBC</th>\n      <td>BitcoinPlus</td>\n      <td>Scrypt</td>\n      <td>PoS</td>\n      <td>1.283270e+05</td>\n      <td>1000000</td>\n    </tr>\n  </tbody>\n</table>\n<p>1144 rows × 5 columns</p>\n</div>"
     },
     "metadata": {},
     "execution_count": 18
    }
   ],
   "source": [
    "# Remove the \"IsTrading\" column. \n",
    "drop_trading_df = working_algorithm_df.drop(columns=[\"IsTrading\"])\n",
    "drop_trading_df"
   ]
  },
  {
   "cell_type": "code",
   "execution_count": 20,
   "metadata": {},
   "outputs": [
    {
     "output_type": "execute_result",
     "data": {
      "text/plain": [
       "         CoinName    Algorithm ProofType  TotalCoinsMined TotalCoinSupply\n",
       "42        42 Coin       Scrypt   PoW/PoS     4.199995e+01              42\n",
       "404       404Coin       Scrypt   PoW/PoS     1.055185e+09       532000000\n",
       "808           808      SHA-256   PoW/PoS     0.000000e+00               0\n",
       "1337    EliteCoin          X13   PoW/PoS     2.927942e+10    314159265359\n",
       "BTC       Bitcoin      SHA-256       PoW     1.792718e+07        21000000\n",
       "...           ...          ...       ...              ...             ...\n",
       "ZEPH       ZEPHYR      SHA-256      DPoS     2.000000e+09      2000000000\n",
       "GAP       Gapcoin       Scrypt   PoW/PoS     1.493105e+07       250000000\n",
       "BDX        Beldex  CryptoNight       PoW     9.802226e+08      1400222610\n",
       "ZEN       Horizen     Equihash       PoW     7.296538e+06        21000000\n",
       "XBC   BitcoinPlus       Scrypt       PoS     1.283270e+05         1000000\n",
       "\n",
       "[685 rows x 5 columns]"
      ],
      "text/html": "<div>\n<style scoped>\n    .dataframe tbody tr th:only-of-type {\n        vertical-align: middle;\n    }\n\n    .dataframe tbody tr th {\n        vertical-align: top;\n    }\n\n    .dataframe thead th {\n        text-align: right;\n    }\n</style>\n<table border=\"1\" class=\"dataframe\">\n  <thead>\n    <tr style=\"text-align: right;\">\n      <th></th>\n      <th>CoinName</th>\n      <th>Algorithm</th>\n      <th>ProofType</th>\n      <th>TotalCoinsMined</th>\n      <th>TotalCoinSupply</th>\n    </tr>\n  </thead>\n  <tbody>\n    <tr>\n      <th>42</th>\n      <td>42 Coin</td>\n      <td>Scrypt</td>\n      <td>PoW/PoS</td>\n      <td>4.199995e+01</td>\n      <td>42</td>\n    </tr>\n    <tr>\n      <th>404</th>\n      <td>404Coin</td>\n      <td>Scrypt</td>\n      <td>PoW/PoS</td>\n      <td>1.055185e+09</td>\n      <td>532000000</td>\n    </tr>\n    <tr>\n      <th>808</th>\n      <td>808</td>\n      <td>SHA-256</td>\n      <td>PoW/PoS</td>\n      <td>0.000000e+00</td>\n      <td>0</td>\n    </tr>\n    <tr>\n      <th>1337</th>\n      <td>EliteCoin</td>\n      <td>X13</td>\n      <td>PoW/PoS</td>\n      <td>2.927942e+10</td>\n      <td>314159265359</td>\n    </tr>\n    <tr>\n      <th>BTC</th>\n      <td>Bitcoin</td>\n      <td>SHA-256</td>\n      <td>PoW</td>\n      <td>1.792718e+07</td>\n      <td>21000000</td>\n    </tr>\n    <tr>\n      <th>...</th>\n      <td>...</td>\n      <td>...</td>\n      <td>...</td>\n      <td>...</td>\n      <td>...</td>\n    </tr>\n    <tr>\n      <th>ZEPH</th>\n      <td>ZEPHYR</td>\n      <td>SHA-256</td>\n      <td>DPoS</td>\n      <td>2.000000e+09</td>\n      <td>2000000000</td>\n    </tr>\n    <tr>\n      <th>GAP</th>\n      <td>Gapcoin</td>\n      <td>Scrypt</td>\n      <td>PoW/PoS</td>\n      <td>1.493105e+07</td>\n      <td>250000000</td>\n    </tr>\n    <tr>\n      <th>BDX</th>\n      <td>Beldex</td>\n      <td>CryptoNight</td>\n      <td>PoW</td>\n      <td>9.802226e+08</td>\n      <td>1400222610</td>\n    </tr>\n    <tr>\n      <th>ZEN</th>\n      <td>Horizen</td>\n      <td>Equihash</td>\n      <td>PoW</td>\n      <td>7.296538e+06</td>\n      <td>21000000</td>\n    </tr>\n    <tr>\n      <th>XBC</th>\n      <td>BitcoinPlus</td>\n      <td>Scrypt</td>\n      <td>PoS</td>\n      <td>1.283270e+05</td>\n      <td>1000000</td>\n    </tr>\n  </tbody>\n</table>\n<p>685 rows × 5 columns</p>\n</div>"
     },
     "metadata": {},
     "execution_count": 20
    }
   ],
   "source": [
    "# Remove rows that have at least 1 null value.\n",
    "clean_df = drop_trading_df.dropna()\n",
    "clean_df"
   ]
  },
  {
   "cell_type": "code",
   "execution_count": 22,
   "metadata": {},
   "outputs": [
    {
     "output_type": "execute_result",
     "data": {
      "text/plain": [
       "         CoinName    Algorithm ProofType  TotalCoinsMined TotalCoinSupply\n",
       "42        42 Coin       Scrypt   PoW/PoS     4.199995e+01              42\n",
       "404       404Coin       Scrypt   PoW/PoS     1.055185e+09       532000000\n",
       "1337    EliteCoin          X13   PoW/PoS     2.927942e+10    314159265359\n",
       "BTC       Bitcoin      SHA-256       PoW     1.792718e+07        21000000\n",
       "ETH      Ethereum       Ethash       PoW     1.076842e+08               0\n",
       "...           ...          ...       ...              ...             ...\n",
       "ZEPH       ZEPHYR      SHA-256      DPoS     2.000000e+09      2000000000\n",
       "GAP       Gapcoin       Scrypt   PoW/PoS     1.493105e+07       250000000\n",
       "BDX        Beldex  CryptoNight       PoW     9.802226e+08      1400222610\n",
       "ZEN       Horizen     Equihash       PoW     7.296538e+06        21000000\n",
       "XBC   BitcoinPlus       Scrypt       PoS     1.283270e+05         1000000\n",
       "\n",
       "[532 rows x 5 columns]"
      ],
      "text/html": "<div>\n<style scoped>\n    .dataframe tbody tr th:only-of-type {\n        vertical-align: middle;\n    }\n\n    .dataframe tbody tr th {\n        vertical-align: top;\n    }\n\n    .dataframe thead th {\n        text-align: right;\n    }\n</style>\n<table border=\"1\" class=\"dataframe\">\n  <thead>\n    <tr style=\"text-align: right;\">\n      <th></th>\n      <th>CoinName</th>\n      <th>Algorithm</th>\n      <th>ProofType</th>\n      <th>TotalCoinsMined</th>\n      <th>TotalCoinSupply</th>\n    </tr>\n  </thead>\n  <tbody>\n    <tr>\n      <th>42</th>\n      <td>42 Coin</td>\n      <td>Scrypt</td>\n      <td>PoW/PoS</td>\n      <td>4.199995e+01</td>\n      <td>42</td>\n    </tr>\n    <tr>\n      <th>404</th>\n      <td>404Coin</td>\n      <td>Scrypt</td>\n      <td>PoW/PoS</td>\n      <td>1.055185e+09</td>\n      <td>532000000</td>\n    </tr>\n    <tr>\n      <th>1337</th>\n      <td>EliteCoin</td>\n      <td>X13</td>\n      <td>PoW/PoS</td>\n      <td>2.927942e+10</td>\n      <td>314159265359</td>\n    </tr>\n    <tr>\n      <th>BTC</th>\n      <td>Bitcoin</td>\n      <td>SHA-256</td>\n      <td>PoW</td>\n      <td>1.792718e+07</td>\n      <td>21000000</td>\n    </tr>\n    <tr>\n      <th>ETH</th>\n      <td>Ethereum</td>\n      <td>Ethash</td>\n      <td>PoW</td>\n      <td>1.076842e+08</td>\n      <td>0</td>\n    </tr>\n    <tr>\n      <th>...</th>\n      <td>...</td>\n      <td>...</td>\n      <td>...</td>\n      <td>...</td>\n      <td>...</td>\n    </tr>\n    <tr>\n      <th>ZEPH</th>\n      <td>ZEPHYR</td>\n      <td>SHA-256</td>\n      <td>DPoS</td>\n      <td>2.000000e+09</td>\n      <td>2000000000</td>\n    </tr>\n    <tr>\n      <th>GAP</th>\n      <td>Gapcoin</td>\n      <td>Scrypt</td>\n      <td>PoW/PoS</td>\n      <td>1.493105e+07</td>\n      <td>250000000</td>\n    </tr>\n    <tr>\n      <th>BDX</th>\n      <td>Beldex</td>\n      <td>CryptoNight</td>\n      <td>PoW</td>\n      <td>9.802226e+08</td>\n      <td>1400222610</td>\n    </tr>\n    <tr>\n      <th>ZEN</th>\n      <td>Horizen</td>\n      <td>Equihash</td>\n      <td>PoW</td>\n      <td>7.296538e+06</td>\n      <td>21000000</td>\n    </tr>\n    <tr>\n      <th>XBC</th>\n      <td>BitcoinPlus</td>\n      <td>Scrypt</td>\n      <td>PoS</td>\n      <td>1.283270e+05</td>\n      <td>1000000</td>\n    </tr>\n  </tbody>\n</table>\n<p>532 rows × 5 columns</p>\n</div>"
     },
     "metadata": {},
     "execution_count": 22
    }
   ],
   "source": [
    "# Keep the rows where coins are mined.\n",
    "clean_df = clean_df[clean_df.TotalCoinsMined > 0]\n",
    "clean_df"
   ]
  },
  {
   "cell_type": "code",
   "execution_count": 23,
   "metadata": {},
   "outputs": [
    {
     "output_type": "execute_result",
     "data": {
      "text/plain": [
       "       CoinName\n",
       "42      42 Coin\n",
       "404     404Coin\n",
       "1337  EliteCoin\n",
       "BTC     Bitcoin\n",
       "ETH    Ethereum"
      ],
      "text/html": "<div>\n<style scoped>\n    .dataframe tbody tr th:only-of-type {\n        vertical-align: middle;\n    }\n\n    .dataframe tbody tr th {\n        vertical-align: top;\n    }\n\n    .dataframe thead th {\n        text-align: right;\n    }\n</style>\n<table border=\"1\" class=\"dataframe\">\n  <thead>\n    <tr style=\"text-align: right;\">\n      <th></th>\n      <th>CoinName</th>\n    </tr>\n  </thead>\n  <tbody>\n    <tr>\n      <th>42</th>\n      <td>42 Coin</td>\n    </tr>\n    <tr>\n      <th>404</th>\n      <td>404Coin</td>\n    </tr>\n    <tr>\n      <th>1337</th>\n      <td>EliteCoin</td>\n    </tr>\n    <tr>\n      <th>BTC</th>\n      <td>Bitcoin</td>\n    </tr>\n    <tr>\n      <th>ETH</th>\n      <td>Ethereum</td>\n    </tr>\n  </tbody>\n</table>\n</div>"
     },
     "metadata": {},
     "execution_count": 23
    }
   ],
   "source": [
    "# Create a new DataFrame that holds only the cryptocurrencies names.\n",
    "crypto_names = pd.DataFrame(clean_df, columns = [\"CoinName\"])\n",
    "crypto_names.head()"
   ]
  },
  {
   "cell_type": "code",
   "execution_count": 24,
   "metadata": {},
   "outputs": [
    {
     "output_type": "execute_result",
     "data": {
      "text/plain": [
       "           Algorithm ProofType  TotalCoinsMined TotalCoinSupply\n",
       "42            Scrypt   PoW/PoS     4.199995e+01              42\n",
       "404           Scrypt   PoW/PoS     1.055185e+09       532000000\n",
       "1337             X13   PoW/PoS     2.927942e+10    314159265359\n",
       "BTC          SHA-256       PoW     1.792718e+07        21000000\n",
       "ETH           Ethash       PoW     1.076842e+08               0\n",
       "LTC           Scrypt       PoW     6.303924e+07        84000000\n",
       "DASH             X11   PoW/PoS     9.031294e+06        22000000\n",
       "XMR   CryptoNight-V7       PoW     1.720114e+07               0\n",
       "ETC           Ethash       PoW     1.133597e+08       210000000\n",
       "ZEC         Equihash       PoW     7.383056e+06        21000000"
      ],
      "text/html": "<div>\n<style scoped>\n    .dataframe tbody tr th:only-of-type {\n        vertical-align: middle;\n    }\n\n    .dataframe tbody tr th {\n        vertical-align: top;\n    }\n\n    .dataframe thead th {\n        text-align: right;\n    }\n</style>\n<table border=\"1\" class=\"dataframe\">\n  <thead>\n    <tr style=\"text-align: right;\">\n      <th></th>\n      <th>Algorithm</th>\n      <th>ProofType</th>\n      <th>TotalCoinsMined</th>\n      <th>TotalCoinSupply</th>\n    </tr>\n  </thead>\n  <tbody>\n    <tr>\n      <th>42</th>\n      <td>Scrypt</td>\n      <td>PoW/PoS</td>\n      <td>4.199995e+01</td>\n      <td>42</td>\n    </tr>\n    <tr>\n      <th>404</th>\n      <td>Scrypt</td>\n      <td>PoW/PoS</td>\n      <td>1.055185e+09</td>\n      <td>532000000</td>\n    </tr>\n    <tr>\n      <th>1337</th>\n      <td>X13</td>\n      <td>PoW/PoS</td>\n      <td>2.927942e+10</td>\n      <td>314159265359</td>\n    </tr>\n    <tr>\n      <th>BTC</th>\n      <td>SHA-256</td>\n      <td>PoW</td>\n      <td>1.792718e+07</td>\n      <td>21000000</td>\n    </tr>\n    <tr>\n      <th>ETH</th>\n      <td>Ethash</td>\n      <td>PoW</td>\n      <td>1.076842e+08</td>\n      <td>0</td>\n    </tr>\n    <tr>\n      <th>LTC</th>\n      <td>Scrypt</td>\n      <td>PoW</td>\n      <td>6.303924e+07</td>\n      <td>84000000</td>\n    </tr>\n    <tr>\n      <th>DASH</th>\n      <td>X11</td>\n      <td>PoW/PoS</td>\n      <td>9.031294e+06</td>\n      <td>22000000</td>\n    </tr>\n    <tr>\n      <th>XMR</th>\n      <td>CryptoNight-V7</td>\n      <td>PoW</td>\n      <td>1.720114e+07</td>\n      <td>0</td>\n    </tr>\n    <tr>\n      <th>ETC</th>\n      <td>Ethash</td>\n      <td>PoW</td>\n      <td>1.133597e+08</td>\n      <td>210000000</td>\n    </tr>\n    <tr>\n      <th>ZEC</th>\n      <td>Equihash</td>\n      <td>PoW</td>\n      <td>7.383056e+06</td>\n      <td>21000000</td>\n    </tr>\n  </tbody>\n</table>\n</div>"
     },
     "metadata": {},
     "execution_count": 24
    }
   ],
   "source": [
    "# Drop the 'CoinName' column since it's not going to be used on the clustering algorithm.\n",
    "clean_df = clean_df.drop(['CoinName'], axis=1)\n",
    "clean_df.head(10)"
   ]
  },
  {
   "cell_type": "code",
   "execution_count": 26,
   "metadata": {},
   "outputs": [
    {
     "output_type": "execute_result",
     "data": {
      "text/plain": [
       "      TotalCoinsMined TotalCoinSupply  Algorithm_1GB AES Pattern Search  \\\n",
       "42       4.199995e+01              42                                 0   \n",
       "404      1.055185e+09       532000000                                 0   \n",
       "1337     2.927942e+10    314159265359                                 0   \n",
       "BTC      1.792718e+07        21000000                                 0   \n",
       "ETH      1.076842e+08               0                                 0   \n",
       "...               ...             ...                               ...   \n",
       "ZEPH     2.000000e+09      2000000000                                 0   \n",
       "GAP      1.493105e+07       250000000                                 0   \n",
       "BDX      9.802226e+08      1400222610                                 0   \n",
       "ZEN      7.296538e+06        21000000                                 0   \n",
       "XBC      1.283270e+05         1000000                                 0   \n",
       "\n",
       "      Algorithm_536  Algorithm_Argon2d  Algorithm_BLAKE256  Algorithm_Blake  \\\n",
       "42                0                  0                   0                0   \n",
       "404               0                  0                   0                0   \n",
       "1337              0                  0                   0                0   \n",
       "BTC               0                  0                   0                0   \n",
       "ETH               0                  0                   0                0   \n",
       "...             ...                ...                 ...              ...   \n",
       "ZEPH              0                  0                   0                0   \n",
       "GAP               0                  0                   0                0   \n",
       "BDX               0                  0                   0                0   \n",
       "ZEN               0                  0                   0                0   \n",
       "XBC               0                  0                   0                0   \n",
       "\n",
       "      Algorithm_Blake2S  Algorithm_Blake2b  Algorithm_C11  ...  \\\n",
       "42                    0                  0              0  ...   \n",
       "404                   0                  0              0  ...   \n",
       "1337                  0                  0              0  ...   \n",
       "BTC                   0                  0              0  ...   \n",
       "ETH                   0                  0              0  ...   \n",
       "...                 ...                ...            ...  ...   \n",
       "ZEPH                  0                  0              0  ...   \n",
       "GAP                   0                  0              0  ...   \n",
       "BDX                   0                  0              0  ...   \n",
       "ZEN                   0                  0              0  ...   \n",
       "XBC                   0                  0              0  ...   \n",
       "\n",
       "      ProofType_PoW/PoS  ProofType_PoW/PoS   ProofType_PoW/PoW  \\\n",
       "42                    1                   0                  0   \n",
       "404                   1                   0                  0   \n",
       "1337                  1                   0                  0   \n",
       "BTC                   0                   0                  0   \n",
       "ETH                   0                   0                  0   \n",
       "...                 ...                 ...                ...   \n",
       "ZEPH                  0                   0                  0   \n",
       "GAP                   1                   0                  0   \n",
       "BDX                   0                   0                  0   \n",
       "ZEN                   0                   0                  0   \n",
       "XBC                   0                   0                  0   \n",
       "\n",
       "      ProofType_PoW/nPoS  ProofType_Pos  ProofType_Proof of Authority  \\\n",
       "42                     0              0                             0   \n",
       "404                    0              0                             0   \n",
       "1337                   0              0                             0   \n",
       "BTC                    0              0                             0   \n",
       "ETH                    0              0                             0   \n",
       "...                  ...            ...                           ...   \n",
       "ZEPH                   0              0                             0   \n",
       "GAP                    0              0                             0   \n",
       "BDX                    0              0                             0   \n",
       "ZEN                    0              0                             0   \n",
       "XBC                    0              0                             0   \n",
       "\n",
       "      ProofType_Proof of Trust  ProofType_TPoS  \\\n",
       "42                           0               0   \n",
       "404                          0               0   \n",
       "1337                         0               0   \n",
       "BTC                          0               0   \n",
       "ETH                          0               0   \n",
       "...                        ...             ...   \n",
       "ZEPH                         0               0   \n",
       "GAP                          0               0   \n",
       "BDX                          0               0   \n",
       "ZEN                          0               0   \n",
       "XBC                          0               0   \n",
       "\n",
       "      ProofType_Zero-Knowledge Proof  ProofType_dPoW/PoW  \n",
       "42                                 0                   0  \n",
       "404                                0                   0  \n",
       "1337                               0                   0  \n",
       "BTC                                0                   0  \n",
       "ETH                                0                   0  \n",
       "...                              ...                 ...  \n",
       "ZEPH                               0                   0  \n",
       "GAP                                0                   0  \n",
       "BDX                                0                   0  \n",
       "ZEN                                0                   0  \n",
       "XBC                                0                   0  \n",
       "\n",
       "[532 rows x 98 columns]"
      ],
      "text/html": "<div>\n<style scoped>\n    .dataframe tbody tr th:only-of-type {\n        vertical-align: middle;\n    }\n\n    .dataframe tbody tr th {\n        vertical-align: top;\n    }\n\n    .dataframe thead th {\n        text-align: right;\n    }\n</style>\n<table border=\"1\" class=\"dataframe\">\n  <thead>\n    <tr style=\"text-align: right;\">\n      <th></th>\n      <th>TotalCoinsMined</th>\n      <th>TotalCoinSupply</th>\n      <th>Algorithm_1GB AES Pattern Search</th>\n      <th>Algorithm_536</th>\n      <th>Algorithm_Argon2d</th>\n      <th>Algorithm_BLAKE256</th>\n      <th>Algorithm_Blake</th>\n      <th>Algorithm_Blake2S</th>\n      <th>Algorithm_Blake2b</th>\n      <th>Algorithm_C11</th>\n      <th>...</th>\n      <th>ProofType_PoW/PoS</th>\n      <th>ProofType_PoW/PoS</th>\n      <th>ProofType_PoW/PoW</th>\n      <th>ProofType_PoW/nPoS</th>\n      <th>ProofType_Pos</th>\n      <th>ProofType_Proof of Authority</th>\n      <th>ProofType_Proof of Trust</th>\n      <th>ProofType_TPoS</th>\n      <th>ProofType_Zero-Knowledge Proof</th>\n      <th>ProofType_dPoW/PoW</th>\n    </tr>\n  </thead>\n  <tbody>\n    <tr>\n      <th>42</th>\n      <td>4.199995e+01</td>\n      <td>42</td>\n      <td>0</td>\n      <td>0</td>\n      <td>0</td>\n      <td>0</td>\n      <td>0</td>\n      <td>0</td>\n      <td>0</td>\n      <td>0</td>\n      <td>...</td>\n      <td>1</td>\n      <td>0</td>\n      <td>0</td>\n      <td>0</td>\n      <td>0</td>\n      <td>0</td>\n      <td>0</td>\n      <td>0</td>\n      <td>0</td>\n      <td>0</td>\n    </tr>\n    <tr>\n      <th>404</th>\n      <td>1.055185e+09</td>\n      <td>532000000</td>\n      <td>0</td>\n      <td>0</td>\n      <td>0</td>\n      <td>0</td>\n      <td>0</td>\n      <td>0</td>\n      <td>0</td>\n      <td>0</td>\n      <td>...</td>\n      <td>1</td>\n      <td>0</td>\n      <td>0</td>\n      <td>0</td>\n      <td>0</td>\n      <td>0</td>\n      <td>0</td>\n      <td>0</td>\n      <td>0</td>\n      <td>0</td>\n    </tr>\n    <tr>\n      <th>1337</th>\n      <td>2.927942e+10</td>\n      <td>314159265359</td>\n      <td>0</td>\n      <td>0</td>\n      <td>0</td>\n      <td>0</td>\n      <td>0</td>\n      <td>0</td>\n      <td>0</td>\n      <td>0</td>\n      <td>...</td>\n      <td>1</td>\n      <td>0</td>\n      <td>0</td>\n      <td>0</td>\n      <td>0</td>\n      <td>0</td>\n      <td>0</td>\n      <td>0</td>\n      <td>0</td>\n      <td>0</td>\n    </tr>\n    <tr>\n      <th>BTC</th>\n      <td>1.792718e+07</td>\n      <td>21000000</td>\n      <td>0</td>\n      <td>0</td>\n      <td>0</td>\n      <td>0</td>\n      <td>0</td>\n      <td>0</td>\n      <td>0</td>\n      <td>0</td>\n      <td>...</td>\n      <td>0</td>\n      <td>0</td>\n      <td>0</td>\n      <td>0</td>\n      <td>0</td>\n      <td>0</td>\n      <td>0</td>\n      <td>0</td>\n      <td>0</td>\n      <td>0</td>\n    </tr>\n    <tr>\n      <th>ETH</th>\n      <td>1.076842e+08</td>\n      <td>0</td>\n      <td>0</td>\n      <td>0</td>\n      <td>0</td>\n      <td>0</td>\n      <td>0</td>\n      <td>0</td>\n      <td>0</td>\n      <td>0</td>\n      <td>...</td>\n      <td>0</td>\n      <td>0</td>\n      <td>0</td>\n      <td>0</td>\n      <td>0</td>\n      <td>0</td>\n      <td>0</td>\n      <td>0</td>\n      <td>0</td>\n      <td>0</td>\n    </tr>\n    <tr>\n      <th>...</th>\n      <td>...</td>\n      <td>...</td>\n      <td>...</td>\n      <td>...</td>\n      <td>...</td>\n      <td>...</td>\n      <td>...</td>\n      <td>...</td>\n      <td>...</td>\n      <td>...</td>\n      <td>...</td>\n      <td>...</td>\n      <td>...</td>\n      <td>...</td>\n      <td>...</td>\n      <td>...</td>\n      <td>...</td>\n      <td>...</td>\n      <td>...</td>\n      <td>...</td>\n      <td>...</td>\n    </tr>\n    <tr>\n      <th>ZEPH</th>\n      <td>2.000000e+09</td>\n      <td>2000000000</td>\n      <td>0</td>\n      <td>0</td>\n      <td>0</td>\n      <td>0</td>\n      <td>0</td>\n      <td>0</td>\n      <td>0</td>\n      <td>0</td>\n      <td>...</td>\n      <td>0</td>\n      <td>0</td>\n      <td>0</td>\n      <td>0</td>\n      <td>0</td>\n      <td>0</td>\n      <td>0</td>\n      <td>0</td>\n      <td>0</td>\n      <td>0</td>\n    </tr>\n    <tr>\n      <th>GAP</th>\n      <td>1.493105e+07</td>\n      <td>250000000</td>\n      <td>0</td>\n      <td>0</td>\n      <td>0</td>\n      <td>0</td>\n      <td>0</td>\n      <td>0</td>\n      <td>0</td>\n      <td>0</td>\n      <td>...</td>\n      <td>1</td>\n      <td>0</td>\n      <td>0</td>\n      <td>0</td>\n      <td>0</td>\n      <td>0</td>\n      <td>0</td>\n      <td>0</td>\n      <td>0</td>\n      <td>0</td>\n    </tr>\n    <tr>\n      <th>BDX</th>\n      <td>9.802226e+08</td>\n      <td>1400222610</td>\n      <td>0</td>\n      <td>0</td>\n      <td>0</td>\n      <td>0</td>\n      <td>0</td>\n      <td>0</td>\n      <td>0</td>\n      <td>0</td>\n      <td>...</td>\n      <td>0</td>\n      <td>0</td>\n      <td>0</td>\n      <td>0</td>\n      <td>0</td>\n      <td>0</td>\n      <td>0</td>\n      <td>0</td>\n      <td>0</td>\n      <td>0</td>\n    </tr>\n    <tr>\n      <th>ZEN</th>\n      <td>7.296538e+06</td>\n      <td>21000000</td>\n      <td>0</td>\n      <td>0</td>\n      <td>0</td>\n      <td>0</td>\n      <td>0</td>\n      <td>0</td>\n      <td>0</td>\n      <td>0</td>\n      <td>...</td>\n      <td>0</td>\n      <td>0</td>\n      <td>0</td>\n      <td>0</td>\n      <td>0</td>\n      <td>0</td>\n      <td>0</td>\n      <td>0</td>\n      <td>0</td>\n      <td>0</td>\n    </tr>\n    <tr>\n      <th>XBC</th>\n      <td>1.283270e+05</td>\n      <td>1000000</td>\n      <td>0</td>\n      <td>0</td>\n      <td>0</td>\n      <td>0</td>\n      <td>0</td>\n      <td>0</td>\n      <td>0</td>\n      <td>0</td>\n      <td>...</td>\n      <td>0</td>\n      <td>0</td>\n      <td>0</td>\n      <td>0</td>\n      <td>0</td>\n      <td>0</td>\n      <td>0</td>\n      <td>0</td>\n      <td>0</td>\n      <td>0</td>\n    </tr>\n  </tbody>\n</table>\n<p>532 rows × 98 columns</p>\n</div>"
     },
     "metadata": {},
     "execution_count": 26
    }
   ],
   "source": [
    "# Use get_dummies() to create variables for text features.\n",
    "X = pd.get_dummies(clean_df, columns = ['Algorithm', 'ProofType'])\n",
    "X"
   ]
  },
  {
   "cell_type": "code",
   "execution_count": 27,
   "metadata": {},
   "outputs": [
    {
     "output_type": "stream",
     "name": "stdout",
     "text": [
      "[[-0.11710817 -0.1528703  -0.0433963  -0.0433963  -0.0433963  -0.06142951\n  -0.07530656 -0.0433963  -0.06142951 -0.06142951 -0.0433963  -0.0433963\n  -0.19245009 -0.06142951 -0.09740465 -0.0433963  -0.11547005 -0.07530656\n  -0.0433963  -0.0433963  -0.15191091 -0.0433963  -0.13118084 -0.0433963\n  -0.0433963  -0.08703883 -0.0433963  -0.0433963  -0.0433963  -0.0433963\n  -0.06142951 -0.0433963  -0.08703883 -0.08703883 -0.08703883 -0.0433963\n  -0.13118084 -0.13840913 -0.13840913 -0.0433963  -0.06142951 -0.0433963\n  -0.07530656 -0.18168574 -0.0433963  -0.0433963  -0.0433963  -0.07530656\n  -0.15826614 -0.31491833 -0.0433963  -0.08703883 -0.07530656 -0.06142951\n   1.38675049 -0.0433963  -0.0433963  -0.06142951 -0.0433963  -0.0433963\n  -0.0433963  -0.0433963  -0.0433963  -0.0433963  -0.0433963  -0.0433963\n  -0.39879994 -0.0433963  -0.18168574 -0.0433963  -0.08703883 -0.08703883\n  -0.10680283 -0.0433963  -0.13118084 -0.0433963  -0.0433963  -0.0433963\n  -0.0433963  -0.07530656 -0.43911856 -0.0433963  -0.06142951 -0.0433963\n  -0.0433963  -0.89632016 -0.0433963  -0.0433963   1.42222617 -0.0433963\n  -0.0433963  -0.0433963  -0.0433963  -0.0433963  -0.0433963  -0.0433963\n  -0.0433963  -0.0433963 ]\n [-0.09396955 -0.145009   -0.0433963  -0.0433963  -0.0433963  -0.06142951\n  -0.07530656 -0.0433963  -0.06142951 -0.06142951 -0.0433963  -0.0433963\n  -0.19245009 -0.06142951 -0.09740465 -0.0433963  -0.11547005 -0.07530656\n  -0.0433963  -0.0433963  -0.15191091 -0.0433963  -0.13118084 -0.0433963\n  -0.0433963  -0.08703883 -0.0433963  -0.0433963  -0.0433963  -0.0433963\n  -0.06142951 -0.0433963  -0.08703883 -0.08703883 -0.08703883 -0.0433963\n  -0.13118084 -0.13840913 -0.13840913 -0.0433963  -0.06142951 -0.0433963\n  -0.07530656 -0.18168574 -0.0433963  -0.0433963  -0.0433963  -0.07530656\n  -0.15826614 -0.31491833 -0.0433963  -0.08703883 -0.07530656 -0.06142951\n   1.38675049 -0.0433963  -0.0433963  -0.06142951 -0.0433963  -0.0433963\n  -0.0433963  -0.0433963  -0.0433963  -0.0433963  -0.0433963  -0.0433963\n  -0.39879994 -0.0433963  -0.18168574 -0.0433963  -0.08703883 -0.08703883\n  -0.10680283 -0.0433963  -0.13118084 -0.0433963  -0.0433963  -0.0433963\n  -0.0433963  -0.07530656 -0.43911856 -0.0433963  -0.06142951 -0.0433963\n  -0.0433963  -0.89632016 -0.0433963  -0.0433963   1.42222617 -0.0433963\n  -0.0433963  -0.0433963  -0.0433963  -0.0433963  -0.0433963  -0.0433963\n  -0.0433963  -0.0433963 ]\n [ 0.52494561  4.48942416 -0.0433963  -0.0433963  -0.0433963  -0.06142951\n  -0.07530656 -0.0433963  -0.06142951 -0.06142951 -0.0433963  -0.0433963\n  -0.19245009 -0.06142951 -0.09740465 -0.0433963  -0.11547005 -0.07530656\n  -0.0433963  -0.0433963  -0.15191091 -0.0433963  -0.13118084 -0.0433963\n  -0.0433963  -0.08703883 -0.0433963  -0.0433963  -0.0433963  -0.0433963\n  -0.06142951 -0.0433963  -0.08703883 -0.08703883 -0.08703883 -0.0433963\n  -0.13118084 -0.13840913 -0.13840913 -0.0433963  -0.06142951 -0.0433963\n  -0.07530656 -0.18168574 -0.0433963  -0.0433963  -0.0433963  -0.07530656\n  -0.15826614 -0.31491833 -0.0433963  -0.08703883 -0.07530656 -0.06142951\n  -0.72111026 -0.0433963  -0.0433963  -0.06142951 -0.0433963  -0.0433963\n  -0.0433963  -0.0433963  -0.0433963  -0.0433963  -0.0433963  -0.0433963\n  -0.39879994 -0.0433963   5.50400923 -0.0433963  -0.08703883 -0.08703883\n  -0.10680283 -0.0433963  -0.13118084 -0.0433963  -0.0433963  -0.0433963\n  -0.0433963  -0.07530656 -0.43911856 -0.0433963  -0.06142951 -0.0433963\n  -0.0433963  -0.89632016 -0.0433963  -0.0433963   1.42222617 -0.0433963\n  -0.0433963  -0.0433963  -0.0433963  -0.0433963  -0.0433963  -0.0433963\n  -0.0433963  -0.0433963 ]\n [-0.11671506 -0.15255998 -0.0433963  -0.0433963  -0.0433963  -0.06142951\n  -0.07530656 -0.0433963  -0.06142951 -0.06142951 -0.0433963  -0.0433963\n  -0.19245009 -0.06142951 -0.09740465 -0.0433963  -0.11547005 -0.07530656\n  -0.0433963  -0.0433963  -0.15191091 -0.0433963  -0.13118084 -0.0433963\n  -0.0433963  -0.08703883 -0.0433963  -0.0433963  -0.0433963  -0.0433963\n  -0.06142951 -0.0433963  -0.08703883 -0.08703883 -0.08703883 -0.0433963\n  -0.13118084 -0.13840913 -0.13840913 -0.0433963  -0.06142951 -0.0433963\n  -0.07530656 -0.18168574 -0.0433963  -0.0433963  -0.0433963  -0.07530656\n  -0.15826614  3.17542648 -0.0433963  -0.08703883 -0.07530656 -0.06142951\n  -0.72111026 -0.0433963  -0.0433963  -0.06142951 -0.0433963  -0.0433963\n  -0.0433963  -0.0433963  -0.0433963  -0.0433963  -0.0433963  -0.0433963\n  -0.39879994 -0.0433963  -0.18168574 -0.0433963  -0.08703883 -0.08703883\n  -0.10680283 -0.0433963  -0.13118084 -0.0433963  -0.0433963  -0.0433963\n  -0.0433963  -0.07530656 -0.43911856 -0.0433963  -0.06142951 -0.0433963\n  -0.0433963   1.11567277 -0.0433963  -0.0433963  -0.70312305 -0.0433963\n  -0.0433963  -0.0433963  -0.0433963  -0.0433963  -0.0433963  -0.0433963\n  -0.0433963  -0.0433963 ]\n [-0.11474682 -0.1528703  -0.0433963  -0.0433963  -0.0433963  -0.06142951\n  -0.07530656 -0.0433963  -0.06142951 -0.06142951 -0.0433963  -0.0433963\n  -0.19245009 -0.06142951 -0.09740465 -0.0433963  -0.11547005 -0.07530656\n  -0.0433963  -0.0433963  -0.15191091 -0.0433963   7.62306442 -0.0433963\n  -0.0433963  -0.08703883 -0.0433963  -0.0433963  -0.0433963  -0.0433963\n  -0.06142951 -0.0433963  -0.08703883 -0.08703883 -0.08703883 -0.0433963\n  -0.13118084 -0.13840913 -0.13840913 -0.0433963  -0.06142951 -0.0433963\n  -0.07530656 -0.18168574 -0.0433963  -0.0433963  -0.0433963  -0.07530656\n  -0.15826614 -0.31491833 -0.0433963  -0.08703883 -0.07530656 -0.06142951\n  -0.72111026 -0.0433963  -0.0433963  -0.06142951 -0.0433963  -0.0433963\n  -0.0433963  -0.0433963  -0.0433963  -0.0433963  -0.0433963  -0.0433963\n  -0.39879994 -0.0433963  -0.18168574 -0.0433963  -0.08703883 -0.08703883\n  -0.10680283 -0.0433963  -0.13118084 -0.0433963  -0.0433963  -0.0433963\n  -0.0433963  -0.07530656 -0.43911856 -0.0433963  -0.06142951 -0.0433963\n  -0.0433963   1.11567277 -0.0433963  -0.0433963  -0.70312305 -0.0433963\n  -0.0433963  -0.0433963  -0.0433963  -0.0433963  -0.0433963  -0.0433963\n  -0.0433963  -0.0433963 ]]\n"
     ]
    }
   ],
   "source": [
    "# Standardize the data with StandardScaler().\n",
    "scaler = StandardScaler().fit_transform(X)\n",
    "print(scaler[0:5])"
   ]
  },
  {
   "cell_type": "markdown",
   "metadata": {},
   "source": [
    "### Deliverable 2: Reducing Data Dimensions Using PCA"
   ]
  },
  {
   "cell_type": "code",
   "execution_count": 28,
   "metadata": {},
   "outputs": [
    {
     "output_type": "execute_result",
     "data": {
      "text/plain": [
       "array([[-1.16293397e+10, -5.50257435e+08,  8.14727798e-01],\n",
       "       [-1.06408764e+10, -1.19785243e+09,  8.14483672e-01],\n",
       "       [ 2.75050695e+11,  1.31237019e+11,  9.89919327e-01],\n",
       "       ...,\n",
       "       [-9.92656677e+09, -6.98661475e+08, -7.41975180e-01],\n",
       "       [-1.16075059e+10, -5.46071504e+08, -7.13006715e-01],\n",
       "       [-1.16284097e+10, -5.49868345e+08,  2.25068679e-01]])"
      ]
     },
     "metadata": {},
     "execution_count": 28
    }
   ],
   "source": [
    "# Using PCA to reduce dimension to three principal components.\n",
    "pca = PCA(n_components=3)\n",
    "pca_df = pca.fit_transform(X)\n",
    "pca_df"
   ]
  },
  {
   "cell_type": "code",
   "execution_count": 29,
   "metadata": {},
   "outputs": [
    {
     "output_type": "execute_result",
     "data": {
      "text/plain": [
       "              PC 1          PC 2      PC 3\n",
       "42   -1.162934e+10 -5.502574e+08  0.814728\n",
       "404  -1.064088e+10 -1.197852e+09  0.814484\n",
       "1337  2.750507e+11  1.312370e+11  0.989919\n",
       "BTC  -1.160219e+10 -5.552767e+08 -0.712858\n",
       "ETH  -1.157548e+10 -6.435026e+08 -0.706031\n",
       "LTC  -1.152507e+10 -5.628276e+08 -0.574821\n",
       "DASH -1.160577e+10 -5.470735e+08  0.773963\n",
       "XMR  -1.162074e+10 -5.651521e+08 -0.696025\n",
       "ETC  -1.139080e+10 -5.433762e+08 -0.705865\n",
       "ZEC  -1.160746e+10 -5.461464e+08 -0.713007"
      ],
      "text/html": "<div>\n<style scoped>\n    .dataframe tbody tr th:only-of-type {\n        vertical-align: middle;\n    }\n\n    .dataframe tbody tr th {\n        vertical-align: top;\n    }\n\n    .dataframe thead th {\n        text-align: right;\n    }\n</style>\n<table border=\"1\" class=\"dataframe\">\n  <thead>\n    <tr style=\"text-align: right;\">\n      <th></th>\n      <th>PC 1</th>\n      <th>PC 2</th>\n      <th>PC 3</th>\n    </tr>\n  </thead>\n  <tbody>\n    <tr>\n      <th>42</th>\n      <td>-1.162934e+10</td>\n      <td>-5.502574e+08</td>\n      <td>0.814728</td>\n    </tr>\n    <tr>\n      <th>404</th>\n      <td>-1.064088e+10</td>\n      <td>-1.197852e+09</td>\n      <td>0.814484</td>\n    </tr>\n    <tr>\n      <th>1337</th>\n      <td>2.750507e+11</td>\n      <td>1.312370e+11</td>\n      <td>0.989919</td>\n    </tr>\n    <tr>\n      <th>BTC</th>\n      <td>-1.160219e+10</td>\n      <td>-5.552767e+08</td>\n      <td>-0.712858</td>\n    </tr>\n    <tr>\n      <th>ETH</th>\n      <td>-1.157548e+10</td>\n      <td>-6.435026e+08</td>\n      <td>-0.706031</td>\n    </tr>\n    <tr>\n      <th>LTC</th>\n      <td>-1.152507e+10</td>\n      <td>-5.628276e+08</td>\n      <td>-0.574821</td>\n    </tr>\n    <tr>\n      <th>DASH</th>\n      <td>-1.160577e+10</td>\n      <td>-5.470735e+08</td>\n      <td>0.773963</td>\n    </tr>\n    <tr>\n      <th>XMR</th>\n      <td>-1.162074e+10</td>\n      <td>-5.651521e+08</td>\n      <td>-0.696025</td>\n    </tr>\n    <tr>\n      <th>ETC</th>\n      <td>-1.139080e+10</td>\n      <td>-5.433762e+08</td>\n      <td>-0.705865</td>\n    </tr>\n    <tr>\n      <th>ZEC</th>\n      <td>-1.160746e+10</td>\n      <td>-5.461464e+08</td>\n      <td>-0.713007</td>\n    </tr>\n  </tbody>\n</table>\n</div>"
     },
     "metadata": {},
     "execution_count": 29
    }
   ],
   "source": [
    "# Create a DataFrame with the three principal components.\n",
    "pcs_df = pd.DataFrame(pca_df, columns=[\"PC 1\", \"PC 2\", \"PC 3\"], index=X.index)\n",
    "pcs_df.head(10)"
   ]
  },
  {
   "cell_type": "markdown",
   "metadata": {},
   "source": [
    "### Deliverable 3: Clustering Crytocurrencies Using K-Means\n",
    "\n",
    "#### Finding the Best Value for `k` Using the Elbow Curve"
   ]
  },
  {
   "cell_type": "code",
   "execution_count": 30,
   "metadata": {},
   "outputs": [
    {
     "output_type": "display_data",
     "data": {},
     "metadata": {}
    },
    {
     "output_type": "execute_result",
     "data": {
      "text/html": "<div id='1001'>\n\n\n\n\n\n  <div class=\"bk-root\" id=\"2f10cf03-0730-4b9c-b9c4-ddc7446a4bb5\" data-root-id=\"1001\"></div>\n</div>\n<script type=\"application/javascript\">(function(root) {\n  function embed_document(root) {\n    var docs_json = {\"59fa3f82-3b34-4263-b0b0-286529bbc637\":{\"roots\":{\"references\":[{\"attributes\":{},\"id\":\"1023\",\"type\":\"SaveTool\"},{\"attributes\":{},\"id\":\"1037\",\"type\":\"Selection\"},{\"attributes\":{},\"id\":\"1024\",\"type\":\"PanTool\"},{\"attributes\":{},\"id\":\"1027\",\"type\":\"ResetTool\"},{\"attributes\":{\"end\":10.0,\"reset_end\":10.0,\"reset_start\":1.0,\"start\":1.0,\"tags\":[[[\"k\",\"k\",null]]]},\"id\":\"1003\",\"type\":\"Range1d\"},{\"attributes\":{},\"id\":\"1025\",\"type\":\"WheelZoomTool\"},{\"attributes\":{\"margin\":[5,5,5,5],\"name\":\"HSpacer01539\",\"sizing_mode\":\"stretch_width\"},\"id\":\"1065\",\"type\":\"Spacer\"},{\"attributes\":{},\"id\":\"1056\",\"type\":\"UnionRenderers\"},{\"attributes\":{},\"id\":\"1011\",\"type\":\"LinearScale\"},{\"attributes\":{\"overlay\":{\"id\":\"1028\"}},\"id\":\"1026\",\"type\":\"BoxZoomTool\"},{\"attributes\":{},\"id\":\"1045\",\"type\":\"BasicTickFormatter\"},{\"attributes\":{\"axis_label\":\"k\",\"bounds\":\"auto\",\"formatter\":{\"id\":\"1045\"},\"major_label_orientation\":\"horizontal\",\"ticker\":{\"id\":\"1044\"}},\"id\":\"1015\",\"type\":\"LinearAxis\"},{\"attributes\":{},\"id\":\"1013\",\"type\":\"LinearScale\"},{\"attributes\":{\"children\":[{\"id\":\"1002\"},{\"id\":\"1006\"},{\"id\":\"1065\"}],\"margin\":[0,0,0,0],\"name\":\"Row01534\",\"tags\":[\"embedded\"]},\"id\":\"1001\",\"type\":\"Row\"},{\"attributes\":{\"end\":3.894838334637959e+24,\"reset_end\":3.894838334637959e+24,\"reset_start\":-3.303541038930209e+23,\"start\":-3.303541038930209e+23,\"tags\":[[[\"inertia\",\"inertia\",null]]]},\"id\":\"1004\",\"type\":\"Range1d\"},{\"attributes\":{},\"id\":\"1049\",\"type\":\"BasicTickFormatter\"},{\"attributes\":{\"axis_label\":\"inertia\",\"bounds\":\"auto\",\"formatter\":{\"id\":\"1049\"},\"major_label_orientation\":\"horizontal\",\"ticker\":{\"id\":\"1020\"}},\"id\":\"1019\",\"type\":\"LinearAxis\"},{\"attributes\":{\"margin\":[5,5,5,5],\"name\":\"HSpacer01538\",\"sizing_mode\":\"stretch_width\"},\"id\":\"1002\",\"type\":\"Spacer\"},{\"attributes\":{\"axis\":{\"id\":\"1015\"},\"grid_line_color\":null,\"ticker\":null},\"id\":\"1018\",\"type\":\"Grid\"},{\"attributes\":{\"callback\":null,\"renderers\":[{\"id\":\"1042\"}],\"tags\":[\"hv_created\"],\"tooltips\":[[\"k\",\"@{k}\"],[\"inertia\",\"@{inertia}\"]]},\"id\":\"1005\",\"type\":\"HoverTool\"},{\"attributes\":{},\"id\":\"1020\",\"type\":\"BasicTicker\"},{\"attributes\":{\"data_source\":{\"id\":\"1036\"},\"glyph\":{\"id\":\"1039\"},\"hover_glyph\":null,\"muted_glyph\":{\"id\":\"1041\"},\"nonselection_glyph\":{\"id\":\"1040\"},\"selection_glyph\":null,\"view\":{\"id\":\"1043\"}},\"id\":\"1042\",\"type\":\"GlyphRenderer\"},{\"attributes\":{\"axis\":{\"id\":\"1019\"},\"dimension\":1,\"grid_line_color\":null,\"ticker\":null},\"id\":\"1022\",\"type\":\"Grid\"},{\"attributes\":{\"source\":{\"id\":\"1036\"}},\"id\":\"1043\",\"type\":\"CDSView\"},{\"attributes\":{\"line_alpha\":0.2,\"line_color\":\"#1f77b3\",\"line_width\":2,\"x\":{\"field\":\"k\"},\"y\":{\"field\":\"inertia\"}},\"id\":\"1041\",\"type\":\"Line\"},{\"attributes\":{\"data\":{\"inertia\":{\"__ndarray__\":\"kzDkHKJxB0VzyjNq9hfsREl3c5ToeeBECiF3S13yyUTDEbcJyDO7RBvwRsHOpLBEE/ObFzqPp0TFYc67DiShRO+CvDZPLplEeGemv0BrkkQ=\",\"dtype\":\"float64\",\"order\":\"little\",\"shape\":[10]},\"k\":[1,2,3,4,5,6,7,8,9,10]},\"selected\":{\"id\":\"1037\"},\"selection_policy\":{\"id\":\"1056\"}},\"id\":\"1036\",\"type\":\"ColumnDataSource\"},{\"attributes\":{\"ticks\":[1,2,3,4,5,6,7,8,9,10]},\"id\":\"1044\",\"type\":\"FixedTicker\"},{\"attributes\":{\"bottom_units\":\"screen\",\"fill_alpha\":0.5,\"fill_color\":\"lightgrey\",\"left_units\":\"screen\",\"level\":\"overlay\",\"line_alpha\":1.0,\"line_color\":\"black\",\"line_dash\":[4,4],\"line_width\":2,\"right_units\":\"screen\",\"top_units\":\"screen\"},\"id\":\"1028\",\"type\":\"BoxAnnotation\"},{\"attributes\":{\"text\":\"Elbow Curve\",\"text_color\":{\"value\":\"black\"},\"text_font_size\":{\"value\":\"12pt\"}},\"id\":\"1007\",\"type\":\"Title\"},{\"attributes\":{\"line_color\":\"#1f77b3\",\"line_width\":2,\"x\":{\"field\":\"k\"},\"y\":{\"field\":\"inertia\"}},\"id\":\"1039\",\"type\":\"Line\"},{\"attributes\":{\"active_drag\":\"auto\",\"active_inspect\":\"auto\",\"active_multi\":null,\"active_scroll\":\"auto\",\"active_tap\":\"auto\",\"tools\":[{\"id\":\"1005\"},{\"id\":\"1023\"},{\"id\":\"1024\"},{\"id\":\"1025\"},{\"id\":\"1026\"},{\"id\":\"1027\"}]},\"id\":\"1029\",\"type\":\"Toolbar\"},{\"attributes\":{\"below\":[{\"id\":\"1015\"}],\"center\":[{\"id\":\"1018\"},{\"id\":\"1022\"}],\"left\":[{\"id\":\"1019\"}],\"margin\":[5,5,5,5],\"min_border_bottom\":10,\"min_border_left\":10,\"min_border_right\":10,\"min_border_top\":10,\"plot_height\":300,\"plot_width\":700,\"renderers\":[{\"id\":\"1042\"}],\"sizing_mode\":\"fixed\",\"title\":{\"id\":\"1007\"},\"toolbar\":{\"id\":\"1029\"},\"x_range\":{\"id\":\"1003\"},\"x_scale\":{\"id\":\"1011\"},\"y_range\":{\"id\":\"1004\"},\"y_scale\":{\"id\":\"1013\"}},\"id\":\"1006\",\"subtype\":\"Figure\",\"type\":\"Plot\"},{\"attributes\":{\"line_alpha\":0.1,\"line_color\":\"#1f77b3\",\"line_width\":2,\"x\":{\"field\":\"k\"},\"y\":{\"field\":\"inertia\"}},\"id\":\"1040\",\"type\":\"Line\"}],\"root_ids\":[\"1001\"]},\"title\":\"Bokeh Application\",\"version\":\"2.2.3\"}};\n    var render_items = [{\"docid\":\"59fa3f82-3b34-4263-b0b0-286529bbc637\",\"root_ids\":[\"1001\"],\"roots\":{\"1001\":\"2f10cf03-0730-4b9c-b9c4-ddc7446a4bb5\"}}];\n    root.Bokeh.embed.embed_items_notebook(docs_json, render_items);\n  }\n  if (root.Bokeh !== undefined && root.Bokeh.Panel !== undefined) {\n    embed_document(root);\n  } else {\n    var attempts = 0;\n    var timer = setInterval(function(root) {\n      if (root.Bokeh !== undefined && root.Bokeh.Panel !== undefined) {\n        clearInterval(timer);\n        embed_document(root);\n      } else if (document.readyState == \"complete\") {\n        attempts++;\n        if (attempts > 100) {\n          clearInterval(timer);\n          console.log(\"Bokeh: ERROR: Unable to run BokehJS code because BokehJS library is missing\");\n        }\n      }\n    }, 10, root)\n  }\n})(window);</script>",
      "application/vnd.holoviews_exec.v0+json": "",
      "text/plain": [
       ":Curve   [k]   (inertia)"
      ]
     },
     "metadata": {
      "application/vnd.holoviews_exec.v0+json": {
       "id": "1001"
      }
     },
     "execution_count": 30
    }
   ],
   "source": [
    "# Create an elbow curve to find the best value for K.\n",
    "inertia = []\n",
    "k = list(range(1, 11))\n",
    "\n",
    "# Calculate the inertia for the range of K values\n",
    "for i in k:\n",
    "    km = KMeans(n_clusters=i, random_state=0)\n",
    "    km.fit(pcs_df)\n",
    "    inertia.append(km.inertia_)\n",
    "\n",
    "# Create the elbow curve\n",
    "elbow_data = {\"k\": k, \"inertia\": inertia}\n",
    "elbow_df = pd.DataFrame(elbow_data)\n",
    "elbow_df.hvplot.line(x=\"k\", y=\"inertia\", xticks=k, title=\"Elbow Curve\")\n"
   ]
  },
  {
   "cell_type": "markdown",
   "metadata": {},
   "source": [
    "Running K-Means with `k=4`"
   ]
  },
  {
   "cell_type": "code",
   "execution_count": 32,
   "metadata": {},
   "outputs": [
    {
     "output_type": "execute_result",
     "data": {
      "text/plain": [
       "array([0, 0, 3, 0, 0, 0, 0, 0, 0, 0, 0, 0, 0, 0, 0, 0, 0, 0, 0, 0, 0, 3,\n",
       "       0, 0, 0, 0, 0, 0, 0, 0, 0, 0, 0, 0, 0, 0, 0, 0, 0, 0, 0, 0, 0, 0,\n",
       "       0, 0, 0, 0, 0, 0, 0, 0, 0, 0, 0, 0, 0, 0, 0, 0, 0, 0, 0, 0, 0, 0,\n",
       "       0, 0, 0, 0, 0, 0, 0, 0, 0, 0, 0, 0, 0, 0, 0, 0, 0, 0, 0, 0, 0, 0,\n",
       "       0, 0, 0, 0, 0, 0, 0, 0, 0, 0, 3, 0, 0, 0, 0, 0, 0, 0, 0, 0, 0, 0,\n",
       "       0, 0, 0, 0, 0, 0, 0, 0, 0, 0, 0, 0, 0, 0, 0, 0, 0, 0, 0, 0, 0, 0,\n",
       "       0, 0, 0, 0, 0, 0, 0, 0, 0, 0, 0, 0, 0, 0, 0, 0, 0, 0, 0, 0, 0, 0,\n",
       "       0, 0, 0, 0, 0, 0, 0, 0, 0, 0, 0, 0, 0, 0, 0, 0, 0, 0, 0, 0, 0, 0,\n",
       "       0, 0, 0, 0, 0, 0, 0, 0, 0, 0, 0, 0, 0, 0, 0, 0, 0, 0, 0, 0, 0, 0,\n",
       "       0, 0, 0, 0, 0, 0, 0, 0, 0, 0, 0, 0, 0, 0, 0, 0, 0, 0, 0, 0, 0, 0,\n",
       "       0, 0, 0, 0, 0, 0, 0, 0, 0, 0, 0, 0, 0, 0, 0, 0, 0, 0, 0, 0, 0, 0,\n",
       "       0, 0, 0, 0, 0, 0, 0, 0, 0, 0, 0, 0, 0, 0, 0, 0, 0, 0, 0, 0, 0, 0,\n",
       "       0, 0, 0, 0, 0, 0, 0, 0, 0, 0, 0, 0, 0, 0, 0, 0, 0, 0, 0, 0, 0, 0,\n",
       "       0, 0, 0, 0, 0, 0, 0, 0, 3, 0, 0, 0, 0, 0, 0, 0, 0, 0, 0, 0, 0, 0,\n",
       "       0, 0, 0, 0, 0, 0, 0, 0, 0, 0, 0, 0, 0, 0, 0, 0, 0, 0, 0, 0, 0, 0,\n",
       "       0, 0, 0, 0, 0, 0, 0, 0, 0, 0, 0, 0, 0, 0, 0, 0, 0, 0, 0, 0, 0, 0,\n",
       "       0, 0, 0, 0, 0, 0, 0, 0, 0, 0, 0, 0, 0, 0, 0, 0, 0, 0, 2, 0, 0, 0,\n",
       "       0, 0, 0, 0, 0, 0, 0, 0, 0, 0, 0, 0, 0, 0, 0, 0, 0, 0, 0, 0, 0, 0,\n",
       "       0, 0, 0, 0, 0, 0, 0, 0, 0, 0, 0, 0, 0, 0, 0, 0, 0, 0, 0, 0, 0, 3,\n",
       "       0, 0, 0, 0, 0, 0, 0, 0, 0, 0, 0, 0, 0, 0, 0, 0, 0, 0, 0, 0, 0, 0,\n",
       "       0, 0, 0, 3, 0, 0, 0, 0, 0, 0, 0, 0, 0, 0, 0, 0, 0, 0, 0, 0, 0, 0,\n",
       "       0, 0, 0, 0, 0, 0, 0, 0, 0, 0, 0, 0, 0, 0, 0, 0, 0, 0, 0, 0, 0, 0,\n",
       "       0, 0, 0, 0, 0, 0, 0, 0, 0, 0, 0, 0, 0, 0, 0, 0, 0, 0, 0, 0, 0, 0,\n",
       "       0, 0, 0, 0, 0, 0, 0, 0, 0, 0, 0, 0, 0, 0, 0, 0, 0, 0, 0, 1, 0, 0,\n",
       "       0, 0, 0, 0])"
      ]
     },
     "metadata": {},
     "execution_count": 32
    }
   ],
   "source": [
    "# Initialize the K-Means model.\n",
    "model = KMeans(n_clusters=4, random_state=0)\n",
    "\n",
    "# Fit the model\n",
    "model.fit(pcs_df)\n",
    "\n",
    "# Predict clusters\n",
    "predictions = model.predict(pcs_df)\n",
    "predictions"
   ]
  },
  {
   "cell_type": "code",
   "execution_count": 36,
   "metadata": {},
   "outputs": [
    {
     "output_type": "stream",
     "name": "stdout",
     "text": [
      "(532, 9)\n"
     ]
    },
    {
     "output_type": "execute_result",
     "data": {
      "text/plain": [
       "           Algorithm ProofType  TotalCoinsMined TotalCoinSupply          PC 1  \\\n",
       "42            Scrypt   PoW/PoS     4.199995e+01              42 -1.162934e+10   \n",
       "404           Scrypt   PoW/PoS     1.055185e+09       532000000 -1.064088e+10   \n",
       "1337             X13   PoW/PoS     2.927942e+10    314159265359  2.750507e+11   \n",
       "BTC          SHA-256       PoW     1.792718e+07        21000000 -1.160219e+10   \n",
       "ETH           Ethash       PoW     1.076842e+08               0 -1.157548e+10   \n",
       "LTC           Scrypt       PoW     6.303924e+07        84000000 -1.152507e+10   \n",
       "DASH             X11   PoW/PoS     9.031294e+06        22000000 -1.160577e+10   \n",
       "XMR   CryptoNight-V7       PoW     1.720114e+07               0 -1.162074e+10   \n",
       "ETC           Ethash       PoW     1.133597e+08       210000000 -1.139080e+10   \n",
       "ZEC         Equihash       PoW     7.383056e+06        21000000 -1.160746e+10   \n",
       "\n",
       "              PC 2      PC 3          CoinName  Class  \n",
       "42   -5.502574e+08  0.814728           42 Coin      0  \n",
       "404  -1.197852e+09  0.814484           404Coin      0  \n",
       "1337  1.312370e+11  0.989919         EliteCoin      3  \n",
       "BTC  -5.552767e+08 -0.712858           Bitcoin      0  \n",
       "ETH  -6.435026e+08 -0.706031          Ethereum      0  \n",
       "LTC  -5.628276e+08 -0.574821          Litecoin      0  \n",
       "DASH -5.470735e+08  0.773963              Dash      0  \n",
       "XMR  -5.651521e+08 -0.696025            Monero      0  \n",
       "ETC  -5.433762e+08 -0.705865  Ethereum Classic      0  \n",
       "ZEC  -5.461464e+08 -0.713007             ZCash      0  "
      ],
      "text/html": "<div>\n<style scoped>\n    .dataframe tbody tr th:only-of-type {\n        vertical-align: middle;\n    }\n\n    .dataframe tbody tr th {\n        vertical-align: top;\n    }\n\n    .dataframe thead th {\n        text-align: right;\n    }\n</style>\n<table border=\"1\" class=\"dataframe\">\n  <thead>\n    <tr style=\"text-align: right;\">\n      <th></th>\n      <th>Algorithm</th>\n      <th>ProofType</th>\n      <th>TotalCoinsMined</th>\n      <th>TotalCoinSupply</th>\n      <th>PC 1</th>\n      <th>PC 2</th>\n      <th>PC 3</th>\n      <th>CoinName</th>\n      <th>Class</th>\n    </tr>\n  </thead>\n  <tbody>\n    <tr>\n      <th>42</th>\n      <td>Scrypt</td>\n      <td>PoW/PoS</td>\n      <td>4.199995e+01</td>\n      <td>42</td>\n      <td>-1.162934e+10</td>\n      <td>-5.502574e+08</td>\n      <td>0.814728</td>\n      <td>42 Coin</td>\n      <td>0</td>\n    </tr>\n    <tr>\n      <th>404</th>\n      <td>Scrypt</td>\n      <td>PoW/PoS</td>\n      <td>1.055185e+09</td>\n      <td>532000000</td>\n      <td>-1.064088e+10</td>\n      <td>-1.197852e+09</td>\n      <td>0.814484</td>\n      <td>404Coin</td>\n      <td>0</td>\n    </tr>\n    <tr>\n      <th>1337</th>\n      <td>X13</td>\n      <td>PoW/PoS</td>\n      <td>2.927942e+10</td>\n      <td>314159265359</td>\n      <td>2.750507e+11</td>\n      <td>1.312370e+11</td>\n      <td>0.989919</td>\n      <td>EliteCoin</td>\n      <td>3</td>\n    </tr>\n    <tr>\n      <th>BTC</th>\n      <td>SHA-256</td>\n      <td>PoW</td>\n      <td>1.792718e+07</td>\n      <td>21000000</td>\n      <td>-1.160219e+10</td>\n      <td>-5.552767e+08</td>\n      <td>-0.712858</td>\n      <td>Bitcoin</td>\n      <td>0</td>\n    </tr>\n    <tr>\n      <th>ETH</th>\n      <td>Ethash</td>\n      <td>PoW</td>\n      <td>1.076842e+08</td>\n      <td>0</td>\n      <td>-1.157548e+10</td>\n      <td>-6.435026e+08</td>\n      <td>-0.706031</td>\n      <td>Ethereum</td>\n      <td>0</td>\n    </tr>\n    <tr>\n      <th>LTC</th>\n      <td>Scrypt</td>\n      <td>PoW</td>\n      <td>6.303924e+07</td>\n      <td>84000000</td>\n      <td>-1.152507e+10</td>\n      <td>-5.628276e+08</td>\n      <td>-0.574821</td>\n      <td>Litecoin</td>\n      <td>0</td>\n    </tr>\n    <tr>\n      <th>DASH</th>\n      <td>X11</td>\n      <td>PoW/PoS</td>\n      <td>9.031294e+06</td>\n      <td>22000000</td>\n      <td>-1.160577e+10</td>\n      <td>-5.470735e+08</td>\n      <td>0.773963</td>\n      <td>Dash</td>\n      <td>0</td>\n    </tr>\n    <tr>\n      <th>XMR</th>\n      <td>CryptoNight-V7</td>\n      <td>PoW</td>\n      <td>1.720114e+07</td>\n      <td>0</td>\n      <td>-1.162074e+10</td>\n      <td>-5.651521e+08</td>\n      <td>-0.696025</td>\n      <td>Monero</td>\n      <td>0</td>\n    </tr>\n    <tr>\n      <th>ETC</th>\n      <td>Ethash</td>\n      <td>PoW</td>\n      <td>1.133597e+08</td>\n      <td>210000000</td>\n      <td>-1.139080e+10</td>\n      <td>-5.433762e+08</td>\n      <td>-0.705865</td>\n      <td>Ethereum Classic</td>\n      <td>0</td>\n    </tr>\n    <tr>\n      <th>ZEC</th>\n      <td>Equihash</td>\n      <td>PoW</td>\n      <td>7.383056e+06</td>\n      <td>21000000</td>\n      <td>-1.160746e+10</td>\n      <td>-5.461464e+08</td>\n      <td>-0.713007</td>\n      <td>ZCash</td>\n      <td>0</td>\n    </tr>\n  </tbody>\n</table>\n</div>"
     },
     "metadata": {},
     "execution_count": 36
    }
   ],
   "source": [
    "# Create a new DataFrame including predicted clusters and cryptocurrencies features.\n",
    "# Concatentate the crypto_df and pcs_df DataFrames on the same columns.\n",
    "clustered_df = pd.concat([clean_df, pcs_df], axis=1)\n",
    "\n",
    "#  Add a new column, \"CoinName\" to the clustered_df DataFrame that holds the names of the cryptocurrencies. \n",
    "clustered_df['CoinName'] = crypto_names['CoinName']\n",
    "\n",
    "#  Add a new column, \"Class\" to the clustered_df DataFrame that holds the predictions.\n",
    "clustered_df['Class'] = model.labels_\n",
    "\n",
    "# Print the shape of the clustered_df\n",
    "print(clustered_df.shape)\n",
    "clustered_df.head(10)"
   ]
  },
  {
   "cell_type": "markdown",
   "metadata": {},
   "source": [
    "### Deliverable 4: Visualizing Cryptocurrencies Results\n",
    "\n",
    "#### 3D-Scatter with Clusters"
   ]
  },
  {
   "cell_type": "code",
   "execution_count": 37,
   "metadata": {},
   "outputs": [
    {
     "output_type": "display_data",
     "data": {
      "application/vnd.plotly.v1+json": {
       "config": {
        "plotlyServerURL": "https://plot.ly"
       },
       "data": [
        {
         "customdata": [
          [
           "Scrypt"
          ],
          [
           "Scrypt"
          ],
          [
           "SHA-256"
          ],
          [
           "Ethash"
          ],
          [
           "Scrypt"
          ],
          [
           "X11"
          ],
          [
           "CryptoNight-V7"
          ],
          [
           "Ethash"
          ],
          [
           "Equihash"
          ],
          [
           "SHA-512"
          ],
          [
           "Multiple"
          ],
          [
           "SHA-256"
          ],
          [
           "SHA-256"
          ],
          [
           "Scrypt"
          ],
          [
           "X15"
          ],
          [
           "X11"
          ],
          [
           "Scrypt"
          ],
          [
           "Scrypt"
          ],
          [
           "Scrypt"
          ],
          [
           "Multiple"
          ],
          [
           "SHA-256"
          ],
          [
           "Scrypt"
          ],
          [
           "Scrypt"
          ],
          [
           "Scrypt"
          ],
          [
           "Quark"
          ],
          [
           "Groestl"
          ],
          [
           "Scrypt"
          ],
          [
           "Scrypt"
          ],
          [
           "Scrypt"
          ],
          [
           "Scrypt"
          ],
          [
           "Scrypt"
          ],
          [
           "X11"
          ],
          [
           "Scrypt"
          ],
          [
           "Groestl"
          ],
          [
           "Multiple"
          ],
          [
           "SHA-256"
          ],
          [
           "Scrypt"
          ],
          [
           "Scrypt"
          ],
          [
           "Scrypt"
          ],
          [
           "Scrypt"
          ],
          [
           "PoS"
          ],
          [
           "Scrypt"
          ],
          [
           "Scrypt"
          ],
          [
           "NeoScrypt"
          ],
          [
           "Scrypt"
          ],
          [
           "Scrypt"
          ],
          [
           "Scrypt"
          ],
          [
           "Scrypt"
          ],
          [
           "X11"
          ],
          [
           "Scrypt"
          ],
          [
           "X11"
          ],
          [
           "SHA-256"
          ],
          [
           "Scrypt"
          ],
          [
           "Scrypt"
          ],
          [
           "Scrypt"
          ],
          [
           "SHA3"
          ],
          [
           "Scrypt"
          ],
          [
           "HybridScryptHash256"
          ],
          [
           "Scrypt"
          ],
          [
           "Scrypt"
          ],
          [
           "SHA-256"
          ],
          [
           "Scrypt"
          ],
          [
           "X13"
          ],
          [
           "Scrypt"
          ],
          [
           "SHA-256"
          ],
          [
           "Scrypt"
          ],
          [
           "X13"
          ],
          [
           "NeoScrypt"
          ],
          [
           "Scrypt"
          ],
          [
           "Scrypt"
          ],
          [
           "Scrypt"
          ],
          [
           "Scrypt"
          ],
          [
           "Scrypt"
          ],
          [
           "Scrypt"
          ],
          [
           "X11"
          ],
          [
           "X11"
          ],
          [
           "SHA-256"
          ],
          [
           "Multiple"
          ],
          [
           "SHA-256"
          ],
          [
           "PHI1612"
          ],
          [
           "X11"
          ],
          [
           "SHA-256"
          ],
          [
           "SHA-256"
          ],
          [
           "SHA-256"
          ],
          [
           "X11"
          ],
          [
           "Scrypt"
          ],
          [
           "Scrypt"
          ],
          [
           "Scrypt"
          ],
          [
           "Scrypt"
          ],
          [
           "Lyra2REv2"
          ],
          [
           "Scrypt"
          ],
          [
           "X11"
          ],
          [
           "Multiple"
          ],
          [
           "SHA-256"
          ],
          [
           "X13"
          ],
          [
           "Scrypt"
          ],
          [
           "CryptoNight"
          ],
          [
           "Shabal256"
          ],
          [
           "Counterparty"
          ],
          [
           "Scrypt"
          ],
          [
           "SHA-256"
          ],
          [
           "Groestl"
          ],
          [
           "Scrypt"
          ],
          [
           "Scrypt"
          ],
          [
           "Scrypt"
          ],
          [
           "X13"
          ],
          [
           "Scrypt"
          ],
          [
           "Scrypt"
          ],
          [
           "Scrypt"
          ],
          [
           "Scrypt"
          ],
          [
           "X13"
          ],
          [
           "Scrypt"
          ],
          [
           "Stanford Folding"
          ],
          [
           "X11"
          ],
          [
           "Multiple"
          ],
          [
           "QuBit"
          ],
          [
           "Scrypt"
          ],
          [
           "Scrypt"
          ],
          [
           "Scrypt"
          ],
          [
           "M7 POW"
          ],
          [
           "Scrypt"
          ],
          [
           "SHA-256"
          ],
          [
           "Scrypt"
          ],
          [
           "X11"
          ],
          [
           "SHA3"
          ],
          [
           "X11"
          ],
          [
           "Lyra2RE"
          ],
          [
           "SHA-256"
          ],
          [
           "QUAIT"
          ],
          [
           "X11"
          ],
          [
           "X11"
          ],
          [
           "Scrypt"
          ],
          [
           "Scrypt"
          ],
          [
           "Scrypt"
          ],
          [
           "Ethash"
          ],
          [
           "X13"
          ],
          [
           "Blake2b"
          ],
          [
           "SHA-256"
          ],
          [
           "X15"
          ],
          [
           "X11"
          ],
          [
           "SHA-256"
          ],
          [
           "BLAKE256"
          ],
          [
           "Scrypt"
          ],
          [
           "1GB AES Pattern Search"
          ],
          [
           "SHA-256"
          ],
          [
           "X11"
          ],
          [
           "Scrypt"
          ],
          [
           "SHA-256"
          ],
          [
           "SHA-256"
          ],
          [
           "NIST5"
          ],
          [
           "Scrypt"
          ],
          [
           "Scrypt"
          ],
          [
           "X11"
          ],
          [
           "Dagger"
          ],
          [
           "Scrypt"
          ],
          [
           "X11GOST"
          ],
          [
           "X11"
          ],
          [
           "Scrypt"
          ],
          [
           "SHA-256"
          ],
          [
           "Scrypt"
          ],
          [
           "PoS"
          ],
          [
           "Scrypt"
          ],
          [
           "X11"
          ],
          [
           "X11"
          ],
          [
           "SHA-256"
          ],
          [
           "SHA-256"
          ],
          [
           "NIST5"
          ],
          [
           "X11"
          ],
          [
           "Scrypt"
          ],
          [
           "POS 3.0"
          ],
          [
           "Scrypt"
          ],
          [
           "Scrypt"
          ],
          [
           "Scrypt"
          ],
          [
           "X13"
          ],
          [
           "X11"
          ],
          [
           "X11"
          ],
          [
           "Equihash"
          ],
          [
           "X11"
          ],
          [
           "Scrypt"
          ],
          [
           "CryptoNight"
          ],
          [
           "SHA-256"
          ],
          [
           "SHA-256"
          ],
          [
           "X11"
          ],
          [
           "Scrypt"
          ],
          [
           "Multiple"
          ],
          [
           "Scrypt"
          ],
          [
           "Scrypt"
          ],
          [
           "Scrypt"
          ],
          [
           "SHA-256"
          ],
          [
           "Scrypt"
          ],
          [
           "Scrypt"
          ],
          [
           "SHA-256D"
          ],
          [
           "PoS"
          ],
          [
           "Scrypt"
          ],
          [
           "X11"
          ],
          [
           "Lyra2Z"
          ],
          [
           "PoS"
          ],
          [
           "X13"
          ],
          [
           "X14"
          ],
          [
           "PoS"
          ],
          [
           "SHA-256D"
          ],
          [
           "Ethash"
          ],
          [
           "Equihash"
          ],
          [
           "DPoS"
          ],
          [
           "X11"
          ],
          [
           "Scrypt"
          ],
          [
           "X11"
          ],
          [
           "X13"
          ],
          [
           "X11"
          ],
          [
           "PoS"
          ],
          [
           "Scrypt"
          ],
          [
           "Scrypt"
          ],
          [
           "X11"
          ],
          [
           "PoS"
          ],
          [
           "X11"
          ],
          [
           "SHA-256"
          ],
          [
           "Scrypt"
          ],
          [
           "X11"
          ],
          [
           "Scrypt"
          ],
          [
           "Scrypt"
          ],
          [
           "X11"
          ],
          [
           "CryptoNight"
          ],
          [
           "Scrypt"
          ],
          [
           "Scrypt"
          ],
          [
           "Scrypt"
          ],
          [
           "Scrypt"
          ],
          [
           "Quark"
          ],
          [
           "QuBit"
          ],
          [
           "Scrypt"
          ],
          [
           "CryptoNight"
          ],
          [
           "Lyra2RE"
          ],
          [
           "Scrypt"
          ],
          [
           "SHA-256"
          ],
          [
           "X11"
          ],
          [
           "Scrypt"
          ],
          [
           "X11"
          ],
          [
           "Scrypt"
          ],
          [
           "CryptoNight-V7"
          ],
          [
           "Scrypt"
          ],
          [
           "Scrypt"
          ],
          [
           "Scrypt"
          ],
          [
           "X13"
          ],
          [
           "X11"
          ],
          [
           "Equihash"
          ],
          [
           "Scrypt"
          ],
          [
           "Scrypt"
          ],
          [
           "Lyra2RE"
          ],
          [
           "Scrypt"
          ],
          [
           "Dagger-Hashimoto"
          ],
          [
           "X11"
          ],
          [
           "Blake2S"
          ],
          [
           "X11"
          ],
          [
           "Scrypt"
          ],
          [
           "PoS"
          ],
          [
           "X11"
          ],
          [
           "NIST5"
          ],
          [
           "PoS"
          ],
          [
           "X11"
          ],
          [
           "Scrypt"
          ],
          [
           "Scrypt"
          ],
          [
           "Scrypt"
          ],
          [
           "SHA-256"
          ],
          [
           "X11"
          ],
          [
           "Scrypt"
          ],
          [
           "Scrypt"
          ],
          [
           "SHA-256"
          ],
          [
           "PoS"
          ],
          [
           "Scrypt"
          ],
          [
           "X15"
          ],
          [
           "SHA-256"
          ],
          [
           "Scrypt"
          ],
          [
           "POS 3.0"
          ],
          [
           "CryptoNight-V7"
          ],
          [
           "536"
          ],
          [
           "Argon2d"
          ],
          [
           "Blake2b"
          ],
          [
           "Cloverhash"
          ],
          [
           "CryptoNight"
          ],
          [
           "NIST5"
          ],
          [
           "X11"
          ],
          [
           "NIST5"
          ],
          [
           "Skein"
          ],
          [
           "Scrypt"
          ],
          [
           "X13"
          ],
          [
           "Scrypt"
          ],
          [
           "X11"
          ],
          [
           "X11"
          ],
          [
           "Scrypt"
          ],
          [
           "CryptoNight"
          ],
          [
           "X13"
          ],
          [
           "Time Travel"
          ],
          [
           "Keccak"
          ],
          [
           "SkunkHash v2 Raptor"
          ],
          [
           "X11"
          ],
          [
           "Skein"
          ],
          [
           "SHA-256"
          ],
          [
           "X11"
          ],
          [
           "Scrypt"
          ],
          [
           "VeChainThor Authority"
          ],
          [
           "Scrypt"
          ],
          [
           "PoS"
          ],
          [
           "Scrypt"
          ],
          [
           "Scrypt"
          ],
          [
           "Scrypt"
          ],
          [
           "Scrypt"
          ],
          [
           "Scrypt"
          ],
          [
           "Scrypt"
          ],
          [
           "Scrypt"
          ],
          [
           "CryptoNight"
          ],
          [
           "SHA-512"
          ],
          [
           "Ouroboros"
          ],
          [
           "X11"
          ],
          [
           "Equihash"
          ],
          [
           "NeoScrypt"
          ],
          [
           "X11"
          ],
          [
           "Scrypt"
          ],
          [
           "NeoScrypt"
          ],
          [
           "Lyra2REv2"
          ],
          [
           "Equihash"
          ],
          [
           "Scrypt"
          ],
          [
           "SHA-256"
          ],
          [
           "NIST5"
          ],
          [
           "PHI1612"
          ],
          [
           "Dagger"
          ],
          [
           "Scrypt"
          ],
          [
           "Quark"
          ],
          [
           "Scrypt"
          ],
          [
           "POS 2.0"
          ],
          [
           "Scrypt"
          ],
          [
           "SHA-256"
          ],
          [
           "X11"
          ],
          [
           "NeoScrypt"
          ],
          [
           "Ethash"
          ],
          [
           "NeoScrypt"
          ],
          [
           "X11"
          ],
          [
           "DPoS"
          ],
          [
           "NIST5"
          ],
          [
           "X13"
          ],
          [
           "Multiple"
          ],
          [
           "Scrypt"
          ],
          [
           "CryptoNight"
          ],
          [
           "CryptoNight"
          ],
          [
           "Ethash"
          ],
          [
           "NIST5"
          ],
          [
           "Quark"
          ],
          [
           "X11"
          ],
          [
           "CryptoNight-V7"
          ],
          [
           "Scrypt"
          ],
          [
           "Scrypt"
          ],
          [
           "Scrypt"
          ],
          [
           "X11"
          ],
          [
           "BLAKE256"
          ],
          [
           "X11"
          ],
          [
           "NeoScrypt"
          ],
          [
           "Quark"
          ],
          [
           "NeoScrypt"
          ],
          [
           "Scrypt"
          ],
          [
           "Scrypt"
          ],
          [
           "Scrypt"
          ],
          [
           "X11"
          ],
          [
           "X11"
          ],
          [
           "SHA-256"
          ],
          [
           "C11"
          ],
          [
           "POS 3.0"
          ],
          [
           "Ethash"
          ],
          [
           "Scrypt"
          ],
          [
           "SkunkHash"
          ],
          [
           "Scrypt"
          ],
          [
           "CryptoNight"
          ],
          [
           "Scrypt"
          ],
          [
           "Dagger"
          ],
          [
           "Lyra2REv2"
          ],
          [
           "X13"
          ],
          [
           "Proof-of-BibleHash"
          ],
          [
           "SHA-256 + Hive"
          ],
          [
           "Scrypt"
          ],
          [
           "Scrypt"
          ],
          [
           "X11"
          ],
          [
           "C11"
          ],
          [
           "Proof-of-Authority"
          ],
          [
           "X11"
          ],
          [
           "XEVAN"
          ],
          [
           "Scrypt"
          ],
          [
           "VBFT"
          ],
          [
           "Ethash"
          ],
          [
           "CryptoNight"
          ],
          [
           "Scrypt"
          ],
          [
           "IMesh"
          ],
          [
           "NIST5"
          ],
          [
           "Scrypt"
          ],
          [
           "Scrypt"
          ],
          [
           "Equihash"
          ],
          [
           "Scrypt"
          ],
          [
           "Lyra2Z"
          ],
          [
           "Green Protocol"
          ],
          [
           "PoS"
          ],
          [
           "Scrypt"
          ],
          [
           "Semux BFT consensus"
          ],
          [
           "X11"
          ],
          [
           "Quark"
          ],
          [
           "PoS"
          ],
          [
           "CryptoNight"
          ],
          [
           "X16R"
          ],
          [
           "Scrypt"
          ],
          [
           "NIST5"
          ],
          [
           "Lyra2RE"
          ],
          [
           "XEVAN"
          ],
          [
           "Tribus"
          ],
          [
           "Scrypt"
          ],
          [
           "Lyra2Z"
          ],
          [
           "CryptoNight"
          ],
          [
           "CryptoNight Heavy"
          ],
          [
           "Scrypt"
          ],
          [
           "Scrypt"
          ],
          [
           "Jump Consistent Hash"
          ],
          [
           "SHA-256D"
          ],
          [
           "CryptoNight"
          ],
          [
           "Scrypt"
          ],
          [
           "X15"
          ],
          [
           "Scrypt"
          ],
          [
           "Quark"
          ],
          [
           "SHA-256"
          ],
          [
           "DPoS"
          ],
          [
           "X16R"
          ],
          [
           "HMQ1725"
          ],
          [
           "X11"
          ],
          [
           "X16R"
          ],
          [
           "Quark"
          ],
          [
           "Quark"
          ],
          [
           "Scrypt"
          ],
          [
           "Lyra2REv2"
          ],
          [
           "Quark"
          ],
          [
           "Scrypt"
          ],
          [
           "Scrypt"
          ],
          [
           "CryptoNight-V7"
          ],
          [
           "Cryptonight-GPU"
          ],
          [
           "XEVAN"
          ],
          [
           "X11"
          ],
          [
           "X11"
          ],
          [
           "Scrypt"
          ],
          [
           "PoS"
          ],
          [
           "SHA-256"
          ],
          [
           "Keccak"
          ],
          [
           "X11"
          ],
          [
           "X11"
          ],
          [
           "Scrypt"
          ],
          [
           "SHA-512"
          ],
          [
           "X16R"
          ],
          [
           "ECC 256K1"
          ],
          [
           "Equihash"
          ],
          [
           "XEVAN"
          ],
          [
           "Lyra2Z"
          ],
          [
           "SHA-256"
          ],
          [
           "XEVAN"
          ],
          [
           "X11"
          ],
          [
           "CryptoNight"
          ],
          [
           "Quark"
          ],
          [
           "Blake"
          ],
          [
           "Blake"
          ],
          [
           "Equihash"
          ],
          [
           "Exosis"
          ],
          [
           "Scrypt"
          ],
          [
           "Scrypt"
          ],
          [
           "Equihash"
          ],
          [
           "Quark"
          ],
          [
           "Equihash"
          ],
          [
           "Quark"
          ],
          [
           "Scrypt"
          ],
          [
           "QuBit"
          ],
          [
           "X11"
          ],
          [
           "Scrypt"
          ],
          [
           "XEVAN"
          ],
          [
           "SHA-256D"
          ],
          [
           "X11"
          ],
          [
           "SHA-256"
          ],
          [
           "X13"
          ],
          [
           "SHA-256"
          ],
          [
           "X11"
          ],
          [
           "DPoS"
          ],
          [
           "Scrypt"
          ],
          [
           "Scrypt"
          ],
          [
           "X11"
          ],
          [
           "NeoScrypt"
          ],
          [
           "Scrypt"
          ],
          [
           "Blake"
          ],
          [
           "Scrypt"
          ],
          [
           "SHA-256"
          ],
          [
           "Scrypt"
          ],
          [
           "X11"
          ],
          [
           "Scrypt"
          ],
          [
           "Scrypt"
          ],
          [
           "SHA-256"
          ],
          [
           "X11"
          ],
          [
           "SHA-256"
          ],
          [
           "Scrypt"
          ],
          [
           "Scrypt"
          ],
          [
           "Scrypt"
          ],
          [
           "Groestl"
          ],
          [
           "X11"
          ],
          [
           "Scrypt"
          ],
          [
           "PoS"
          ],
          [
           "Scrypt"
          ],
          [
           "Scrypt"
          ],
          [
           "X11"
          ],
          [
           "SHA-256"
          ],
          [
           "DPoS"
          ],
          [
           "Scrypt"
          ],
          [
           "Scrypt"
          ],
          [
           "NeoScrypt"
          ],
          [
           "Multiple"
          ],
          [
           "X13"
          ],
          [
           "Equihash+Scrypt"
          ],
          [
           "DPoS"
          ],
          [
           "Ethash"
          ],
          [
           "DPoS"
          ],
          [
           "SHA-256"
          ],
          [
           "Leased POS"
          ],
          [
           "PoS"
          ],
          [
           "PoS"
          ],
          [
           "SHA-256"
          ],
          [
           "Scrypt"
          ],
          [
           "CryptoNight"
          ],
          [
           "Equihash"
          ],
          [
           "Scrypt"
          ]
         ],
         "hovertemplate": "<b>%{hovertext}</b><br><br>Class=%{marker.color}<br>PC 1=%{x}<br>PC 2=%{y}<br>PC 3=%{z}<br>Algorithm=%{customdata[0]}<extra></extra>",
         "hovertext": [
          "42 Coin",
          "404Coin",
          "Bitcoin",
          "Ethereum",
          "Litecoin",
          "Dash",
          "Monero",
          "Ethereum Classic",
          "ZCash",
          "Bitshares",
          "DigiByte",
          "BitcoinDark",
          "PayCoin",
          "ProsperCoin",
          "KoboCoin",
          "Spreadcoin",
          "Argentum",
          "Aurora Coin",
          "BlueCoin",
          "MyriadCoin",
          "ZetaCoin",
          "SexCoin",
          "Quatloo",
          "EnergyCoin",
          "QuarkCoin",
          "Riecoin",
          "Digitalcoin ",
          "BitBar",
          "Catcoin",
          "CryptoBullion",
          "CannaCoin",
          "CryptCoin",
          "CasinoCoin",
          "Diamond",
          "Verge",
          "DevCoin",
          "EarthCoin",
          "E-Gulden",
          "Einsteinium",
          "Emerald",
          "Exclusive Coin",
          "FlutterCoin",
          "Franko",
          "FeatherCoin",
          "GrandCoin",
          "GlobalCoin",
          "GoldCoin",
          "HoboNickels",
          "HyperStake",
          "Infinite Coin",
          "IOCoin",
          "IXcoin",
          "KrugerCoin",
          "LuckyCoin",
          "Litebar ",
          "MaxCoin",
          "MegaCoin",
          "MediterraneanCoin",
          "MintCoin",
          "MinCoin",
          "MazaCoin",
          "Nautilus Coin",
          "NavCoin",
          "NobleCoin",
          "Namecoin",
          "NyanCoin",
          "OpalCoin",
          "Orbitcoin",
          "PotCoin",
          "PhoenixCoin",
          "Reddcoin",
          "RonPaulCoin",
          "StableCoin",
          "SmartCoin",
          "SuperCoin",
          "SyncCoin",
          "SysCoin",
          "TeslaCoin",
          "TigerCoin",
          "TittieCoin",
          "TorCoin",
          "TerraCoin",
          "UnbreakableCoin",
          "Unobtanium",
          "UroCoin",
          "UnitaryStatus Dollar",
          "UltraCoin",
          "ViaCoin",
          "VeriCoin",
          "Vertcoin",
          "WorldCoin",
          "X11 Coin",
          "Crypti",
          "JouleCoin",
          "StealthCoin",
          "ZCC Coin",
          "DigitalNote ",
          "BurstCoin",
          "StorjCoin",
          "MonaCoin",
          "Neutron",
          "FairCoin",
          "Gulden",
          "RubyCoin",
          "PesetaCoin",
          "Kore",
          "Wild Beast Coin",
          "Dnotes",
          "Flo",
          "8BIT Coin",
          "Sativa Coin",
          "ArtByte",
          "Folding Coin",
          "Ucoin",
          "Unitus",
          "CypherPunkCoin",
          "OmniCron",
          "Vtorrent",
          "GreenCoin",
          "Cryptonite",
          "MasterCoin",
          "SoonCoin",
          "1Credit",
          "IslaCoin",
          "Nexus",
          "MarsCoin ",
          "Crypto",
          "Anarchists Prime",
          "Droidz",
          "BowsCoin",
          "Squall Coin",
          "Song Coin",
          "BitZeny",
          "Diggits",
          "Expanse",
          "Paycon",
          "Siacoin",
          "Emercoin",
          "EverGreenCoin",
          "MindCoin",
          "I0coin",
          "Decred",
          "Revolution VR",
          "HOdlcoin",
          "EDRCoin",
          "Hitcoin",
          "Gamecredits",
          "DubaiCoin",
          "CarpeDiemCoin",
          "PWR Coin",
          "BillaryCoin",
          "GPU Coin",
          "Adzcoin",
          "SoilCoin",
          "YoCoin",
          "SibCoin",
          "EuropeCoin",
          "ZeitCoin",
          "SwingCoin",
          "SafeExchangeCoin",
          "Nebuchadnezzar",
          "Francs",
          "BolivarCoin",
          "Ratecoin",
          "Revenu",
          "Clockcoin",
          "VIP Tokens",
          "BitSend",
          "Omni",
          "Let it Ride",
          "PutinCoin",
          "iBankCoin",
          "Frankywillcoin",
          "MudraCoin",
          "PizzaCoin",
          "Lutetium Coin",
          "Komodo",
          "GoldBlocks",
          "CarterCoin",
          "Karbo",
          "BitTokens",
          "ZayedCoin",
          "MustangCoin",
          "ZoneCoin",
          "Circuits of Value",
          "RootCoin",
          "DopeCoin",
          "BitCurrency",
          "DollarCoin",
          "Swiscoin",
          "Shilling",
          "BuzzCoin",
          "Opair",
          "PesoBit",
          "Halloween Coin",
          "ZCoin",
          "CoffeeCoin",
          "RoyalCoin",
          "GanjaCoin V2",
          "TeamUP",
          "LanaCoin",
          "Elementrem",
          "ZClassic",
          "ARK",
          "InsaneCoin",
          "KiloCoin",
          "ArtexCoin",
          "EmberCoin",
          "XenixCoin",
          "FreeCoin",
          "PLNCoin",
          "AquariusCoin",
          "Kurrent",
          "Creatio",
          "Eternity",
          "Eurocoin",
          "BitcoinFast",
          "Stakenet",
          "BitConnect Coin",
          "MoneyCoin",
          "Enigma",
          "Cannabis Industry Coin",
          "Russiacoin",
          "PandaCoin",
          "GameUnits",
          "GAKHcoin",
          "Allsafe",
          "LiteCreed",
          "OsmiumCoin",
          "Bikercoins",
          "HexxCoin",
          "Klingon Empire Darsek",
          "Internet of People",
          "KushCoin",
          "Printerium",
          "PacCoin",
          "Impeach",
          "Citadel",
          "Zilbercoin",
          "FirstCoin",
          "BeaverCoin",
          "FindCoin",
          "VaultCoin",
          "Zero",
          "OpenChat",
          "Canada eCoin",
          "Zoin",
          "RenosCoin",
          "DubaiCoin",
          "VirtacoinPlus",
          "TajCoin",
          "Impact",
          "EB3coin",
          "Atmos",
          "HappyCoin",
          "Coinonat",
          "MacronCoin",
          "Condensate",
          "Independent Money System",
          "ArgusCoin",
          "LomoCoin",
          "ProCurrency",
          "GoldReserve",
          "BenjiRolls",
          "GrowthCoin",
          "ILCoin",
          "Phreak",
          "Degas Coin",
          "HTML5 Coin",
          "Ultimate Secure Cash",
          "EquiTrader",
          "QTUM",
          "Quantum Resistant Ledger",
          "Espers",
          "Dynamic",
          "Nano",
          "ChanCoin",
          "Dinastycoin",
          "Denarius",
          "DigitalPrice",
          "Virta Unique Coin",
          "Bitcoin Planet",
          "Unify",
          "BritCoin",
          "SocialCoin",
          "ArcticCoin",
          "DAS",
          "Linda",
          "LeviarCoin",
          "DeepOnion",
          "Bitcore",
          "SmartCash",
          "Signatum",
          "Onix",
          "Cream",
          "Bitcoin Cash",
          "Monoeci",
          "Draftcoin",
          "Vechain",
          "Sojourn Coin",
          "Stakecoin",
          "NewYorkCoin",
          "FrazCoin",
          "Kronecoin",
          "AdCoin",
          "Linx",
          "CoinonatX",
          "Ethereum Dark",
          "Sumokoin",
          "Obsidian",
          "Cardano",
          "Regalcoin",
          "BitcoinZ",
          "TrezarCoin",
          "Elements",
          "TerraNovaCoin",
          "VIVO Coin",
          "Rupee",
          "Bitcoin Gold",
          "WomenCoin",
          "Theresa May Coin",
          "NamoCoin",
          "LUXCoin",
          "Pirl",
          "Xios",
          "Bitcloud 2.0",
          "eBoost",
          "KekCoin",
          "BlackholeCoin",
          "Infinity Economics",
          "Pura",
          "Innova",
          "Ellaism",
          "GoByte",
          "Magnet",
          "Lamden Tau",
          "Electra",
          "Bitcoin Diamond",
          "SHIELD",
          "Cash & Back Coin",
          "UltraNote",
          "BitCoal",
          "DaxxCoin",
          "Bulwark",
          "Kalkulus",
          "AC3",
          "Lethean",
          "GermanCoin",
          "LiteCoin Ultra",
          "PopularCoin",
          "PhantomX",
          "Photon",
          "Sucre",
          "SparksPay",
          "Digiwage",
          "GunCoin",
          "IrishCoin",
          "Trollcoin",
          "Litecoin Plus",
          "Monkey Project",
          "Pioneer Coin",
          "UnitedBitcoin",
          "Interzone",
          "TokenPay",
          "1717 Masonic Commemorative Token",
          "My Big Coin",
          "MUNcoin",
          "Unified Society USDEX",
          "Niobio Cash",
          "ShareChain",
          "Travelflex",
          "KREDS",
          "Tokyo Coin",
          "BiblePay",
          "LitecoinCash",
          "BitFlip",
          "LottoCoin",
          "Crypto Improvement Fund",
          "Stipend",
          "Poa Network",
          "Pushi",
          "Ellerium",
          "Velox",
          "Ontology",
          "Callisto Network",
          "BitTube",
          "Poseidon",
          "Aidos Kuneen",
          "Bitspace",
          "Briacoin",
          "Ignition",
          "Bitrolium",
          "MedicCoin",
          "Alpenschillling",
          "Bitcoin Green",
          "Deviant Coin",
          "Abjcoin",
          "Semux",
          "FuturoCoin",
          "Carebit",
          "Zealium",
          "Monero Classic",
          "Proton",
          "iDealCash",
          "Jumpcoin",
          "Infinex",
          "Bitcoin Incognito",
          "KEYCO",
          "HollyWoodCoin",
          "GINcoin",
          "PlatinCoin",
          "Loki",
          "Swisscoin",
          "Xt3ch",
          "MassGrid",
          "TheVig",
          "PluraCoin",
          "EmaratCoin",
          "Dekado",
          "Lynx",
          "Poseidon Quark",
          "BitcoinWSpectrum",
          "Muse",
          "Motion",
          "PlusOneCoin",
          "Axe",
          "Trivechain",
          "Dystem",
          "Giant",
          "Peony Coin",
          "Absolute Coin",
          "Vitae",
          "HexCoin",
          "TPCash",
          "Webchain",
          "Ryo",
          "Urals Coin",
          "ARENON",
          "EUNO",
          "MMOCoin",
          "Ketan",
          "Project Pai",
          "XDNA",
          "PAXEX",
          "Azart",
          "ThunderStake",
          "Kcash",
          "Xchange",
          "Acute Angle Cloud",
          "CrypticCoin",
          "Bettex coin",
          "Actinium",
          "Bitcoin SV",
          "BitMoney",
          "Junson Ming Chan Coin",
          "FREDEnergy",
          "HerbCoin",
          "Universal Molecule",
          "Lithium",
          "PirateCash",
          "Exosis",
          "Block-Logic",
          "Oduwa",
          "Beam",
          "Galilel",
          "Bithereum",
          "Crypto Sports",
          "Credit",
          "SLICE",
          "Dash Platinum",
          "Nasdacoin",
          "Beetle Coin",
          "Titan Coin",
          "Award",
          "BLAST",
          "Bitcoin Rhodium",
          "GlobalToken",
          "Insane Coin",
          "ALAX",
          "LiteDoge",
          "SolarCoin",
          "TruckCoin",
          "UFO Coin",
          "OrangeCoin",
          "BlakeCoin",
          "BitstarCoin",
          "NeosCoin",
          "HyperCoin",
          "PinkCoin",
          "Crypto Escudo",
          "AudioCoin",
          "IncaKoin",
          "Piggy Coin",
          "Crown Coin",
          "Genstake",
          "SmileyCoin",
          "XiaoMiCoin",
          "Groestlcoin",
          "CapriCoin",
          " ClubCoin",
          "Radium",
          "Bata",
          "Pakcoin",
          "Creditbit ",
          "OKCash",
          "Lisk",
          "HiCoin",
          "WhiteCoin",
          "FriendshipCoin",
          "JoinCoin",
          "Triangles Coin",
          "Vollar",
          "EOS",
          "Reality Clash",
          "Oxycoin",
          "TigerCash",
          "Waves",
          "Particl",
          "Nxt",
          "ZEPHYR",
          "Gapcoin",
          "Beldex",
          "Horizen",
          "BitcoinPlus"
         ],
         "legendgroup": "0",
         "marker": {
          "color": [
           0,
           0,
           0,
           0,
           0,
           0,
           0,
           0,
           0,
           0,
           0,
           0,
           0,
           0,
           0,
           0,
           0,
           0,
           0,
           0,
           0,
           0,
           0,
           0,
           0,
           0,
           0,
           0,
           0,
           0,
           0,
           0,
           0,
           0,
           0,
           0,
           0,
           0,
           0,
           0,
           0,
           0,
           0,
           0,
           0,
           0,
           0,
           0,
           0,
           0,
           0,
           0,
           0,
           0,
           0,
           0,
           0,
           0,
           0,
           0,
           0,
           0,
           0,
           0,
           0,
           0,
           0,
           0,
           0,
           0,
           0,
           0,
           0,
           0,
           0,
           0,
           0,
           0,
           0,
           0,
           0,
           0,
           0,
           0,
           0,
           0,
           0,
           0,
           0,
           0,
           0,
           0,
           0,
           0,
           0,
           0,
           0,
           0,
           0,
           0,
           0,
           0,
           0,
           0,
           0,
           0,
           0,
           0,
           0,
           0,
           0,
           0,
           0,
           0,
           0,
           0,
           0,
           0,
           0,
           0,
           0,
           0,
           0,
           0,
           0,
           0,
           0,
           0,
           0,
           0,
           0,
           0,
           0,
           0,
           0,
           0,
           0,
           0,
           0,
           0,
           0,
           0,
           0,
           0,
           0,
           0,
           0,
           0,
           0,
           0,
           0,
           0,
           0,
           0,
           0,
           0,
           0,
           0,
           0,
           0,
           0,
           0,
           0,
           0,
           0,
           0,
           0,
           0,
           0,
           0,
           0,
           0,
           0,
           0,
           0,
           0,
           0,
           0,
           0,
           0,
           0,
           0,
           0,
           0,
           0,
           0,
           0,
           0,
           0,
           0,
           0,
           0,
           0,
           0,
           0,
           0,
           0,
           0,
           0,
           0,
           0,
           0,
           0,
           0,
           0,
           0,
           0,
           0,
           0,
           0,
           0,
           0,
           0,
           0,
           0,
           0,
           0,
           0,
           0,
           0,
           0,
           0,
           0,
           0,
           0,
           0,
           0,
           0,
           0,
           0,
           0,
           0,
           0,
           0,
           0,
           0,
           0,
           0,
           0,
           0,
           0,
           0,
           0,
           0,
           0,
           0,
           0,
           0,
           0,
           0,
           0,
           0,
           0,
           0,
           0,
           0,
           0,
           0,
           0,
           0,
           0,
           0,
           0,
           0,
           0,
           0,
           0,
           0,
           0,
           0,
           0,
           0,
           0,
           0,
           0,
           0,
           0,
           0,
           0,
           0,
           0,
           0,
           0,
           0,
           0,
           0,
           0,
           0,
           0,
           0,
           0,
           0,
           0,
           0,
           0,
           0,
           0,
           0,
           0,
           0,
           0,
           0,
           0,
           0,
           0,
           0,
           0,
           0,
           0,
           0,
           0,
           0,
           0,
           0,
           0,
           0,
           0,
           0,
           0,
           0,
           0,
           0,
           0,
           0,
           0,
           0,
           0,
           0,
           0,
           0,
           0,
           0,
           0,
           0,
           0,
           0,
           0,
           0,
           0,
           0,
           0,
           0,
           0,
           0,
           0,
           0,
           0,
           0,
           0,
           0,
           0,
           0,
           0,
           0,
           0,
           0,
           0,
           0,
           0,
           0,
           0,
           0,
           0,
           0,
           0,
           0,
           0,
           0,
           0,
           0,
           0,
           0,
           0,
           0,
           0,
           0,
           0,
           0,
           0,
           0,
           0,
           0,
           0,
           0,
           0,
           0,
           0,
           0,
           0,
           0,
           0,
           0,
           0,
           0,
           0,
           0,
           0,
           0,
           0,
           0,
           0,
           0,
           0,
           0,
           0,
           0,
           0,
           0,
           0,
           0,
           0,
           0,
           0,
           0,
           0,
           0,
           0,
           0,
           0,
           0,
           0,
           0,
           0,
           0,
           0,
           0,
           0,
           0,
           0,
           0,
           0,
           0,
           0,
           0,
           0,
           0,
           0,
           0,
           0,
           0,
           0,
           0,
           0,
           0,
           0,
           0,
           0,
           0,
           0,
           0,
           0,
           0,
           0,
           0,
           0,
           0,
           0,
           0,
           0,
           0,
           0,
           0,
           0,
           0,
           0,
           0,
           0,
           0,
           0,
           0,
           0,
           0,
           0,
           0,
           0,
           0,
           0,
           0,
           0,
           0,
           0,
           0,
           0,
           0,
           0,
           0,
           0,
           0,
           0,
           0,
           0,
           0,
           0,
           0,
           0,
           0,
           0,
           0,
           0,
           0,
           0,
           0,
           0,
           0,
           0,
           0,
           0,
           0,
           0,
           0,
           0,
           0,
           0,
           0,
           0,
           0,
           0,
           0,
           0,
           0,
           0,
           0,
           0,
           0
          ],
          "coloraxis": "coloraxis",
          "symbol": "circle"
         },
         "mode": "markers",
         "name": "0",
         "scene": "scene",
         "showlegend": true,
         "type": "scatter3d",
         "x": [
          -11629339724.629564,
          -10640876391.374826,
          -11602188533.396082,
          -11575476733.630463,
          -11525071201.518126,
          -11605772290.212875,
          -11620735866.01699,
          -11390796134.679955,
          -11607462642.862988,
          -7140240499.771295,
          12260163029.565067,
          -11609645011.761023,
          -11612515868.305248,
          -11608270329.942938,
          -11313493955.794779,
          -11606444484.754938,
          -11567816071.398167,
          -11605748569.10558,
          -11311504286.603212,
          -9053058168.853487,
          -11397176266.849888,
          -11348365956.306889,
          -11539068141.98168,
          -11567784454.35393,
          -11285630193.105768,
          -11531819153.584738,
          -11570904214.153849,
          -11628885527.428488,
          -11607544224.3763,
          -11627954108.524332,
          -11615608829.268269,
          -11611253881.17004,
          43014960884.32026,
          -11623894196.173126,
          10673714439.871424,
          15945414698.22406,
          6332432897.939351,
          -11600696301.44951,
          -11260267055.69858,
          -11591878378.235794,
          -11626498825.201466,
          -11398335035.80105,
          -11619038955.853575,
          -11234017855.494888,
          -9956980476.608627,
          -11535876734.59338,
          -11545943858.787672,
          -11480779384.53969,
          -10789753382.133785,
          112137879969.89975,
          -11601460804.501778,
          -11600606831.57542,
          -11323755157.974318,
          -11602354602.409283,
          -11627618412.460987,
          -11512013620.551735,
          -11573888013.057844,
          -11435933368.288752,
          -978236883.5503024,
          -11617777419.845724,
          -8727290932.841658,
          -11607236161.840073,
          -11596283384.594822,
          2542850212.8098507,
          -11603784541.278133,
          -11170107371.167221,
          -11621758652.990246,
          -11624464355.217834,
          -11154274363.267534,
          -11507486278.987698,
          3034143625.2107162,
          -11610603313.082788,
          -11400749202.856363,
          -11572203185.47953,
          -11603976092.045837,
          -11629338327.363953,
          -10578631130.862724,
          -11502602633.053019,
          -11566854637.237427,
          -8826260930.791073,
          -11619964446.90599,
          -11581499273.617123,
          -11558927214.423279,
          -11629022808.766771,
          -11628735892.268757,
          -9694188823.624264,
          -11517621097.155365,
          -11597843832.92426,
          -11613323001.938313,
          -11531006268.271523,
          -11339681703.160013,
          -11621100492.845121,
          -11579320339.016327,
          -11570768201.077631,
          -11612786484.890148,
          -10689402768.763008,
          484428075.56741613,
          -8853125985.727585,
          -11170786700.15326,
          -11504204398.256987,
          -11550889236.383184,
          -11602732524.034899,
          -9967008834.810032,
          -11615742251.332365,
          -11416478396.78367,
          -11617937198.888462,
          -11626973167.332838,
          -11109026208.349245,
          -11414628744.321733,
          -11628605576.113754,
          -11617130853.963943,
          -10367003943.543736,
          -10403578290.308266,
          -11610676090.615498,
          -11596770471.033388,
          -11626155901.904217,
          -11621348503.314604,
          -11606216902.290491,
          -664141868.2382281,
          -9681668625.38697,
          -11628493508.4328,
          -11604921873.36894,
          68034711430.14711,
          -11628582635.696604,
          -11529957571.738138,
          -11584647596.78058,
          -11565498096.129122,
          -11575411825.349718,
          -11620672576.553574,
          -11603220603.32057,
          -11629175117.991394,
          -11431001225.878399,
          -11375039550.154762,
          -11492729026.963612,
          -11609450631.426966,
          -11574518343.808455,
          4926243781.342096,
          -10741888391.964922,
          -11599800089.808584,
          -11607548239.423193,
          -11600652785.505098,
          -11605971067.735773,
          -11342457196.417078,
          -11552641023.711994,
          -11608454133.93405,
          16860950630.47407,
          -11521671451.655987,
          -11617682190.00673,
          17971352683.167423,
          -6592657464.1165085,
          -11588470309.698479,
          -11417681016.682987,
          -11534039147.086031,
          -11600510255.741503,
          -11483243827.450848,
          -11599922833.10095,
          -11291623485.345,
          92588865487.16484,
          -11592513865.344545,
          -8695646157.429153,
          -11602017630.997456,
          -11608734838.205542,
          -11600862257.981495,
          -11497092665.887583,
          -11435881287.290703,
          -11166400743.97879,
          -11509666174.405306,
          -11496779254.299358,
          -11628497647.73868,
          -11581029285.12287,
          -9490809282.204977,
          -11588686925.231821,
          -11492729026.96362,
          -11453656185.750986,
          -11607002727.584475,
          -10731807121.377954,
          -11398185558.338938,
          -11578259163.39735,
          -11529816458.494806,
          -11616767913.52367,
          -11610857776.205654,
          -11617786117.875309,
          -11626413096.60742,
          -11609864119.462696,
          -10090049607.477407,
          -11628369460.33351,
          -11397711825.694971,
          -11544507498.964668,
          -11615572812.570187,
          -8612279745.093805,
          -11597800626.485209,
          15481622765.176205,
          -11528230913.304075,
          -11612571785.640886,
          -10198079410.665733,
          -11607023629.101719,
          -11520316022.512918,
          -11625924343.73251,
          -11492729026.963617,
          -11359787127.160013,
          -4588504176.791845,
          -11593540197.315111,
          -11608347740.032904,
          -11466978562.220087,
          -11594187415.498878,
          -2872021425.0399294,
          -10784223011.508116,
          35221022772.864784,
          -11624075723.20151,
          -11561034404.484764,
          -11587419367.611662,
          -11591746165.965036,
          -11401217252.871511,
          -11602017630.997456,
          -11574349073.64691,
          -11605810828.446077,
          -11590638701.164755,
          -11525287546.758009,
          -11599551699.018988,
          -11060465564.522038,
          -11624602722.506882,
          -11610666343.794218,
          -11500457727.241032,
          33438899569.773006,
          -11616345744.68735,
          -11624810057.617418,
          -11611090153.858969,
          -11545955595.788254,
          -11626542259.320276,
          -11603011590.695095,
          -11619742213.6658,
          -11184395876.157545,
          -11609892076.09205,
          -11618409381.900229,
          -11606108357.098038,
          75230567713.08212,
          -11610193271.765123,
          -11463659062.68345,
          -11580252685.15127,
          -11479067951.459385,
          -11624872079.221663,
          -11609497272.726612,
          -10748227983.621342,
          -11611157086.230602,
          -10263232231.582857,
          -11492807353.251797,
          -11601879121.875147,
          -11581497298.868687,
          -11626289399.090471,
          -11536164536.178362,
          -11591293120.923597,
          -11478752634.9679,
          -8133626811.708436,
          -11478248671.391886,
          -11531983624.559843,
          -11582494173.861511,
          -11082185784.973843,
          -11135526840.519287,
          -11608286417.236538,
          -11604000281.490332,
          -10763176564.263784,
          53364436679.13231,
          -11586114227.554815,
          -11588440209.746439,
          -9749888424.612597,
          -8805427021.178722,
          -11597665060.802513,
          -11527735369.56831,
          86640256394.46649,
          -11450910680.505346,
          -11560154675.592712,
          -11492729026.96361,
          -11503887473.267988,
          43071691047.566124,
          -11619443823.035542,
          -11268034759.784056,
          -11594155179.92434,
          -8992428154.943329,
          -11618594148.759281,
          -11525172150.385946,
          -11493946932.221567,
          -11539344965.98181,
          -11603577624.828926,
          -11592724207.237183,
          -11561811405.696428,
          -11564358749.17331,
          -11611662071.060497,
          36190540320.95646,
          -11575496818.519567,
          -11602012823.041956,
          -11602251212.679783,
          -6178833885.583126,
          -11456269351.799774,
          -10615573717.30551,
          -11519073365.997065,
          -11602154312.770773,
          -11614820236.198236,
          -11604932515.066456,
          91194417575.895,
          -2537009315.1302876,
          -11573998786.36882,
          59901799860.745094,
          -11607167611.839502,
          -11547872811.648829,
          -11526418756.921162,
          -11525883651.452562,
          -11577784149.034187,
          -11623602130.294147,
          -11547894661.620836,
          -11537700033.845968,
          40305326908.34286,
          -11602327514.702286,
          9161625659.830019,
          -11191619823.429953,
          -8718742814.684263,
          -11615145493.28023,
          -11603876333.975542,
          -11596553200.795761,
          -11602551081.277075,
          34257646428.357353,
          -11496705172.525745,
          -10309853437.124792,
          -11573230492.224373,
          -11476991633.240608,
          -11610080344.51124,
          -11440795411.39221,
          -11492734028.160892,
          -11604987805.844873,
          -11608349965.931423,
          665628166.7997639,
          -11238628193.120174,
          -11587184822.52124,
          -11380503444.539196,
          -11598886457.360834,
          -11485541568.28408,
          -11052281924.576332,
          28553150581.6278,
          -11355695329.74895,
          -10816878176.35098,
          -11391987960.806385,
          71617935132.08142,
          -11616264993.064795,
          -2709661409.7994385,
          -11598713864.093916,
          -11603540340.436735,
          -11112913846.344194,
          -10543164714.651676,
          34123021321.544716,
          -11495241475.782831,
          -5316902796.564194,
          -11563448235.70788,
          81353527162.40549,
          -11610079359.715601,
          -11607230372.03553,
          -11511775059.668713,
          -11046425955.557533,
          -11551170974.357725,
          -10554391687.040098,
          -11624623399.462961,
          -11608951123.57329,
          -11605183079.666992,
          -11601790857.144089,
          -11603463169.245453,
          -11597465047.938797,
          -11627129374.907784,
          -11598660889.61272,
          -11612555517.881266,
          -11310979144.017536,
          -11271400699.145966,
          2031735722.224773,
          -11489064969.699009,
          -10354812220.48391,
          -10821415046.088142,
          -6240201232.744895,
          -10582657474.048437,
          -11588477787.289516,
          11557830267.654627,
          -11090693319.914223,
          -11606964649.21129,
          -11308451386.528864,
          -11606607618.952341,
          -11577175275.564623,
          -11509176576.918154,
          -10437875804.54833,
          -5877050128.815711,
          -10723386556.091011,
          -11609119709.029276,
          -11595187093.24534,
          -11579147517.894531,
          -11626319059.320335,
          -11624418909.807308,
          -11533034251.431053,
          -11062682412.9267,
          -11355890279.211132,
          -11606251854.663244,
          -11542196880.510506,
          -11598420216.13917,
          -11542132657.081415,
          -11526841556.205015,
          -11386260190.091934,
          -11554526951.956741,
          -11605395434.431019,
          -11588170935.351816,
          -6491823242.975286,
          -11600616836.837912,
          -11604033749.199795,
          -11605701004.677835,
          -11613355467.677752,
          -11587465110.37801,
          -11616753136.02326,
          -11109749294.756166,
          -11489872273.888163,
          2304957232.3093834,
          -11587423121.194914,
          -11415908754.021996,
          -11526122915.595312,
          -10483274787.822998,
          -11545799210.487879,
          -11536259614.820759,
          106985837856.922,
          -11065137593.063614,
          -11513604682.51608,
          -11604581503.308174,
          -11606159631.309515,
          -11606831222.465542,
          -11608658120.331718,
          -11539392889.91509,
          -11607613033.322334,
          -11621918567.712242,
          2987794901.317612,
          -11577210441.948042,
          -11509708688.291842,
          -11609489937.766865,
          -10760723709.570023,
          -10106198692.172424,
          -11550529467.365417,
          -11440122083.054052,
          -11572076058.838102,
          -11570652580.164696,
          -11350299484.19239,
          -11442832647.423437,
          -8760513926.117474,
          -11310078414.494429,
          -11540495274.616697,
          -11605183038.068863,
          4487279514.462236,
          -10263232231.582848,
          -11537869696.724323,
          -10263232231.582848,
          -2930020881.7105045,
          -11582649103.715004,
          -11549783003.859165,
          -11602155850.868639,
          49088877128.799065,
          -3021031794.164072,
          -3698871320.219609,
          -11564917514.880995,
          -11537525546.007406,
          -11599567391.370262,
          -11531678324.228838,
          -11610952481.555933,
          -11507780988.5518,
          -11603763958.580427,
          -11383927115.210573,
          -11603720203.820944,
          -11590014905.550322,
          -11616794796.583,
          68559810073.02855,
          -11536283061.581764,
          -11611923324.664742,
          -11546325820.919308,
          -11096875470.037933,
          -6851419315.961391,
          -11257943155.960432,
          -11547764256.49307,
          -11626935990.66295,
          -11441543376.441132,
          -11591469785.472237,
          -10263232231.582844,
          26340041426.57324,
          73344530683.41693,
          -11508005565.735975,
          -6252601160.788502,
          -11454387895.172781,
          -5556265001.98258,
          -11572066430.001966,
          -11608958623.365294,
          -11624522309.416164,
          -10978121569.30739,
          -10373169615.193567,
          -2046695068.257036,
          -2491465747.5661435,
          -10516210233.303204,
          -11581473497.054836,
          -11586339419.404266,
          46464062917.778046,
          -11080737684.812075,
          -11501755551.044727,
          -11348508537.977295,
          -11438962597.447456,
          -11619635198.08601,
          -11622482956.075459,
          -11436887817.60921,
          -11606594669.122267,
          -11501066352.616604,
          -11430834937.284315,
          2039509000.9222248,
          -11243514066.335876,
          -11576678985.473791,
          -11625248115.998663,
          -11629165456.183363,
          -9760902785.909225,
          -11118869096.104456,
          -11595886616.765253,
          -11067930415.650421,
          -10263232231.58285,
          -11492729026.963612,
          -11617219993.198046,
          -10263232231.582853,
          -8897124683.507893,
          -11405393075.755047,
          -9926566770.27101,
          -11607505919.059824,
          -11628409680.436615
         ],
         "y": [
          -550257434.6241882,
          -1197852433.818464,
          -555276712.2831852,
          -643502600.5625198,
          -562827595.0348377,
          -547073458.1020086,
          -565152114.8017547,
          -543376243.1531391,
          -546146421.5131583,
          -1123233543.560448,
          77030798.74857539,
          -540369184.3231553,
          -554391906.7526217,
          -544748191.548966,
          -397306985.4982981,
          -549908231.625519,
          -528814134.173432,
          -557573287.976449,
          -1100479311.3710737,
          -1011750065.333552,
          -612708826.1860638,
          -536860473.19319856,
          -506609187.3238952,
          -656819113.4107479,
          -651463349.7067668,
          -551145857.130658,
          -555123776.7508847,
          -550044192.177281,
          -546005191.426332,
          -550657009.5768623,
          -547758015.4479076,
          -545580875.4450393,
          -15179002706.427763,
          -550927966.9586258,
          -6063128242.570127,
          -6302703923.608962,
          -4655330384.429085,
          -557859994.1915355,
          -589826948.5421362,
          -551133720.5820035,
          -555175550.3447319,
          -950161993.7406641,
          -545626834.9477373,
          -562881396.3033956,
          -605252535.4336079,
          -572110679.4882448,
          -550193292.4271816,
          -567531496.7838256,
          -2003709988.9318728,
          -33680693273.572113,
          -554537299.8064858,
          -558014880.2383084,
          -548635920.5608314,
          -556988443.984663,
          -550538422.9419513,
          -553444705.0257806,
          -562285570.5772632,
          -485229008.66232175,
          -18988946850.04812,
          -550281412.1322553,
          -737628907.830838,
          -556174747.6789266,
          -607483102.9683137,
          4903851170.974562,
          -552513778.3460344,
          -671521004.5651194,
          -563381513.997917,
          -551160460.1561681,
          -532994890.356547,
          -565280671.4171805,
          -25934991666.67471,
          -540709440.6352735,
          -446177055.3621706,
          -546809417.2427994,
          -594165848.8845285,
          -550257938.2498264,
          -593885267.9010227,
          -569736564.8810444,
          -564441381.0782372,
          -804604024.375052,
          -546495333.5331143,
          -549109313.5297713,
          -512214544.8483707,
          -550306342.8133823,
          -551302844.8340528,
          -701543800.2008281,
          -543737304.7151854,
          -558799608.6570594,
          -577984917.1737331,
          -552553086.0323147,
          -521064633.04402655,
          -553525165.7455986,
          -636848731.3172292,
          -561688774.9015933,
          -578913710.306192,
          -178209678.14401713,
          -1528817950.206881,
          -1040361140.8054407,
          -344471701.12479967,
          -556727644.5148866,
          -550120186.1634455,
          -596318655.4585192,
          -69312794.96159273,
          -573796826.1696461,
          -586110410.1130365,
          -546006364.9871982,
          -549100434.5626515,
          -451388565.82167834,
          -602079477.0554047,
          -551528442.045262,
          -551400716.6403577,
          -736331392.6501755,
          -673015600.1398133,
          -542582674.1691439,
          -606639881.7871583,
          -555769203.061904,
          -557351492.8017571,
          -550302211.7064677,
          459532428.6478482,
          -243404759.90315992,
          -550483973.9475458,
          -550544882.4108427,
          45467553746.36195,
          -551568155.4187062,
          -566363875.7469184,
          -561652087.4794936,
          -529250095.04281324,
          -536136760.6845212,
          -555145612.2817805,
          -553490041.2698576,
          -550542477.8779807,
          -473295262.867106,
          -490684399.44264567,
          -586829288.327644,
          -550888932.5792795,
          -545200590.9044313,
          -29210506651.691154,
          -87349030.65730605,
          -548819592.4775552,
          -555994353.6791998,
          -557935326.9520876,
          -548728566.3666782,
          -627058344.2970883,
          -519174228.53728735,
          -542430776.1236368,
          3208048575.0562487,
          -568713082.4297072,
          -549446658.2685748,
          -8557839557.109895,
          -9269525452.488379,
          -537041383.0496907,
          -474737725.77221876,
          -547302708.576089,
          -540189064.5447086,
          -466600158.0200663,
          -553201318.5458263,
          -367194549.6429545,
          16955112765.388844,
          -534039814.4639988,
          -1335632326.797519,
          -557571793.077134,
          -545943279.2290568,
          -549575807.7015823,
          -629255725.9969022,
          -439886835.6493735,
          -302083898.03216326,
          -577500719.444866,
          -501848044.13427603,
          -550482865.8199131,
          -566916327.5053568,
          -253935883.64557648,
          -532001536.3785521,
          -586829288.3276467,
          -454548098.8879711,
          -538945714.9264103,
          -790534599.0092856,
          -550576245.5628124,
          -538724659.6066375,
          -542617493.3780017,
          -552029022.0960552,
          -540268926.0201439,
          -550794149.2735182,
          -549326291.9149272,
          -541989097.9365089,
          -815937223.9166512,
          -551937194.6019812,
          -551396349.281527,
          -697115086.0821646,
          -552821824.9988271,
          424339856.2809658,
          -544879847.5374005,
          -7499031679.805201,
          -577349876.1185517,
          -579285387.5696833,
          -29154324.173723638,
          -546106732.4985714,
          -659025535.3059325,
          -551171761.3402067,
          -586829288.327645,
          -415128326.54337204,
          2267143146.878302,
          -559841274.6748755,
          -544614182.8344288,
          -581426719.7315141,
          -551134868.8117135,
          4281709891.072479,
          -1013672615.630978,
          -79956066968.13623,
          -551666652.8879982,
          -568543353.7960731,
          -545778034.8008893,
          -531370374.43257016,
          -489349685.9636471,
          -557571793.077134,
          -525501397.63622344,
          -551005187.6869311,
          -551280568.7607194,
          -577447237.6800693,
          -545846918.1185575,
          -234251932.79005072,
          -548461881.422847,
          -540600324.8259822,
          -485483931.51231766,
          -13565721979.956406,
          -546762193.2229365,
          -551470065.2760046,
          -551861980.2296381,
          -536999096.6738013,
          -549673897.3696594,
          -545854983.7862469,
          -546880055.2872847,
          -320912134.3696914,
          -541940700.7319055,
          -550478886.8729173,
          -550490120.0491009,
          49004205746.95856,
          -539553344.5084343,
          -467219926.56603956,
          -525277455.39811826,
          -590486475.233957,
          -551274308.7560886,
          -555569428.9303781,
          -76374227.12893686,
          -547747664.8838693,
          -915976109.8958308,
          -586693693.5337701,
          -555812350.9860616,
          -564253998.2919661,
          -551074032.8945386,
          -511635773.4105291,
          -542350699.9166213,
          -591032336.3447005,
          1395018687.9181979,
          -591324939.9084133,
          -518873571.3744011,
          -534887849.334894,
          -697775705.2924658,
          -405511915.2098737,
          -544296264.8878813,
          -536946207.3877088,
          -50495945.92890295,
          36877260943.117485,
          -545118567.040062,
          -550047653.3209226,
          194569767.87157717,
          -440826194.3167292,
          -545114532.4845275,
          -516231838.1112915,
          9260062385.586767,
          -459132654.1681345,
          -526083402.34423333,
          -586829288.3276421,
          -557516196.8909544,
          4715014524.80612,
          -567388838.9695041,
          -495431523.3595292,
          -551190673.5253853,
          -1116709899.7593198,
          -548867529.3700846,
          -530665275.7692999,
          -544736456.2527145,
          -506129962.60754144,
          -556317042.7458712,
          -553667906.2790161,
          -517217681.198753,
          -542796178.4713676,
          -543074935.9405247,
          16627339697.513254,
          -535509811.0781606,
          -559782884.5727386,
          -555168204.8490709,
          10195504.68156493,
          -574975719.8928387,
          -106096808.60566856,
          -541223205.0583276,
          -555335953.4235779,
          -556385824.6120157,
          -557711883.487145,
          -5196063116.450073,
          4701363941.473318,
          -522909112.37183607,
          -124381609071.49036,
          -548656387.9565406,
          -523354517.7648001,
          -528507209.04472864,
          -529433558.51691943,
          -543041623.2520742,
          -551793437.7651656,
          -513542716.8247822,
          -526193005.5344342,
          -492098629.63832134,
          -543040778.8725972,
          5441073264.107333,
          -508328634.1782554,
          -1990345632.002942,
          -543375471.0657212,
          -540359535.6401992,
          -559034667.8396606,
          -554649086.407701,
          -30007089683.612293,
          -579945971.7499508,
          -435423150.4724329,
          -527437833.2945729,
          -501503434.1168389,
          -541614779.2809408,
          -476812067.8404813,
          -586820630.4896498,
          -550430743.2030231,
          -557028948.3798419,
          -3841725626.287234,
          -526911080.0334966,
          -533269090.36868817,
          -421248884.4492227,
          -539401507.4398232,
          -511306085.81215173,
          -549621606.6096555,
          -10135621299.317993,
          -604141109.2016269,
          -637265913.6818805,
          -541313009.701166,
          25269886972.279667,
          -547901597.9331903,
          4000639853.017485,
          -547864875.9247831,
          -554935749.9638622,
          -344697340.2540556,
          -432406698.6942534,
          20206531550.77431,
          -482518725.716885,
          -1481939144.0932252,
          -564364642.4752209,
          18412199900.73108,
          -544015551.2121688,
          -546548517.8680744,
          -513873238.7751965,
          -559759185.3264649,
          -557629344.9361081,
          -611856784.3814633,
          -550425309.029692,
          -543569633.5689658,
          -546094249.1618483,
          -557632502.3797822,
          -549071677.3600317,
          -555456898.2802542,
          -550849164.1746675,
          -543390600.3873062,
          -546126454.6783934,
          -637568774.3762583,
          -498165971.9296882,
          -4207444325.5776806,
          -593172332.292451,
          -557514873.1233776,
          -349520736.14861876,
          516276292.3704995,
          -682877735.524077,
          -541026883.3604766,
          -3891148148.9834933,
          -483125601.83055115,
          -550326046.6988807,
          -601039016.0803459,
          -539629708.4460415,
          -520608809.5234157,
          -510374719.82290024,
          -613641353.2332157,
          2486595503.20006,
          -119378540.54287496,
          -543277786.3401068,
          -559400386.5302919,
          -537186781.995833,
          -549489084.8527284,
          -548780089.3411623,
          -577031452.9275723,
          -531616769.32199866,
          -423873589.3975574,
          -548242481.2164949,
          -525183533.02206415,
          -543807243.0087702,
          -501304042.6155223,
          -527775278.76849544,
          -571220883.3576654,
          -519832072.7051386,
          -554923054.4417319,
          -531561978.11937255,
          795835623.1311836,
          -557997559.597458,
          -541526466.0517803,
          -549196086.857224,
          -541942707.5203683,
          -570769098.2580366,
          -551054992.9198071,
          -250213498.702337,
          -491813636.0346773,
          -4280588063.703947,
          -534855781.47205096,
          -583869803.6774741,
          -529019355.66280377,
          -535048764.1787845,
          -526944238.77066225,
          -531463403.5545318,
          -21962808161.66438,
          -227483089.2938453,
          -550166127.0719135,
          -556968234.4304048,
          -546251570.2257526,
          -547239506.8696487,
          -544076867.0287397,
          -540940302.3408487,
          -545886072.6084772,
          -552806681.6131727,
          7892122265.123691,
          -535542100.501388,
          -557434895.5726343,
          -540427196.9767429,
          -54742212.850582115,
          311591734.0513986,
          -510380920.59164417,
          -457985476.4297537,
          -539432447.1034108,
          -551892819.4858085,
          -513521014.6402578,
          -453293074.61317563,
          -1318266669.590277,
          -371232248.9662678,
          -504138602.2882598,
          -542095876.0091345,
          7535414173.456771,
          -915976109.8958273,
          -508683879.5046729,
          -915976109.8958273,
          -416018370.2651039,
          -531125000.96953106,
          -520047682.66467524,
          -555333290.7407463,
          34282796050.653034,
          -15452556178.89477,
          1874606262.7733335,
          -553824205.0001175,
          -499043634.5707409,
          -551359997.8777707,
          -509405980.06461465,
          -540104976.5626934,
          -520787587.2320176,
          -552549410.1462704,
          -449708614.8949475,
          -556551631.4839476,
          -556586810.990584,
          -545245103.3017029,
          10171899198.355074,
          -511430587.7951182,
          -541023287.896546,
          -526032595.5081155,
          -472423353.69417447,
          1174543834.112587,
          -353528342.11711377,
          -563526895.0098888,
          -550220382.5923332,
          -539492348.5004793,
          -555839502.3625087,
          -915976109.8958288,
          3691722311.766082,
          48470701624.83486,
          -760305519.6779783,
          -1861324633.4555085,
          -453281397.87961304,
          2930878638.962838,
          -540936299.7866943,
          -543556650.281067,
          -558597201.7049603,
          -678004532.9523311,
          -725657671.2743398,
          3852554930.070808,
          -15989463772.989292,
          -478032466.78087425,
          -549153936.7045816,
          -594709290.0477072,
          -1157700436.7246552,
          -700282588.3262948,
          -561206880.5825896,
          -620580990.9717792,
          -559953852.6278695,
          -549064536.2197691,
          -552131521.5781977,
          -519562717.2846247,
          -556636855.9057521,
          -562399988.5540074,
          -574187212.9951987,
          -4203236659.7969904,
          -618414014.7759562,
          -521131804.3542325,
          -551742896.1832492,
          -550319297.2366426,
          413559571.4641101,
          -1433960311.8748965,
          -559213118.1634132,
          -1522142964.681865,
          -915976109.8958284,
          -586829288.327643,
          -553977061.1388506,
          -915976109.8958251,
          -1281694796.462206,
          -438137800.5590621,
          -698661475.1759646,
          -546071503.7923633,
          -549868344.864463
         ],
         "z": [
          0.8147277981448553,
          0.8144836720726654,
          -0.7128576361108088,
          -0.706030912952702,
          -0.5748212248366988,
          0.7739626850278098,
          -0.6960245568108969,
          -0.7058650252311666,
          -0.7130067702661258,
          0.12329614593851214,
          -0.6922548506133757,
          0.6767303793146839,
          0.0870560319546501,
          -0.5748355204278085,
          0.7219090375505335,
          -0.6156168691671371,
          -0.5748049203474619,
          0.8147297575021742,
          0.8143221900659589,
          -0.7013882809052756,
          -0.7128347319713402,
          -0.5747292976196716,
          -0.5747727667905538,
          0.8146492438600954,
          -0.6600724673157021,
          -0.678896610509304,
          -0.5748312577098906,
          0.8147281745546489,
          -0.5748364470526919,
          0.8147279420348204,
          -0.5748411855104314,
          -0.6156145560896698,
          0.16873225324904012,
          0.7106452271796758,
          -0.6987301742885296,
          -0.7078959459346801,
          -0.5719556725479727,
          -0.5748451860791831,
          -0.5747465108234304,
          -0.5748354045583219,
          0.13111729393573437,
          0.16057855318756278,
          -0.5748404493812505,
          -0.692388884401634,
          -0.5742664444100793,
          -0.5748342065577795,
          -0.5748170650196426,
          0.8147676798276506,
          0.1832194026286248,
          -0.5595467949902041,
          0.7739571828940607,
          -0.7128596546110546,
          -0.5747312166854195,
          -0.5748449820607088,
          -0.5748484046363819,
          0.7141116490318037,
          -0.5748392407500931,
          -0.6823945285883333,
          0.21147547115373075,
          -0.5748444224636029,
          0.6776360503672836,
          0.22507068559550059,
          0.754979818287332,
          -0.5642512176519726,
          -0.7128555993537786,
          -0.5747904192198018,
          0.7550123287357934,
          0.6970506726744516,
          0.8149246783730432,
          0.8147596928696261,
          0.796014887475642,
          -0.5748325431744604,
          -0.5746624483598028,
          -0.5748237982992943,
          0.18425847884309068,
          0.7739506917542083,
          -0.7125059491570008,
          0.0980212205712819,
          -0.7128529867406708,
          0.12555017749064176,
          0.7739578496396489,
          -0.7128438819389912,
          -0.712800022531886,
          -0.7128630702178474,
          -0.615626666512189,
          0.8153178161214244,
          0.8147764509599463,
          -0.5748450018089358,
          0.16085424131930023,
          -0.6817951018477731,
          -0.5747108919093112,
          0.7739506943584782,
          0.09792790099612972,
          -0.712851839772059,
          0.7550008788384234,
          0.8154405250219541,
          -0.7388164573608091,
          0.05845471570051023,
          0.12163545783025076,
          -0.5748074677701648,
          0.6767433604845908,
          0.7106098459720377,
          -0.5737576314501082,
          0.2250506007520063,
          -0.5748022649952242,
          0.7550303987712551,
          -0.5748467842351714,
          0.2253600685591505,
          -0.5748168369709805,
          0.8147268611755896,
          0.755025545279697,
          -0.5745474941285278,
          -0.6821811594437525,
          0.184305273781207,
          -0.7019665726452269,
          -0.6824143523287443,
          -0.5748525407564162,
          0.8147365343935355,
          -0.5697197630481564,
          -0.6814928329802773,
          -0.5748486848055514,
          -0.7128541479391853,
          -0.5005870886593589,
          0.7739497254605742,
          0.05975173161255139,
          -0.6156198263776179,
          -0.6925562029610086,
          -0.7128291626046492,
          0.7137789724291295,
          -0.6156190711124849,
          0.12019896931749083,
          -0.5746998724577881,
          -0.5746952579194959,
          0.22508483996569736,
          -0.7059552279241721,
          0.7550476543886482,
          -0.7070843136304674,
          0.6774931505762872,
          0.7216554151259071,
          -0.615623109539888,
          -0.7128595959666141,
          0.7107598075855903,
          -0.5748133274991764,
          -0.6824716794999388,
          0.676728859567311,
          0.7883624221812415,
          -0.574825563452134,
          0.6767186453233122,
          -0.7092837672735939,
          0.7228373821710345,
          0.8147559561057368,
          0.22522054790050133,
          -0.6155868867673798,
          -0.6891901028115356,
          -0.5747133036927152,
          -0.6825224223322127,
          0.7742540105760848,
          0.28138033260216583,
          0.6767429374957109,
          0.16234023852930135,
          0.1311242967686253,
          -0.5748368398765399,
          -0.6156144317947144,
          0.7739253411561564,
          0.6768924627114339,
          0.6771265837908835,
          0.729284359574215,
          0.7740473241900571,
          -0.5748486853172162,
          0.12245217211193143,
          0.8158231655724353,
          0.8147606944206589,
          0.8147446847641002,
          0.16552040561871978,
          -0.6156065955899116,
          0.1844017920349654,
          0.022122799904832076,
          0.7739811165124628,
          0.8147728918155541,
          -0.7424766492040115,
          0.6767300147585043,
          -0.7128592705476525,
          0.7739526934904907,
          0.814743101050491,
          -0.7015947042172022,
          0.8147265598547248,
          -0.574761936246604,
          0.2249596940063118,
          -0.7128603696680634,
          0.16296253316431378,
          -0.5748316713069179,
          0.7280200032898365,
          0.1311333939670665,
          0.8147063995376307,
          0.7749925298760784,
          -0.6925869808047399,
          0.1310582771599294,
          0.1653625808367458,
          0.7137973324195381,
          0.13135251039839474,
          0.7297411857248296,
          -0.7059577500015535,
          -0.7130056407429554,
          0.061382623088589064,
          0.7739631987804981,
          -0.5669021615443544,
          -0.6157482805886418,
          0.6968589727739987,
          0.7739513423952205,
          0.13112936275652673,
          0.8147479986076318,
          0.8147601366134616,
          -0.6154810266488211,
          0.1311242967686253,
          0.7739952489662622,
          0.6767216618252117,
          0.8147415132053629,
          0.11991361168748312,
          0.8147433264206034,
          0.8152460392429146,
          0.7739542076370937,
          -0.7424634011889574,
          0.8148386861109982,
          0.22972993288943308,
          0.8147360747489674,
          0.8147283580626604,
          0.13981597516483696,
          0.7072106383963223,
          -0.5748471691425054,
          -0.7424655209203497,
          -0.6925936607706569,
          0.8151160969055663,
          0.676728782373303,
          0.7739546298287975,
          0.814736395872801,
          -0.5352493647186969,
          0.8147453058519809,
          -0.6958712481634116,
          0.22511048337232703,
          0.16089344562579785,
          -0.5748480657984765,
          0.165364611407544,
          -0.614838098745299,
          -0.7130097045127101,
          0.8148966644011448,
          -0.5748318028314879,
          -0.6925954223053415,
          0.22507273019515656,
          -0.6825304368968796,
          0.7740230088646612,
          0.7138024785375652,
          0.7739688645938712,
          -0.571660931592677,
          0.13113900380745108,
          0.7740176733639873,
          -0.6602791199568363,
          0.1311875586304325,
          0.774276625891994,
          0.8147414932794124,
          0.8147501508519679,
          0.8155346719859515,
          0.14752889381393158,
          0.7739720184663547,
          -0.5748330603722727,
          0.22649394649997046,
          -0.7116863147164193,
          0.13113786454779733,
          0.814798919533607,
          0.7683364555000686,
          0.08720850326739278,
          -0.5747993996187188,
          0.12246665067946097,
          -0.6959728891310473,
          0.7397100249449025,
          -0.6825435057913091,
          -0.6857671680396726,
          -0.6825182894251667,
          -0.7420203731202872,
          0.7292703900529637,
          -0.6155676067004124,
          0.7293216663788846,
          0.7173335464376329,
          -0.5748448042196398,
          0.7550326432468916,
          -0.5747915486676304,
          -0.6155940878109945,
          -0.6156123141642953,
          0.8493138273594188,
          -0.7424451793011161,
          0.7550232677146692,
          -0.6825252010588505,
          -0.6764678431690618,
          0.12130499980308845,
          -0.6148161630171873,
          0.7173076766883407,
          -0.7128576797817078,
          0.7739503426045545,
          0.22507008997118624,
          0.09118394581293066,
          -0.5663735725181442,
          0.1311680891976255,
          -0.6661337718788625,
          -0.5748388399038292,
          -0.5747921263966161,
          -0.5747889093950082,
          -0.5747895922737317,
          0.8147542741732872,
          0.8147285073760683,
          -0.7424136882648005,
          0.1221976184045068,
          0.1411323052605929,
          0.7739678501241584,
          -0.6993946291184067,
          0.6972559795909751,
          -0.6158982535030091,
          0.8147397698125981,
          -0.6925077672271567,
          0.11809055504013832,
          -0.7130130381910529,
          0.8039746459567315,
          0.6767354045968438,
          0.7298757899440594,
          0.7144321825377379,
          -0.6891062039282446,
          0.8147433769876541,
          0.7296122604418687,
          -0.5748318964058342,
          0.1212718527658493,
          0.8147292904806586,
          0.08857339536194374,
          -0.6154552232693806,
          -0.6924946480027852,
          -0.7057443039200323,
          -0.692504956369648,
          0.7740425443071655,
          0.06157049283722158,
          0.7353528339710909,
          0.7550743593036906,
          -0.7016997632013212,
          0.8148264690971516,
          -0.6861764242450604,
          -0.7424725104238056,
          -0.6982227442734503,
          0.13961905225971386,
          0.13981590158729262,
          -0.6152332076808034,
          -0.6954884641928317,
          0.8519523067202773,
          0.8148435027597913,
          -0.5733432800498023,
          0.773962215439711,
          -0.6253867858743898,
          -0.6156126129419666,
          -0.6925149603530792,
          0.13989001809076104,
          -0.6923146747366021,
          -0.5748261621087289,
          0.8150770062193373,
          0.8147294282292586,
          0.18430498468632828,
          -0.6156127422154305,
          -0.7128597384116623,
          -0.6790763721419112,
          0.12245689273810474,
          0.093954840752028,
          0.16089308453382753,
          -0.6825204420226038,
          0.8147651582632858,
          -0.7422940036908279,
          -0.5731601267806592,
          -0.6891984681190294,
          -0.6813532803420141,
          0.16586090709549392,
          0.05934748111723914,
          0.056524565923738765,
          -0.5748244463725664,
          -0.5692408060368457,
          -0.615357176282623,
          0.7104976862076443,
          0.056325358862031605,
          0.7739694877415917,
          0.7155110750786314,
          0.22515172324945762,
          0.12165636628048357,
          -0.700873478309774,
          -0.7417236323253058,
          -0.5748344364865294,
          -0.6825265736690888,
          0.7292965393217249,
          0.8147296799235612,
          0.8147310795026206,
          -0.7130080531158697,
          0.225300926588624,
          -0.6923747179688717,
          0.12127347370893476,
          0.131177988017828,
          0.8147457069391594,
          0.059352425240284216,
          -0.6155654762760727,
          0.7295426649238195,
          0.1311784252533522,
          -0.7424750995073836,
          0.11811811495397889,
          0.8179658900584014,
          -0.6603081047987296,
          -0.6925825760648592,
          0.06172138901258151,
          -0.6825167261104934,
          0.22506423276584053,
          -0.6925954077780113,
          -0.7419954654519639,
          -0.6853297423586592,
          0.8164502340242659,
          0.22509859939876947,
          -0.6824816950585287,
          0.724432670815604,
          -0.7420300526992197,
          0.8147818149144771,
          0.13203629584021656,
          0.18554771950272017,
          0.14033352263827575,
          0.08709762762803779,
          0.12304540888891725,
          -0.681819508028283,
          -0.6825193279192328,
          -0.6156121319857284,
          0.707787509124266,
          0.13982301121816434,
          0.729470805126285,
          0.23869270623013134,
          0.7077802141146718,
          0.13984913638958105,
          -0.5748318504946025,
          0.8155315417576504,
          -0.6946109343488528,
          -0.682462422452216,
          -0.6739535787511468,
          0.1843229422719399,
          0.773971409316122,
          0.2252090349629863,
          0.1312844762182038,
          -0.7125085246156257,
          0.7107957254598998,
          0.18436869076951473,
          -0.6156089177998797,
          0.8285806753045208,
          0.05761747776294944,
          -0.6817576472027247,
          0.056421896196472955,
          -0.7095877265837292,
          0.12583909340252558,
          -0.6925403229753191,
          -0.7128576778188531,
          0.11777241449128072,
          0.17330529224998073,
          -0.7371493993985884,
          0.7294914735536644,
          -0.689099465886747,
          -0.6891730614331001,
          0.08697388746278654,
          -0.6825140430549708,
          -0.5747744494318731,
          0.814735316285954,
          -0.7128296584922341,
          0.7294741325238624,
          -0.7130101319741249,
          0.13982013824406975,
          0.8554289601780309,
          -0.6823378207736809,
          0.18430629177768618,
          0.8147824869521971,
          0.7157395200996289,
          0.7278369620844316,
          0.7742798696150132,
          -0.712844863970674,
          -0.6345536360273791,
          -0.7127815461477638,
          0.7739597306572366,
          0.06151965850995245,
          0.8332010981663128,
          -0.4956986236546261,
          0.7737958501585455,
          -0.6917395288902054,
          0.8148869788826175,
          -0.6835478687410658,
          0.8147584587470931,
          0.087067746342435,
          0.8147216502851893,
          0.7740757520139298,
          -0.5745396257619501,
          0.8225772969531202,
          0.6654154041042701,
          0.7744423976727248,
          -0.7128439148339377,
          0.8147016064280445,
          -0.5533733905390257,
          0.8147925893213167,
          -0.6788948194729659,
          0.7739900516084045,
          0.8147908044043579,
          0.13112574497709356,
          -0.574847978631019,
          -0.574746361738221,
          0.11990259344535924,
          0.6767505313200273,
          0.06140327030240173,
          0.22676359185169043,
          0.8148090941489167,
          0.6970975374967605,
          -0.7019248764360466,
          0.755022010449507,
          -0.6808916371627344,
          0.060699351379783335,
          -0.7059580400454644,
          0.06063434561341043,
          0.08722246524849854,
          0.056268436244428115,
          0.13112196318581754,
          0.06664211616078405,
          0.02569969606563977,
          0.8149200655045141,
          -0.7419751802622176,
          -0.7130067150388935,
          0.22506867861781618
         ]
        },
        {
         "customdata": [
          [
           "X13"
          ],
          [
           "Scrypt"
          ],
          [
           "CryptoNight"
          ],
          [
           "Scrypt"
          ],
          [
           "CryptoNight"
          ],
          [
           "CryptoNight Heavy"
          ]
         ],
         "hovertemplate": "<b>%{hovertext}</b><br><br>Class=%{marker.color}<br>PC 1=%{x}<br>PC 2=%{y}<br>PC 3=%{z}<br>Algorithm=%{customdata[0]}<extra></extra>",
         "hovertext": [
          "EliteCoin",
          "MoonCoin",
          "ByteCoin",
          "gCn Coin",
          "Newton Coin",
          "Qwertycoin"
         ],
         "legendgroup": "3",
         "marker": {
          "color": [
           3,
           3,
           3,
           3,
           3,
           3
          ],
          "coloraxis": "coloraxis",
          "symbol": "diamond"
         },
         "mode": "markers",
         "name": "3",
         "scene": "scene",
         "showlegend": true,
         "type": "scatter3d",
         "x": [
          275050695134.2683,
          320881298544.4533,
          240172639961.86362,
          243112535859.06177,
          168353963292.72482,
          197901564926.96082
         ],
         "y": [
          131237019271.3756,
          191524403584.55133,
          -67666553190.34526,
          -41702919734.180016,
          55728050992.983536,
          5516264467.4440365
         ],
         "z": [
          0.9899193270563824,
          -0.2648866730302624,
          -0.7110736791285728,
          -0.5174926172632576,
          -0.6203156104185313,
          -0.6000831135067719
         ]
        },
        {
         "customdata": [
          [
           "CryptoNight"
          ]
         ],
         "hovertemplate": "<b>%{hovertext}</b><br><br>Class=%{marker.color}<br>PC 1=%{x}<br>PC 2=%{y}<br>PC 3=%{z}<br>Algorithm=%{customdata[0]}<extra></extra>",
         "hovertext": [
          "TurtleCoin"
         ],
         "legendgroup": "2",
         "marker": {
          "color": [
           2
          ],
          "coloraxis": "coloraxis",
          "symbol": "square"
         },
         "mode": "markers",
         "name": "2",
         "scene": "scene",
         "showlegend": true,
         "type": "scatter3d",
         "x": [
          880864030324.6997
         ],
         "y": [
          453629691942.3548
         ],
         "z": [
          0.030792705486581504
         ]
        },
        {
         "customdata": [
          [
           "TRC10"
          ]
         ],
         "hovertemplate": "<b>%{hovertext}</b><br><br>Class=%{marker.color}<br>PC 1=%{x}<br>PC 2=%{y}<br>PC 3=%{z}<br>Algorithm=%{customdata[0]}<extra></extra>",
         "hovertext": [
          "BitTorrent"
         ],
         "legendgroup": "1",
         "marker": {
          "color": [
           1
          ],
          "coloraxis": "coloraxis",
          "symbol": "x"
         },
         "mode": "markers",
         "name": "1",
         "scene": "scene",
         "showlegend": true,
         "type": "scatter3d",
         "x": [
          1340811489662.2126
         ],
         "y": [
          -362601987963.5749
         ],
         "z": [
          0.22726717195028193
         ]
        }
       ],
       "layout": {
        "coloraxis": {
         "colorbar": {
          "title": {
           "text": "Class"
          }
         },
         "colorscale": [
          [
           0,
           "#0d0887"
          ],
          [
           0.1111111111111111,
           "#46039f"
          ],
          [
           0.2222222222222222,
           "#7201a8"
          ],
          [
           0.3333333333333333,
           "#9c179e"
          ],
          [
           0.4444444444444444,
           "#bd3786"
          ],
          [
           0.5555555555555556,
           "#d8576b"
          ],
          [
           0.6666666666666666,
           "#ed7953"
          ],
          [
           0.7777777777777778,
           "#fb9f3a"
          ],
          [
           0.8888888888888888,
           "#fdca26"
          ],
          [
           1,
           "#f0f921"
          ]
         ]
        },
        "legend": {
         "title": {
          "text": "Class"
         },
         "tracegroupgap": 0,
         "x": 0,
         "y": 1
        },
        "margin": {
         "t": 60
        },
        "scene": {
         "domain": {
          "x": [
           0,
           1
          ],
          "y": [
           0,
           1
          ]
         },
         "xaxis": {
          "title": {
           "text": "PC 1"
          }
         },
         "yaxis": {
          "title": {
           "text": "PC 2"
          }
         },
         "zaxis": {
          "title": {
           "text": "PC 3"
          }
         }
        },
        "template": {
         "data": {
          "bar": [
           {
            "error_x": {
             "color": "#2a3f5f"
            },
            "error_y": {
             "color": "#2a3f5f"
            },
            "marker": {
             "line": {
              "color": "#E5ECF6",
              "width": 0.5
             }
            },
            "type": "bar"
           }
          ],
          "barpolar": [
           {
            "marker": {
             "line": {
              "color": "#E5ECF6",
              "width": 0.5
             }
            },
            "type": "barpolar"
           }
          ],
          "carpet": [
           {
            "aaxis": {
             "endlinecolor": "#2a3f5f",
             "gridcolor": "white",
             "linecolor": "white",
             "minorgridcolor": "white",
             "startlinecolor": "#2a3f5f"
            },
            "baxis": {
             "endlinecolor": "#2a3f5f",
             "gridcolor": "white",
             "linecolor": "white",
             "minorgridcolor": "white",
             "startlinecolor": "#2a3f5f"
            },
            "type": "carpet"
           }
          ],
          "choropleth": [
           {
            "colorbar": {
             "outlinewidth": 0,
             "ticks": ""
            },
            "type": "choropleth"
           }
          ],
          "contour": [
           {
            "colorbar": {
             "outlinewidth": 0,
             "ticks": ""
            },
            "colorscale": [
             [
              0,
              "#0d0887"
             ],
             [
              0.1111111111111111,
              "#46039f"
             ],
             [
              0.2222222222222222,
              "#7201a8"
             ],
             [
              0.3333333333333333,
              "#9c179e"
             ],
             [
              0.4444444444444444,
              "#bd3786"
             ],
             [
              0.5555555555555556,
              "#d8576b"
             ],
             [
              0.6666666666666666,
              "#ed7953"
             ],
             [
              0.7777777777777778,
              "#fb9f3a"
             ],
             [
              0.8888888888888888,
              "#fdca26"
             ],
             [
              1,
              "#f0f921"
             ]
            ],
            "type": "contour"
           }
          ],
          "contourcarpet": [
           {
            "colorbar": {
             "outlinewidth": 0,
             "ticks": ""
            },
            "type": "contourcarpet"
           }
          ],
          "heatmap": [
           {
            "colorbar": {
             "outlinewidth": 0,
             "ticks": ""
            },
            "colorscale": [
             [
              0,
              "#0d0887"
             ],
             [
              0.1111111111111111,
              "#46039f"
             ],
             [
              0.2222222222222222,
              "#7201a8"
             ],
             [
              0.3333333333333333,
              "#9c179e"
             ],
             [
              0.4444444444444444,
              "#bd3786"
             ],
             [
              0.5555555555555556,
              "#d8576b"
             ],
             [
              0.6666666666666666,
              "#ed7953"
             ],
             [
              0.7777777777777778,
              "#fb9f3a"
             ],
             [
              0.8888888888888888,
              "#fdca26"
             ],
             [
              1,
              "#f0f921"
             ]
            ],
            "type": "heatmap"
           }
          ],
          "heatmapgl": [
           {
            "colorbar": {
             "outlinewidth": 0,
             "ticks": ""
            },
            "colorscale": [
             [
              0,
              "#0d0887"
             ],
             [
              0.1111111111111111,
              "#46039f"
             ],
             [
              0.2222222222222222,
              "#7201a8"
             ],
             [
              0.3333333333333333,
              "#9c179e"
             ],
             [
              0.4444444444444444,
              "#bd3786"
             ],
             [
              0.5555555555555556,
              "#d8576b"
             ],
             [
              0.6666666666666666,
              "#ed7953"
             ],
             [
              0.7777777777777778,
              "#fb9f3a"
             ],
             [
              0.8888888888888888,
              "#fdca26"
             ],
             [
              1,
              "#f0f921"
             ]
            ],
            "type": "heatmapgl"
           }
          ],
          "histogram": [
           {
            "marker": {
             "colorbar": {
              "outlinewidth": 0,
              "ticks": ""
             }
            },
            "type": "histogram"
           }
          ],
          "histogram2d": [
           {
            "colorbar": {
             "outlinewidth": 0,
             "ticks": ""
            },
            "colorscale": [
             [
              0,
              "#0d0887"
             ],
             [
              0.1111111111111111,
              "#46039f"
             ],
             [
              0.2222222222222222,
              "#7201a8"
             ],
             [
              0.3333333333333333,
              "#9c179e"
             ],
             [
              0.4444444444444444,
              "#bd3786"
             ],
             [
              0.5555555555555556,
              "#d8576b"
             ],
             [
              0.6666666666666666,
              "#ed7953"
             ],
             [
              0.7777777777777778,
              "#fb9f3a"
             ],
             [
              0.8888888888888888,
              "#fdca26"
             ],
             [
              1,
              "#f0f921"
             ]
            ],
            "type": "histogram2d"
           }
          ],
          "histogram2dcontour": [
           {
            "colorbar": {
             "outlinewidth": 0,
             "ticks": ""
            },
            "colorscale": [
             [
              0,
              "#0d0887"
             ],
             [
              0.1111111111111111,
              "#46039f"
             ],
             [
              0.2222222222222222,
              "#7201a8"
             ],
             [
              0.3333333333333333,
              "#9c179e"
             ],
             [
              0.4444444444444444,
              "#bd3786"
             ],
             [
              0.5555555555555556,
              "#d8576b"
             ],
             [
              0.6666666666666666,
              "#ed7953"
             ],
             [
              0.7777777777777778,
              "#fb9f3a"
             ],
             [
              0.8888888888888888,
              "#fdca26"
             ],
             [
              1,
              "#f0f921"
             ]
            ],
            "type": "histogram2dcontour"
           }
          ],
          "mesh3d": [
           {
            "colorbar": {
             "outlinewidth": 0,
             "ticks": ""
            },
            "type": "mesh3d"
           }
          ],
          "parcoords": [
           {
            "line": {
             "colorbar": {
              "outlinewidth": 0,
              "ticks": ""
             }
            },
            "type": "parcoords"
           }
          ],
          "pie": [
           {
            "automargin": true,
            "type": "pie"
           }
          ],
          "scatter": [
           {
            "marker": {
             "colorbar": {
              "outlinewidth": 0,
              "ticks": ""
             }
            },
            "type": "scatter"
           }
          ],
          "scatter3d": [
           {
            "line": {
             "colorbar": {
              "outlinewidth": 0,
              "ticks": ""
             }
            },
            "marker": {
             "colorbar": {
              "outlinewidth": 0,
              "ticks": ""
             }
            },
            "type": "scatter3d"
           }
          ],
          "scattercarpet": [
           {
            "marker": {
             "colorbar": {
              "outlinewidth": 0,
              "ticks": ""
             }
            },
            "type": "scattercarpet"
           }
          ],
          "scattergeo": [
           {
            "marker": {
             "colorbar": {
              "outlinewidth": 0,
              "ticks": ""
             }
            },
            "type": "scattergeo"
           }
          ],
          "scattergl": [
           {
            "marker": {
             "colorbar": {
              "outlinewidth": 0,
              "ticks": ""
             }
            },
            "type": "scattergl"
           }
          ],
          "scattermapbox": [
           {
            "marker": {
             "colorbar": {
              "outlinewidth": 0,
              "ticks": ""
             }
            },
            "type": "scattermapbox"
           }
          ],
          "scatterpolar": [
           {
            "marker": {
             "colorbar": {
              "outlinewidth": 0,
              "ticks": ""
             }
            },
            "type": "scatterpolar"
           }
          ],
          "scatterpolargl": [
           {
            "marker": {
             "colorbar": {
              "outlinewidth": 0,
              "ticks": ""
             }
            },
            "type": "scatterpolargl"
           }
          ],
          "scatterternary": [
           {
            "marker": {
             "colorbar": {
              "outlinewidth": 0,
              "ticks": ""
             }
            },
            "type": "scatterternary"
           }
          ],
          "surface": [
           {
            "colorbar": {
             "outlinewidth": 0,
             "ticks": ""
            },
            "colorscale": [
             [
              0,
              "#0d0887"
             ],
             [
              0.1111111111111111,
              "#46039f"
             ],
             [
              0.2222222222222222,
              "#7201a8"
             ],
             [
              0.3333333333333333,
              "#9c179e"
             ],
             [
              0.4444444444444444,
              "#bd3786"
             ],
             [
              0.5555555555555556,
              "#d8576b"
             ],
             [
              0.6666666666666666,
              "#ed7953"
             ],
             [
              0.7777777777777778,
              "#fb9f3a"
             ],
             [
              0.8888888888888888,
              "#fdca26"
             ],
             [
              1,
              "#f0f921"
             ]
            ],
            "type": "surface"
           }
          ],
          "table": [
           {
            "cells": {
             "fill": {
              "color": "#EBF0F8"
             },
             "line": {
              "color": "white"
             }
            },
            "header": {
             "fill": {
              "color": "#C8D4E3"
             },
             "line": {
              "color": "white"
             }
            },
            "type": "table"
           }
          ]
         },
         "layout": {
          "annotationdefaults": {
           "arrowcolor": "#2a3f5f",
           "arrowhead": 0,
           "arrowwidth": 1
          },
          "autotypenumbers": "strict",
          "coloraxis": {
           "colorbar": {
            "outlinewidth": 0,
            "ticks": ""
           }
          },
          "colorscale": {
           "diverging": [
            [
             0,
             "#8e0152"
            ],
            [
             0.1,
             "#c51b7d"
            ],
            [
             0.2,
             "#de77ae"
            ],
            [
             0.3,
             "#f1b6da"
            ],
            [
             0.4,
             "#fde0ef"
            ],
            [
             0.5,
             "#f7f7f7"
            ],
            [
             0.6,
             "#e6f5d0"
            ],
            [
             0.7,
             "#b8e186"
            ],
            [
             0.8,
             "#7fbc41"
            ],
            [
             0.9,
             "#4d9221"
            ],
            [
             1,
             "#276419"
            ]
           ],
           "sequential": [
            [
             0,
             "#0d0887"
            ],
            [
             0.1111111111111111,
             "#46039f"
            ],
            [
             0.2222222222222222,
             "#7201a8"
            ],
            [
             0.3333333333333333,
             "#9c179e"
            ],
            [
             0.4444444444444444,
             "#bd3786"
            ],
            [
             0.5555555555555556,
             "#d8576b"
            ],
            [
             0.6666666666666666,
             "#ed7953"
            ],
            [
             0.7777777777777778,
             "#fb9f3a"
            ],
            [
             0.8888888888888888,
             "#fdca26"
            ],
            [
             1,
             "#f0f921"
            ]
           ],
           "sequentialminus": [
            [
             0,
             "#0d0887"
            ],
            [
             0.1111111111111111,
             "#46039f"
            ],
            [
             0.2222222222222222,
             "#7201a8"
            ],
            [
             0.3333333333333333,
             "#9c179e"
            ],
            [
             0.4444444444444444,
             "#bd3786"
            ],
            [
             0.5555555555555556,
             "#d8576b"
            ],
            [
             0.6666666666666666,
             "#ed7953"
            ],
            [
             0.7777777777777778,
             "#fb9f3a"
            ],
            [
             0.8888888888888888,
             "#fdca26"
            ],
            [
             1,
             "#f0f921"
            ]
           ]
          },
          "colorway": [
           "#636efa",
           "#EF553B",
           "#00cc96",
           "#ab63fa",
           "#FFA15A",
           "#19d3f3",
           "#FF6692",
           "#B6E880",
           "#FF97FF",
           "#FECB52"
          ],
          "font": {
           "color": "#2a3f5f"
          },
          "geo": {
           "bgcolor": "white",
           "lakecolor": "white",
           "landcolor": "#E5ECF6",
           "showlakes": true,
           "showland": true,
           "subunitcolor": "white"
          },
          "hoverlabel": {
           "align": "left"
          },
          "hovermode": "closest",
          "mapbox": {
           "style": "light"
          },
          "paper_bgcolor": "white",
          "plot_bgcolor": "#E5ECF6",
          "polar": {
           "angularaxis": {
            "gridcolor": "white",
            "linecolor": "white",
            "ticks": ""
           },
           "bgcolor": "#E5ECF6",
           "radialaxis": {
            "gridcolor": "white",
            "linecolor": "white",
            "ticks": ""
           }
          },
          "scene": {
           "xaxis": {
            "backgroundcolor": "#E5ECF6",
            "gridcolor": "white",
            "gridwidth": 2,
            "linecolor": "white",
            "showbackground": true,
            "ticks": "",
            "zerolinecolor": "white"
           },
           "yaxis": {
            "backgroundcolor": "#E5ECF6",
            "gridcolor": "white",
            "gridwidth": 2,
            "linecolor": "white",
            "showbackground": true,
            "ticks": "",
            "zerolinecolor": "white"
           },
           "zaxis": {
            "backgroundcolor": "#E5ECF6",
            "gridcolor": "white",
            "gridwidth": 2,
            "linecolor": "white",
            "showbackground": true,
            "ticks": "",
            "zerolinecolor": "white"
           }
          },
          "shapedefaults": {
           "line": {
            "color": "#2a3f5f"
           }
          },
          "ternary": {
           "aaxis": {
            "gridcolor": "white",
            "linecolor": "white",
            "ticks": ""
           },
           "baxis": {
            "gridcolor": "white",
            "linecolor": "white",
            "ticks": ""
           },
           "bgcolor": "#E5ECF6",
           "caxis": {
            "gridcolor": "white",
            "linecolor": "white",
            "ticks": ""
           }
          },
          "title": {
           "x": 0.05
          },
          "xaxis": {
           "automargin": true,
           "gridcolor": "white",
           "linecolor": "white",
           "ticks": "",
           "title": {
            "standoff": 15
           },
           "zerolinecolor": "white",
           "zerolinewidth": 2
          },
          "yaxis": {
           "automargin": true,
           "gridcolor": "white",
           "linecolor": "white",
           "ticks": "",
           "title": {
            "standoff": 15
           },
           "zerolinecolor": "white",
           "zerolinewidth": 2
          }
         }
        },
        "width": 800
       }
      }
     },
     "metadata": {}
    }
   ],
   "source": [
    "# Creating a 3D-Scatter with the PCA data and the clusters\n",
    "fig = px.scatter_3d(\n",
    "    clustered_df,\n",
    "    hover_name='CoinName' ,\n",
    "    hover_data=['Algorithm'],\n",
    "    x=\"PC 1\",\n",
    "    y=\"PC 2\",\n",
    "    z=\"PC 3\",\n",
    "    color=\"Class\",\n",
    "    symbol=\"Class\",\n",
    "    width=800)\n",
    "\n",
    "fig.update_layout(legend=dict(x=0, y=1))\n",
    "fig.show()\n"
   ]
  },
  {
   "cell_type": "code",
   "execution_count": 38,
   "metadata": {},
   "outputs": [
    {
     "output_type": "display_data",
     "data": {},
     "metadata": {}
    },
    {
     "output_type": "execute_result",
     "data": {
      "text/html": "<div id='1102'>\n\n\n\n\n\n  <div class=\"bk-root\" id=\"6a9a725b-4322-4d49-b824-5855c9fc7372\" data-root-id=\"1102\"></div>\n</div>\n<script type=\"application/javascript\">(function(root) {\n  function embed_document(root) {\n    var docs_json = {\"1c55732f-11ad-4524-a085-196587cf37af\":{\"roots\":{\"references\":[{\"attributes\":{\"format\":\"0,0.0[00000]\"},\"id\":\"1131\",\"type\":\"NumberFormatter\"},{\"attributes\":{},\"id\":\"1127\",\"type\":\"NumberEditor\"},{\"attributes\":{},\"id\":\"1147\",\"type\":\"IntEditor\"},{\"attributes\":{\"data\":{\"Algorithm\":[\"Scrypt\",\"Scrypt\",\"X13\",\"SHA-256\",\"Ethash\",\"Scrypt\",\"X11\",\"CryptoNight-V7\",\"Ethash\",\"Equihash\",\"SHA-512\",\"Multiple\",\"SHA-256\",\"SHA-256\",\"Scrypt\",\"X15\",\"X11\",\"Scrypt\",\"Scrypt\",\"Scrypt\",\"Multiple\",\"Scrypt\",\"SHA-256\",\"Scrypt\",\"Scrypt\",\"Scrypt\",\"Quark\",\"Groestl\",\"Scrypt\",\"Scrypt\",\"Scrypt\",\"Scrypt\",\"Scrypt\",\"X11\",\"Scrypt\",\"Groestl\",\"Multiple\",\"SHA-256\",\"Scrypt\",\"Scrypt\",\"Scrypt\",\"Scrypt\",\"PoS\",\"Scrypt\",\"Scrypt\",\"NeoScrypt\",\"Scrypt\",\"Scrypt\",\"Scrypt\",\"Scrypt\",\"X11\",\"Scrypt\",\"X11\",\"SHA-256\",\"Scrypt\",\"Scrypt\",\"Scrypt\",\"SHA3\",\"Scrypt\",\"HybridScryptHash256\",\"Scrypt\",\"Scrypt\",\"SHA-256\",\"Scrypt\",\"X13\",\"Scrypt\",\"SHA-256\",\"Scrypt\",\"X13\",\"NeoScrypt\",\"Scrypt\",\"Scrypt\",\"Scrypt\",\"Scrypt\",\"Scrypt\",\"Scrypt\",\"X11\",\"X11\",\"SHA-256\",\"Multiple\",\"SHA-256\",\"PHI1612\",\"X11\",\"SHA-256\",\"SHA-256\",\"SHA-256\",\"X11\",\"Scrypt\",\"Scrypt\",\"Scrypt\",\"Scrypt\",\"Lyra2REv2\",\"Scrypt\",\"X11\",\"Multiple\",\"SHA-256\",\"X13\",\"Scrypt\",\"CryptoNight\",\"CryptoNight\",\"Shabal256\",\"Counterparty\",\"Scrypt\",\"SHA-256\",\"Groestl\",\"Scrypt\",\"Scrypt\",\"Scrypt\",\"X13\",\"Scrypt\",\"Scrypt\",\"Scrypt\",\"Scrypt\",\"X13\",\"Scrypt\",\"Stanford Folding\",\"X11\",\"Multiple\",\"QuBit\",\"Scrypt\",\"Scrypt\",\"Scrypt\",\"M7 POW\",\"Scrypt\",\"SHA-256\",\"Scrypt\",\"X11\",\"SHA3\",\"X11\",\"Lyra2RE\",\"SHA-256\",\"QUAIT\",\"X11\",\"X11\",\"Scrypt\",\"Scrypt\",\"Scrypt\",\"Ethash\",\"X13\",\"Blake2b\",\"SHA-256\",\"X15\",\"X11\",\"SHA-256\",\"BLAKE256\",\"Scrypt\",\"1GB AES Pattern Search\",\"SHA-256\",\"X11\",\"Scrypt\",\"SHA-256\",\"SHA-256\",\"NIST5\",\"Scrypt\",\"Scrypt\",\"X11\",\"Dagger\",\"Scrypt\",\"X11GOST\",\"X11\",\"Scrypt\",\"SHA-256\",\"Scrypt\",\"PoS\",\"Scrypt\",\"X11\",\"X11\",\"SHA-256\",\"SHA-256\",\"NIST5\",\"X11\",\"Scrypt\",\"POS 3.0\",\"Scrypt\",\"Scrypt\",\"Scrypt\",\"X13\",\"X11\",\"X11\",\"Equihash\",\"X11\",\"Scrypt\",\"CryptoNight\",\"SHA-256\",\"SHA-256\",\"X11\",\"Scrypt\",\"Multiple\",\"Scrypt\",\"Scrypt\",\"Scrypt\",\"SHA-256\",\"Scrypt\",\"Scrypt\",\"SHA-256D\",\"PoS\",\"Scrypt\",\"X11\",\"Lyra2Z\",\"PoS\",\"X13\",\"X14\",\"PoS\",\"SHA-256D\",\"Ethash\",\"Equihash\",\"DPoS\",\"X11\",\"Scrypt\",\"X11\",\"X13\",\"X11\",\"PoS\",\"Scrypt\",\"Scrypt\",\"X11\",\"PoS\",\"X11\",\"SHA-256\",\"Scrypt\",\"X11\",\"Scrypt\",\"Scrypt\",\"X11\",\"CryptoNight\",\"Scrypt\",\"Scrypt\",\"Scrypt\",\"Scrypt\",\"Quark\",\"QuBit\",\"Scrypt\",\"CryptoNight\",\"Lyra2RE\",\"Scrypt\",\"SHA-256\",\"X11\",\"Scrypt\",\"X11\",\"Scrypt\",\"CryptoNight-V7\",\"Scrypt\",\"Scrypt\",\"Scrypt\",\"X13\",\"X11\",\"Equihash\",\"Scrypt\",\"Scrypt\",\"Lyra2RE\",\"Scrypt\",\"Dagger-Hashimoto\",\"X11\",\"Blake2S\",\"X11\",\"Scrypt\",\"PoS\",\"X11\",\"NIST5\",\"PoS\",\"X11\",\"Scrypt\",\"Scrypt\",\"Scrypt\",\"SHA-256\",\"X11\",\"Scrypt\",\"Scrypt\",\"SHA-256\",\"PoS\",\"Scrypt\",\"X15\",\"SHA-256\",\"Scrypt\",\"POS 3.0\",\"CryptoNight-V7\",\"536\",\"Argon2d\",\"Blake2b\",\"Cloverhash\",\"CryptoNight\",\"NIST5\",\"X11\",\"NIST5\",\"Skein\",\"Scrypt\",\"X13\",\"Scrypt\",\"X11\",\"X11\",\"Scrypt\",\"CryptoNight\",\"X13\",\"Time Travel\",\"Scrypt\",\"Keccak\",\"SkunkHash v2 Raptor\",\"X11\",\"Skein\",\"SHA-256\",\"X11\",\"Scrypt\",\"VeChainThor Authority\",\"Scrypt\",\"PoS\",\"Scrypt\",\"Scrypt\",\"Scrypt\",\"Scrypt\",\"Scrypt\",\"Scrypt\",\"Scrypt\",\"CryptoNight\",\"SHA-512\",\"Ouroboros\",\"X11\",\"Equihash\",\"NeoScrypt\",\"X11\",\"Scrypt\",\"NeoScrypt\",\"Lyra2REv2\",\"Equihash\",\"Scrypt\",\"SHA-256\",\"NIST5\",\"PHI1612\",\"Dagger\",\"Scrypt\",\"Quark\",\"Scrypt\",\"POS 2.0\",\"Scrypt\",\"SHA-256\",\"X11\",\"NeoScrypt\",\"Ethash\",\"NeoScrypt\",\"X11\",\"DPoS\",\"NIST5\",\"X13\",\"Multiple\",\"Scrypt\",\"CryptoNight\",\"CryptoNight\",\"Ethash\",\"NIST5\",\"Quark\",\"X11\",\"CryptoNight-V7\",\"Scrypt\",\"Scrypt\",\"Scrypt\",\"X11\",\"BLAKE256\",\"X11\",\"NeoScrypt\",\"Quark\",\"NeoScrypt\",\"Scrypt\",\"Scrypt\",\"Scrypt\",\"X11\",\"X11\",\"SHA-256\",\"C11\",\"POS 3.0\",\"Ethash\",\"Scrypt\",\"CryptoNight\",\"SkunkHash\",\"Scrypt\",\"CryptoNight\",\"Scrypt\",\"Dagger\",\"Lyra2REv2\",\"X13\",\"Proof-of-BibleHash\",\"SHA-256 + Hive\",\"Scrypt\",\"Scrypt\",\"X11\",\"C11\",\"Proof-of-Authority\",\"X11\",\"XEVAN\",\"Scrypt\",\"VBFT\",\"Ethash\",\"CryptoNight\",\"Scrypt\",\"IMesh\",\"NIST5\",\"Scrypt\",\"Scrypt\",\"Equihash\",\"Scrypt\",\"Lyra2Z\",\"Green Protocol\",\"PoS\",\"Scrypt\",\"Semux BFT consensus\",\"X11\",\"Quark\",\"PoS\",\"CryptoNight\",\"X16R\",\"Scrypt\",\"NIST5\",\"Lyra2RE\",\"XEVAN\",\"Tribus\",\"Scrypt\",\"Lyra2Z\",\"CryptoNight\",\"CryptoNight Heavy\",\"CryptoNight\",\"Scrypt\",\"Scrypt\",\"Jump Consistent Hash\",\"SHA-256D\",\"CryptoNight\",\"Scrypt\",\"X15\",\"Scrypt\",\"Quark\",\"SHA-256\",\"DPoS\",\"X16R\",\"HMQ1725\",\"X11\",\"X16R\",\"Quark\",\"Quark\",\"Scrypt\",\"Lyra2REv2\",\"Quark\",\"Scrypt\",\"Scrypt\",\"CryptoNight-V7\",\"Cryptonight-GPU\",\"XEVAN\",\"CryptoNight Heavy\",\"X11\",\"X11\",\"Scrypt\",\"PoS\",\"SHA-256\",\"Keccak\",\"X11\",\"X11\",\"Scrypt\",\"SHA-512\",\"X16R\",\"ECC 256K1\",\"Equihash\",\"XEVAN\",\"Lyra2Z\",\"SHA-256\",\"XEVAN\",\"X11\",\"CryptoNight\",\"Quark\",\"Blake\",\"Blake\",\"Equihash\",\"Exosis\",\"Scrypt\",\"Scrypt\",\"Equihash\",\"Quark\",\"Equihash\",\"Quark\",\"Scrypt\",\"QuBit\",\"X11\",\"Scrypt\",\"XEVAN\",\"SHA-256D\",\"X11\",\"SHA-256\",\"X13\",\"SHA-256\",\"X11\",\"DPoS\",\"Scrypt\",\"Scrypt\",\"X11\",\"NeoScrypt\",\"Scrypt\",\"Blake\",\"Scrypt\",\"SHA-256\",\"Scrypt\",\"X11\",\"Scrypt\",\"Scrypt\",\"SHA-256\",\"X11\",\"SHA-256\",\"Scrypt\",\"Scrypt\",\"Scrypt\",\"Groestl\",\"X11\",\"Scrypt\",\"PoS\",\"Scrypt\",\"Scrypt\",\"X11\",\"SHA-256\",\"DPoS\",\"Scrypt\",\"Scrypt\",\"NeoScrypt\",\"Multiple\",\"X13\",\"Equihash+Scrypt\",\"DPoS\",\"Ethash\",\"DPoS\",\"SHA-256\",\"Leased POS\",\"PoS\",\"TRC10\",\"PoS\",\"SHA-256\",\"Scrypt\",\"CryptoNight\",\"Equihash\",\"Scrypt\"],\"Class\":{\"__ndarray__\":\"AAAAAAAAAAADAAAAAAAAAAAAAAAAAAAAAAAAAAAAAAAAAAAAAAAAAAAAAAAAAAAAAAAAAAAAAAAAAAAAAAAAAAAAAAAAAAAAAAAAAAAAAAAAAAAAAwAAAAAAAAAAAAAAAAAAAAAAAAAAAAAAAAAAAAAAAAAAAAAAAAAAAAAAAAAAAAAAAAAAAAAAAAAAAAAAAAAAAAAAAAAAAAAAAAAAAAAAAAAAAAAAAAAAAAAAAAAAAAAAAAAAAAAAAAAAAAAAAAAAAAAAAAAAAAAAAAAAAAAAAAAAAAAAAAAAAAAAAAAAAAAAAAAAAAAAAAAAAAAAAAAAAAAAAAAAAAAAAAAAAAAAAAAAAAAAAAAAAAAAAAAAAAAAAAAAAAAAAAAAAAAAAAAAAAAAAAAAAAAAAAAAAAAAAAAAAAAAAAAAAAAAAAAAAAAAAAAAAAAAAAAAAAAAAAAAAAAAAAAAAAAAAAAAAAAAAAAAAAAAAAAAAAAAAAAAAAAAAAAAAAAAAAAAAAAAAAAAAAAAAAADAAAAAAAAAAAAAAAAAAAAAAAAAAAAAAAAAAAAAAAAAAAAAAAAAAAAAAAAAAAAAAAAAAAAAAAAAAAAAAAAAAAAAAAAAAAAAAAAAAAAAAAAAAAAAAAAAAAAAAAAAAAAAAAAAAAAAAAAAAAAAAAAAAAAAAAAAAAAAAAAAAAAAAAAAAAAAAAAAAAAAAAAAAAAAAAAAAAAAAAAAAAAAAAAAAAAAAAAAAAAAAAAAAAAAAAAAAAAAAAAAAAAAAAAAAAAAAAAAAAAAAAAAAAAAAAAAAAAAAAAAAAAAAAAAAAAAAAAAAAAAAAAAAAAAAAAAAAAAAAAAAAAAAAAAAAAAAAAAAAAAAAAAAAAAAAAAAAAAAAAAAAAAAAAAAAAAAAAAAAAAAAAAAAAAAAAAAAAAAAAAAAAAAAAAAAAAAAAAAAAAAAAAAAAAAAAAAAAAAAAAAAAAAAAAAAAAAAAAAAAAAAAAAAAAAAAAAAAAAAAAAAAAAAAAAAAAAAAAAAAAAAAAAAAAAAAAAAAAAAAAAAAAAAAAAAAAAAAAAAAAAAAAAAAAAAAAAAAAAAAAAAAAAAAAAAAAAAAAAAAAAAAAAAAAAAAAAAAAAAAAAAAAAAAAAAAAAAAAAAAAAAAAAAAAAAAAAAAAAAAAAAAAAAAAAAAAAAAAAAAAAAAAAAAAAAAAAAAAAAAAAAAAAAAAAAAAAAAAAAAAAAAAAAAAAAAAAAAAAAAAAAAAAAAAAAAAAAAAAAAAAAAAAAAAAAAAAAAAAAAAAAAAAAAAAAAAAAAAAAAAAAAAAAAAAAAAAAAAAAAAAAAAAAAAAAAAAAAAAAAAAAAAAAAAAAAAAAAAAAAAAAAAAAAAAAAAAAAAAAAAAAAAAAAAAAAAAAAAAAAAAAAAAAAAAAAAAAAAAAAAAAAAAAAAAAAAAAAAAAAAAAAAAAAAAAAAAAAAAAAAAAAAAAAAAAAAAAAAAAAAAAAAAAAAAAAAAAAAAAAAAAAAAAAAAAAAAAAAAAAAAAAAAAAAAAAAAAAAAAAAAAAAAAAAAAAAAAAAAAAAAAAAwAAAAAAAAAAAAAAAAAAAAAAAAAAAAAAAAAAAAAAAAAAAAAAAAAAAAAAAAAAAAAAAAAAAAAAAAAAAAAAAAAAAAAAAAAAAAAAAAAAAAAAAAAAAAAAAAAAAAAAAAAAAAAAAAAAAAAAAAAAAAAAAAAAAAAAAAAAAAAAAAAAAAAAAAAAAAAAAAAAAAAAAAAAAAAAAAAAAAAAAAAAAAAAAAAAAAAAAAAAAAAAAAAAAAAAAAAAAAAAAAAAAAAAAAAAAAAAAAAAAAAAAAAAAAAAAAAAAAAAAAAAAAAAAAAAAAAAAAAAAAAAAAAAAAAAAAAAAAAAAAAAAAAAAAAAAAAAAAAAAAAAAAAAAAAAAAAAAAAAAAAAAAAAAAAAAAAAAAAAAAAAAAAAAAAAAAAAAAAAAAAAAAIAAAAAAAAAAAAAAAAAAAAAAAAAAAAAAAAAAAAAAAAAAAAAAAAAAAAAAAAAAAAAAAAAAAAAAAAAAAAAAAAAAAAAAAAAAAAAAAAAAAAAAAAAAAAAAAAAAAAAAAAAAAAAAAAAAAAAAAAAAAAAAAAAAAAAAAAAAAAAAAAAAAAAAAAAAAAAAAAAAAAAAAAAAAAAAAAAAAAAAAAAAAAAAAAAAAAAAAAAAAAAAAAAAAAAAAAAAAAAAAAAAAAAAAAAAwAAAAAAAAAAAAAAAAAAAAAAAAAAAAAAAAAAAAAAAAAAAAAAAAAAAAAAAAAAAAAAAAAAAAAAAAAAAAAAAAAAAAAAAAAAAAAAAAAAAAAAAAAAAAAAAAAAAAAAAAAAAAAAAAAAAAAAAAADAAAAAAAAAAAAAAAAAAAAAAAAAAAAAAAAAAAAAAAAAAAAAAAAAAAAAAAAAAAAAAAAAAAAAAAAAAAAAAAAAAAAAAAAAAAAAAAAAAAAAAAAAAAAAAAAAAAAAAAAAAAAAAAAAAAAAAAAAAAAAAAAAAAAAAAAAAAAAAAAAAAAAAAAAAAAAAAAAAAAAAAAAAAAAAAAAAAAAAAAAAAAAAAAAAAAAAAAAAAAAAAAAAAAAAAAAAAAAAAAAAAAAAAAAAAAAAAAAAAAAAAAAAAAAAAAAAAAAAAAAAAAAAAAAAAAAAAAAAAAAAAAAAAAAAAAAAAAAAAAAAAAAAAAAAAAAAAAAAAAAAAAAAAAAAAAAAAAAAAAAAAAAAAAAAAAAAAAAAAAAAAAAAAAAAAAAAAAAAAAAAAAAAAAAAAAAAAAAAAAAAAAAAAAAAAAAAAAAQAAAAAAAAAAAAAAAAAAAAAAAAAAAAAAAAAAAA==\",\"dtype\":\"int32\",\"order\":\"little\",\"shape\":[532]},\"CoinName\":[\"42 Coin\",\"404Coin\",\"EliteCoin\",\"Bitcoin\",\"Ethereum\",\"Litecoin\",\"Dash\",\"Monero\",\"Ethereum Classic\",\"ZCash\",\"Bitshares\",\"DigiByte\",\"BitcoinDark\",\"PayCoin\",\"ProsperCoin\",\"KoboCoin\",\"Spreadcoin\",\"Argentum\",\"Aurora Coin\",\"BlueCoin\",\"MyriadCoin\",\"MoonCoin\",\"ZetaCoin\",\"SexCoin\",\"Quatloo\",\"EnergyCoin\",\"QuarkCoin\",\"Riecoin\",\"Digitalcoin \",\"BitBar\",\"Catcoin\",\"CryptoBullion\",\"CannaCoin\",\"CryptCoin\",\"CasinoCoin\",\"Diamond\",\"Verge\",\"DevCoin\",\"EarthCoin\",\"E-Gulden\",\"Einsteinium\",\"Emerald\",\"Exclusive Coin\",\"FlutterCoin\",\"Franko\",\"FeatherCoin\",\"GrandCoin\",\"GlobalCoin\",\"GoldCoin\",\"HoboNickels\",\"HyperStake\",\"Infinite Coin\",\"IOCoin\",\"IXcoin\",\"KrugerCoin\",\"LuckyCoin\",\"Litebar \",\"MaxCoin\",\"MegaCoin\",\"MediterraneanCoin\",\"MintCoin\",\"MinCoin\",\"MazaCoin\",\"Nautilus Coin\",\"NavCoin\",\"NobleCoin\",\"Namecoin\",\"NyanCoin\",\"OpalCoin\",\"Orbitcoin\",\"PotCoin\",\"PhoenixCoin\",\"Reddcoin\",\"RonPaulCoin\",\"StableCoin\",\"SmartCoin\",\"SuperCoin\",\"SyncCoin\",\"SysCoin\",\"TeslaCoin\",\"TigerCoin\",\"TittieCoin\",\"TorCoin\",\"TerraCoin\",\"UnbreakableCoin\",\"Unobtanium\",\"UroCoin\",\"UnitaryStatus Dollar\",\"UltraCoin\",\"ViaCoin\",\"VeriCoin\",\"Vertcoin\",\"WorldCoin\",\"X11 Coin\",\"Crypti\",\"JouleCoin\",\"StealthCoin\",\"ZCC Coin\",\"ByteCoin\",\"DigitalNote \",\"BurstCoin\",\"StorjCoin\",\"MonaCoin\",\"Neutron\",\"FairCoin\",\"Gulden\",\"RubyCoin\",\"PesetaCoin\",\"Kore\",\"Wild Beast Coin\",\"Dnotes\",\"Flo\",\"8BIT Coin\",\"Sativa Coin\",\"ArtByte\",\"Folding Coin\",\"Ucoin\",\"Unitus\",\"CypherPunkCoin\",\"OmniCron\",\"Vtorrent\",\"GreenCoin\",\"Cryptonite\",\"MasterCoin\",\"SoonCoin\",\"1Credit\",\"IslaCoin\",\"Nexus\",\"MarsCoin \",\"Crypto\",\"Anarchists Prime\",\"Droidz\",\"BowsCoin\",\"Squall Coin\",\"Song Coin\",\"BitZeny\",\"Diggits\",\"Expanse\",\"Paycon\",\"Siacoin\",\"Emercoin\",\"EverGreenCoin\",\"MindCoin\",\"I0coin\",\"Decred\",\"Revolution VR\",\"HOdlcoin\",\"EDRCoin\",\"Hitcoin\",\"Gamecredits\",\"DubaiCoin\",\"CarpeDiemCoin\",\"PWR Coin\",\"BillaryCoin\",\"GPU Coin\",\"Adzcoin\",\"SoilCoin\",\"YoCoin\",\"SibCoin\",\"EuropeCoin\",\"ZeitCoin\",\"SwingCoin\",\"SafeExchangeCoin\",\"Nebuchadnezzar\",\"Francs\",\"BolivarCoin\",\"Ratecoin\",\"Revenu\",\"Clockcoin\",\"VIP Tokens\",\"BitSend\",\"Omni\",\"Let it Ride\",\"PutinCoin\",\"iBankCoin\",\"Frankywillcoin\",\"MudraCoin\",\"PizzaCoin\",\"Lutetium Coin\",\"Komodo\",\"GoldBlocks\",\"CarterCoin\",\"Karbo\",\"BitTokens\",\"ZayedCoin\",\"MustangCoin\",\"ZoneCoin\",\"Circuits of Value\",\"RootCoin\",\"DopeCoin\",\"BitCurrency\",\"DollarCoin\",\"Swiscoin\",\"Shilling\",\"BuzzCoin\",\"Opair\",\"PesoBit\",\"Halloween Coin\",\"ZCoin\",\"CoffeeCoin\",\"RoyalCoin\",\"GanjaCoin V2\",\"TeamUP\",\"LanaCoin\",\"Elementrem\",\"ZClassic\",\"ARK\",\"InsaneCoin\",\"KiloCoin\",\"ArtexCoin\",\"EmberCoin\",\"XenixCoin\",\"FreeCoin\",\"PLNCoin\",\"AquariusCoin\",\"Kurrent\",\"Creatio\",\"Eternity\",\"Eurocoin\",\"BitcoinFast\",\"Stakenet\",\"BitConnect Coin\",\"MoneyCoin\",\"Enigma\",\"Cannabis Industry Coin\",\"Russiacoin\",\"PandaCoin\",\"GameUnits\",\"GAKHcoin\",\"Allsafe\",\"LiteCreed\",\"OsmiumCoin\",\"Bikercoins\",\"HexxCoin\",\"Klingon Empire Darsek\",\"Internet of People\",\"KushCoin\",\"Printerium\",\"PacCoin\",\"Impeach\",\"Citadel\",\"Zilbercoin\",\"FirstCoin\",\"BeaverCoin\",\"FindCoin\",\"VaultCoin\",\"Zero\",\"OpenChat\",\"Canada eCoin\",\"Zoin\",\"RenosCoin\",\"DubaiCoin\",\"VirtacoinPlus\",\"TajCoin\",\"Impact\",\"EB3coin\",\"Atmos\",\"HappyCoin\",\"Coinonat\",\"MacronCoin\",\"Condensate\",\"Independent Money System\",\"ArgusCoin\",\"LomoCoin\",\"ProCurrency\",\"GoldReserve\",\"BenjiRolls\",\"GrowthCoin\",\"ILCoin\",\"Phreak\",\"Degas Coin\",\"HTML5 Coin\",\"Ultimate Secure Cash\",\"EquiTrader\",\"QTUM\",\"Quantum Resistant Ledger\",\"Espers\",\"Dynamic\",\"Nano\",\"ChanCoin\",\"Dinastycoin\",\"Denarius\",\"DigitalPrice\",\"Virta Unique Coin\",\"Bitcoin Planet\",\"Unify\",\"BritCoin\",\"SocialCoin\",\"ArcticCoin\",\"DAS\",\"Linda\",\"LeviarCoin\",\"DeepOnion\",\"Bitcore\",\"gCn Coin\",\"SmartCash\",\"Signatum\",\"Onix\",\"Cream\",\"Bitcoin Cash\",\"Monoeci\",\"Draftcoin\",\"Vechain\",\"Sojourn Coin\",\"Stakecoin\",\"NewYorkCoin\",\"FrazCoin\",\"Kronecoin\",\"AdCoin\",\"Linx\",\"CoinonatX\",\"Ethereum Dark\",\"Sumokoin\",\"Obsidian\",\"Cardano\",\"Regalcoin\",\"BitcoinZ\",\"TrezarCoin\",\"Elements\",\"TerraNovaCoin\",\"VIVO Coin\",\"Rupee\",\"Bitcoin Gold\",\"WomenCoin\",\"Theresa May Coin\",\"NamoCoin\",\"LUXCoin\",\"Pirl\",\"Xios\",\"Bitcloud 2.0\",\"eBoost\",\"KekCoin\",\"BlackholeCoin\",\"Infinity Economics\",\"Pura\",\"Innova\",\"Ellaism\",\"GoByte\",\"Magnet\",\"Lamden Tau\",\"Electra\",\"Bitcoin Diamond\",\"SHIELD\",\"Cash & Back Coin\",\"UltraNote\",\"BitCoal\",\"DaxxCoin\",\"Bulwark\",\"Kalkulus\",\"AC3\",\"Lethean\",\"GermanCoin\",\"LiteCoin Ultra\",\"PopularCoin\",\"PhantomX\",\"Photon\",\"Sucre\",\"SparksPay\",\"Digiwage\",\"GunCoin\",\"IrishCoin\",\"Trollcoin\",\"Litecoin Plus\",\"Monkey Project\",\"Pioneer Coin\",\"UnitedBitcoin\",\"Interzone\",\"TokenPay\",\"1717 Masonic Commemorative Token\",\"My Big Coin\",\"TurtleCoin\",\"MUNcoin\",\"Unified Society USDEX\",\"Niobio Cash\",\"ShareChain\",\"Travelflex\",\"KREDS\",\"Tokyo Coin\",\"BiblePay\",\"LitecoinCash\",\"BitFlip\",\"LottoCoin\",\"Crypto Improvement Fund\",\"Stipend\",\"Poa Network\",\"Pushi\",\"Ellerium\",\"Velox\",\"Ontology\",\"Callisto Network\",\"BitTube\",\"Poseidon\",\"Aidos Kuneen\",\"Bitspace\",\"Briacoin\",\"Ignition\",\"Bitrolium\",\"MedicCoin\",\"Alpenschillling\",\"Bitcoin Green\",\"Deviant Coin\",\"Abjcoin\",\"Semux\",\"FuturoCoin\",\"Carebit\",\"Zealium\",\"Monero Classic\",\"Proton\",\"iDealCash\",\"Jumpcoin\",\"Infinex\",\"Bitcoin Incognito\",\"KEYCO\",\"HollyWoodCoin\",\"GINcoin\",\"PlatinCoin\",\"Loki\",\"Newton Coin\",\"Swisscoin\",\"Xt3ch\",\"MassGrid\",\"TheVig\",\"PluraCoin\",\"EmaratCoin\",\"Dekado\",\"Lynx\",\"Poseidon Quark\",\"BitcoinWSpectrum\",\"Muse\",\"Motion\",\"PlusOneCoin\",\"Axe\",\"Trivechain\",\"Dystem\",\"Giant\",\"Peony Coin\",\"Absolute Coin\",\"Vitae\",\"HexCoin\",\"TPCash\",\"Webchain\",\"Ryo\",\"Urals Coin\",\"Qwertycoin\",\"ARENON\",\"EUNO\",\"MMOCoin\",\"Ketan\",\"Project Pai\",\"XDNA\",\"PAXEX\",\"Azart\",\"ThunderStake\",\"Kcash\",\"Xchange\",\"Acute Angle Cloud\",\"CrypticCoin\",\"Bettex coin\",\"Actinium\",\"Bitcoin SV\",\"BitMoney\",\"Junson Ming Chan Coin\",\"FREDEnergy\",\"HerbCoin\",\"Universal Molecule\",\"Lithium\",\"PirateCash\",\"Exosis\",\"Block-Logic\",\"Oduwa\",\"Beam\",\"Galilel\",\"Bithereum\",\"Crypto Sports\",\"Credit\",\"SLICE\",\"Dash Platinum\",\"Nasdacoin\",\"Beetle Coin\",\"Titan Coin\",\"Award\",\"BLAST\",\"Bitcoin Rhodium\",\"GlobalToken\",\"Insane Coin\",\"ALAX\",\"LiteDoge\",\"SolarCoin\",\"TruckCoin\",\"UFO Coin\",\"OrangeCoin\",\"BlakeCoin\",\"BitstarCoin\",\"NeosCoin\",\"HyperCoin\",\"PinkCoin\",\"Crypto Escudo\",\"AudioCoin\",\"IncaKoin\",\"Piggy Coin\",\"Crown Coin\",\"Genstake\",\"SmileyCoin\",\"XiaoMiCoin\",\"Groestlcoin\",\"CapriCoin\",\" ClubCoin\",\"Radium\",\"Bata\",\"Pakcoin\",\"Creditbit \",\"OKCash\",\"Lisk\",\"HiCoin\",\"WhiteCoin\",\"FriendshipCoin\",\"JoinCoin\",\"Triangles Coin\",\"Vollar\",\"EOS\",\"Reality Clash\",\"Oxycoin\",\"TigerCash\",\"Waves\",\"Particl\",\"BitTorrent\",\"Nxt\",\"ZEPHYR\",\"Gapcoin\",\"Beldex\",\"Horizen\",\"BitcoinPlus\"],\"PC_1\":{\"__ndarray__\":\"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\",\"dtype\":\"float64\",\"order\":\"little\",\"shape\":[532]},\"PC_2\":{\"__ndarray__\":\"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\",\"dtype\":\"float64\",\"order\":\"little\",\"shape\":[532]},\"PC_3\":{\"__ndarray__\":\"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\",\"dtype\":\"float64\",\"order\":\"little\",\"shape\":[532]},\"ProofType\":[\"PoW/PoS\",\"PoW/PoS\",\"PoW/PoS\",\"PoW\",\"PoW\",\"PoW\",\"PoW/PoS\",\"PoW\",\"PoW\",\"PoW\",\"PoS\",\"PoW\",\"PoW/PoS\",\"PoS\",\"PoW\",\"PoW/PoS\",\"PoW\",\"PoW\",\"PoW/PoS\",\"PoW/PoS\",\"PoW\",\"PoW\",\"PoW\",\"PoW\",\"PoW\",\"PoW/PoS\",\"PoW\",\"PoW\",\"PoW\",\"PoW/PoS\",\"PoW\",\"PoW/PoS\",\"PoW\",\"PoW\",\"PoC\",\"PoW/PoS\",\"PoW\",\"PoW\",\"PoW\",\"PoW\",\"PoW\",\"PoW\",\"PoS\",\"PoS/PoW/PoT\",\"PoW\",\"PoW\",\"PoW\",\"PoW\",\"PoW\",\"PoW/PoS\",\"PoS\",\"PoW\",\"PoW/PoS\",\"PoW\",\"PoW\",\"PoW\",\"PoW\",\"PoW/PoS\",\"PoW\",\"PoW\",\"PoS\",\"PoW\",\"PoW/PoS\",\"PoS\",\"PoW/PoS\",\"PoW\",\"PoW\",\"PoW\",\"PoW/PoS\",\"PoW/PoS\",\"PoW/PoS\",\"PoW/PoS\",\"PoW/PoS\",\"PoW\",\"PoW\",\"PoW\",\"PoS\",\"PoW/PoS\",\"PoW\",\"PoS\",\"PoW\",\"PoS\",\"PoW/PoS\",\"PoW\",\"PoW\",\"PoW\",\"PoW\",\"PoW/PoS\",\"PoW/PoS\",\"PoW\",\"PoST\",\"PoW\",\"PoW\",\"PoW/PoS\",\"PoS\",\"PoW\",\"PoW/PoS\",\"PoW/PoS\",\"PoW\",\"PoW\",\"PoC\",\"PoS\",\"PoW\",\"PoW/PoS\",\"PoW/PoS\",\"PoW\",\"PoS\",\"PoW\",\"PoW/PoS\",\"PoW\",\"PoS\",\"PoW\",\"PoW/PoS\",\"PoW/PoS\",\"PoW\",\"PoW\",\"PoS\",\"PoW\",\"PoW\",\"PoW\",\"PoW/PoS\",\"PoW\",\"PoW\",\"PoW\",\"PoW\",\"PoW\",\"PoW/PoS\",\"PoW/nPoS\",\"PoW\",\"PoW\",\"PoW\",\"PoW/PoS\",\"PoW\",\"PoS/PoW\",\"PoW\",\"PoW\",\"PoS\",\"PoW\",\"PoW/PoS\",\"PoW\",\"PoW/PoS\",\"PoW/PoS\",\"PoW\",\"PoW\",\"PoW/PoS\",\"PoW\",\"PoW\",\"PoW/PoS\",\"PoW/PoS\",\"PoW\",\"PoW/PoS\",\"PoW\",\"PoW/PoS\",\"PoW/PoS\",\"PoS\",\"PoW\",\"PoW\",\"PoW\",\"PoW\",\"PoW/PoS\",\"PoS\",\"PoW/PoS\",\"PoC\",\"PoS\",\"PoW\",\"PoW\",\"PoW/PoS\",\"PoW/PoS\",\"PoW/PoS\",\"PoW/PoS\",\"PoW/PoS\",\"PoW\",\"PoS\",\"PoW/PoS\",\"PoW/PoS\",\"PoW/PoS\",\"PoS\",\"PoW\",\"PoS\",\"dPoW/PoW\",\"PoW/PoS\",\"PoW/PoS\",\"PoW\",\"PoW/PoS\",\"PoW\",\"PoW/PoS\",\"PoW/PoS\",\"PoW\",\"PoW/PoS\",\"PoW\",\"PoS\",\"PoW\",\"PoW/PoW\",\"PoW\",\"PoW/PoS\",\"PoS\",\"PoW/PoS\",\"PoW/PoS\",\"PoW\",\"PoS\",\"PoS\",\"PoW/PoS\",\"PoS\",\"PoW/PoS\",\"PoW\",\"PoW\",\"DPoS\",\"PoW/PoS\",\"PoW\",\"PoW\",\"PoW/PoS\",\"PoW/PoS\",\"PoS\",\"PoW/PoS\",\"PoW/PoS\",\"PoW\",\"PoS\",\"PoW/PoS\",\"PoW/PoS\",\"PoW/PoS\",\"TPoS\",\"PoW/PoS\",\"PoW/PoS\",\"PoW/PoS\",\"PoW\",\"PoW/PoS\",\"PoS\",\"PoW/PoS\",\"PoW/PoS\",\"PoS\",\"PoW/PoS\",\"PoW\",\"PoW\",\"PoW\",\"PoW/PoS\",\"PoW/PoS\",\"PoW/PoS\",\"PoW/PoS\",\"PoW\",\"PoW/PoS\",\"PoW\",\"PoS\",\"PoW/PoS \",\"PoW\",\"PoS\",\"PoW\",\"PoW\",\"PoW/PoS\",\"PoW\",\"PoW\",\"PoS\",\"PoW\",\"PoW/PoS\",\"PoW/PoS\",\"PoW/PoS\",\"PoW\",\"PoS\",\"PoW/PoS\",\"PoW\",\"PoS\",\"PoW/PoS\",\"PoW/PoS\",\"PoW/PoS\",\"PoW/PoS\",\"PoS\",\"PoW/PoS\",\"PoW\",\"PoS\",\"PoW\",\"PoS\",\"PoW/PoS\",\"PoW/PoS\",\"PoS\",\"PoW\",\"PoS\",\"PoW\",\"PoW/PoS\",\"PoW\",\"PoW\",\"PoW\",\"PoW\",\"PoW/PoS\",\"PoW\",\"PoW/PoS\",\"PoW/PoS\",\"PoW\",\"PoW/PoS\",\"PoW\",\"PoW\",\"PoW\",\"PoW/PoS\",\"PoW\",\"PoW/PoS\",\"PoW\",\"PoW\",\"PoW\",\"PoS\",\"PoW\",\"PoW/PoS\",\"PoW\",\"PoW/PoS\",\"PoS\",\"Proof of Authority\",\"PoW\",\"PoS\",\"PoW\",\"PoW\",\"PoW\",\"PoW\",\"PoW\",\"PoW/PoS\",\"PoW/PoS\",\"PoW\",\"PoS\",\"PoS\",\"PoW/PoS\",\"PoW\",\"PoW/PoS\",\"PoW\",\"PoW/PoS\",\"PoW\",\"PoS\",\"PoW\",\"PoW/PoS\",\"PoW/PoS\",\"PoW/PoS\",\"PoW/PoS\",\"PoW\",\"PoW/PoS\",\"PoW/PoS\",\"PoW\",\"PoS\",\"PoW/PoS\",\"PoS\",\"PoW\",\"PoW\",\"PoW\",\"PoW\",\"PoW/PoS\",\"DPoS\",\"PoW/PoS\",\"PoW/PoS\",\"PoW\",\"PoW/PoS\",\"PoW\",\"PoW\",\"PoW\",\"PoS\",\"PoS\",\"PoW\",\"PoW\",\"PoW/PoS\",\"PoW/PoS\",\"PoW\",\"PoW/PoS\",\"PoW\",\"PoW\",\"PoW\",\"PoS\",\"PoW\",\"PoW\",\"PoW/PoS\",\"PoW/PoS\",\"PoS\",\"PoW\",\"PoW\",\"PoW\",\"PoS\",\"PoS\",\"PoW and PoS\",\"PoW\",\"PoW\",\"PoW/PoS\",\"PoW\",\"PoW\",\"PoW\",\"PoW\",\"PoS\",\"POBh\",\"PoW + Hive\",\"PoW\",\"PoW\",\"PoW\",\"PoW/PoS\",\"PoA\",\"PoW/PoS\",\"PoW/PoS\",\"PoS\",\"PoS\",\"PoW\",\"PoW\",\"PoW\",\"PoW\",\"PoW/PoS\",\"PoW/PoS\",\"PoW/PoS\",\"PoW\",\"PoS\",\"PoW\",\"PoS\",\"PoS\",\"PoW/PoS\",\"DPoS\",\"PoW\",\"PoW/PoS\",\"PoS\",\"PoW\",\"PoS\",\"PoW/PoS\",\"PoW\",\"PoW\",\"PoS/PoW\",\"PoW\",\"PoS\",\"PoW\",\"PoW\",\"PoW\",\"PoW\",\"PoW/PoS\",\"PoS\",\"PoW\",\"PoW/PoS\",\"PoW\",\"PoW/PoS\",\"PoS\",\"HPoW\",\"PoS\",\"PoS\",\"PoS\",\"PoW\",\"PoW\",\"PoW\",\"PoW/PoS\",\"PoS\",\"PoW/PoS\",\"PoS\",\"PoW/PoS\",\"PoS\",\"PoW\",\"PoW/PoS\",\"PoW\",\"PoW\",\"PoW\",\"PoW\",\"PoS\",\"PoW/PoS\",\"PoS\",\"PoS\",\"PoW\",\"PoW/PoS\",\"PoS\",\"PoW\",\"PoW/PoS\",\"Zero-Knowledge Proof\",\"PoW\",\"DPOS\",\"PoW\",\"PoS\",\"PoW\",\"PoW\",\"Pos\",\"PoS\",\"PoW\",\"PoW/PoS\",\"PoW\",\"PoW\",\"PoS\",\"PoW\",\"PoW\",\"PoW/PoS\",\"PoW\",\"PoW/PoS\",\"PoW\",\"PoS\",\"PoW/PoS\",\"PoW\",\"PoS\",\"PoW/PoS\",\"PoW/PoS\",\"PoW/PoS\",\"PoW/PoS\",\"PoW\",\"PoW\",\"PoW\",\"PoW/PoS\",\"DPoS\",\"PoW/PoS\",\"PoW\",\"PoW/PoS\",\"PoW\",\"PoW/PoS\",\"PoW\",\"PoW/PoS\",\"PoS\",\"PoW/PoS\",\"PoW/PoS\",\"PoW\",\"PoW/PoS\",\"PoW/PoS\",\"PoW/PoS\",\"PoW\",\"PoW/PoS\",\"PoW\",\"PoW/PoS\",\"PoW\",\"PoW/PoS\",\"PoW/PoS\",\"PoS\",\"PoW\",\"PoW\",\"Proof of Trust\",\"PoW/PoS\",\"DPoS\",\"PoS\",\"PoW/PoS\",\"PoW/PoS\",\"PoW\",\"PoW/PoS\",\"PoW\",\"DPoS\",\"PoW\",\"DPoS\",\"PoS\",\"LPoS\",\"PoS\",\"DPoS\",\"PoS/LPoS\",\"DPoS\",\"PoW/PoS\",\"PoW\",\"PoW\",\"PoS\"],\"TotalCoinSupply\":[\"42\",\"532000000\",\"314159265359\",\"21000000\",\"0\",\"84000000\",\"22000000\",\"0\",\"210000000\",\"21000000\",\"3600570502\",\"21000000000\",\"22000000\",\"12500000\",\"21000000\",\"350000000\",\"20000000\",\"64000000\",\"16768584\",\"0\",\"2000000000\",\"384000000000\",\"169795588\",\"250000000\",\"100000000\",\"0\",\"247000000\",\"84000000\",\"48166000\",\"500000\",\"21000000 \",\"1000000\",\"13140000\",\"18000000\",\"40000000000\",\"4380000\",\"16555000000\",\"21000000000\",\"13500000000\",\"21000000 \",\"299792458\",\"32000000\",\"0\",\"0\",\"11235813\",\"336000000\",\"1420609614\",\"70000000\",\"72245700\",\"120000000\",\"0\",\"90600000000\",\"22000000\",\"21000000\",\"265420800\",\"20000000\",\"1350000\",\"100000000\",\"42000000\",\"200000000\",\"0\",\"10000000\",\"2419200000\",\"16180000\",\"0\",\"15000000000\",\"21000000\",\"337000000\",\"0\",\"3770000\",\"420000000\",\"98000000\",\"0\",\"21000000\",\"250000000\",\"51200000\",\"0\",\"1000\",\"888000000\",\"100000000\",\"47011968\",\"2300000000\",\"10000000\",\"42000000\",\"80000000\",\"250000\",\"0\",\"1600000000\",\"100000000\",\"23000000\",\"0\",\"84000000\",\"265420800\",\"5500000\",\"0\",\"45000000\",\"0\",\"1000000000\",\"184467440735\",\"10000000000\",\"2158812800\",\"500000000\",\"105120000\",\"68000000\",\"0\",\"1680000000\",\"0\",\"166386000\",\"12000000\",\"2628000\",\"500000000\",\"160000000\",\"0\",\"10000000\",\"1000000000\",\"1000000000\",\"20000000\",\"0\",\"0\",\"3371337\",\"20000000\",\"10000000000\",\"1840000000\",\"619478\",\"21000000\",\"92000000000\",\"0\",\"78000000\",\"33000000\",\"65789100\",\"53760000\",\"5060000\",\"21000000\",\"0\",\"210240000\",\"250000000\",\"100000000\",\"16906397\",\"50000000\",\"0\",\"1000000000\",\"26298000\",\"16000000\",\"21000000\",\"21000000\",\"210000000\",\"81962100\",\"22000000\",\"26550000000\",\"84000000\",\"10500000\",\"21626280000 \",\"0\",\"42000000\",\"221052632\",\"84000000\",\"30000000\",\"168351300\",\"24000000\",\"384000000\",\" 99000000000\",\"40000000\",\"2147483647\",\"20000000\",\"20000000\",\"25000000\",\"75000000\",\"222725000\",\"525000000\",\"90000000\",\"139000000\",\"616448\",\"33500000\",\"2000000000\",\"44333333\",\"100000000\",\"200000000\",\"25000000\",\"657000000\",\"200000000\",\"50000000\",\"90000000\",\"10000000\",\"21000000\",\"9736000\",\"3000000\",\"21000000\",\"1200000000\",\"0\",\"200000000\",\"0\",\"10638298\",\"3100000000\",\"30000000\",\"20000000000\",\"74000000\",\"0\",\"1500000000\",\"21400000\",\"39999898\",\"2500124\",\"100000000\",\"301000000\",\"7506000000\",\"26205539\",\"21000000\",\"125000000\",\"30000000\",\"10000000000\",\"500000000\",\"850000000\",\"3853326.77707314\",\"50000000\",\"38540000 \",\"42000000\",\"228000000\",\"20000000\",\"60000000\",\"20000000\",\"33000000\",\"76500000\",\"28000000\",\"650659833\",\"5000000\",\"21000000\",\"144000000\",\"32514916898\",\"13000000\",\"3315789\",\"15000000\",\"78835200\",\"2714286\",\"25000000\",\"9999999\",\"500000000\",\"21000000\",\"9354000\",\"20000000\",\"100000000000\",\"21933333\",\"185000000\",\"55000000\",\"110000000\",\"3360000\",\"14524851.4827\",\"1000000000\",\"17000000\",\"1000000000\",\"100000000 \",\"21000000\",\"34426423\",\"2232901\",\"100000000\",\"36900000\",\"110000000\",\"4000000000\",\"110290030\",\"100000000\",\"48252000\",\"400000000\",\"500000000\",\"21212121\",\"28600000\",\"1000000000\",\"75000000000\",\"40000000\",\"35520400\",\"2000000000\",\"2500000000\",\"30000000\",\"105000000\",\"90000000000\",\"200084200\",\"72000000\",\"100000000\",\"105000000\",\"50000000000\",\"0\",\"340282367\",\"30000000\",\"2000000000\",\"10000000\",\"100000000\",\"120000000\",\"100000000\",\"19276800\",\"30000000\",\" 75000000\",\"60000000\",\"18900000\",\"50000000000\",\"54000000\",\"18898187.6216583\",\"21000000\",\"200000000000\",\"5000000000\",\"137500000\",\"1100000000\",\"100000000\",\"21000000\",\"9507271\",\"17405891.19707116\",\"86712634466\",\"10500000000\",\"61599965\",\"0\",\"20000000\",\"84000000\",\"100000000\",\"100000000\",\"48252000\",\"4200000\",\"88888888\",\"91388946\",\"45000000000\",\"27000000\",\"21000000000\",\"400000000\",\"1800000000\",\"15733333\",\"27000000\",\"24000000\",\"21000000\",\"25000000000\",\"100000000\",\"1200000000\",\"60000000\",\"156306732.71\",\"21000000\",\"200000000\",\"100000000\",\"21000000\",\"14788275.991\",\"9000000000\",\"350000000\",\"45000000\",\"280000000\",\"31800000\",\"144000000\",\"500000000\",\"30000000000\",\"210000000\",\"660000000\",\"210000000\",\"85000000000\",\"12500000\",\"10000000000\",\"27716121\",\"20000000\",\"550000000\",\"999481516\",\"50000000000\",\"150000000\",\"4999999999\",\"50000000\",\" 90000000000\",\"19800000\",\"21000000\",\"120000000\",\"500000000\",\"64000000\",\"900000000\",\"4000000\",\"21000000\",\"23000000\",\"20166000\",\"23000000\",\"25000000\",\"1618033\",\"30000000\",\"1000000000000\",\"16600000\",\"232000000\",\"336000000\",\"10000000000\",\"100000000\",\"1100000000\",\"800000000\",\"5200000000\",\"840000000\",\"40000000\",\"18406979840\",\"500000000\",\"19340594\",\"252460800\",\"25000000\",\"60000000\",\"124000000\",\"1000000000\",\"6500000000\",\"1000000000\",\"21000000\",\"25000000\",\"50000000\",\"3000000\",\"5000000\",\"70000000\",\"500000000\",\"300000000\",\"21000000\",\"88000000\",\"30000000\",\"100000000\",\"100000000\",\"200000000\",\"80000000\",\"18400000\",\"45000000\",\"5121951220\",\"21000000\",\"26280000\",\"21000000\",\"18000000\",\"26000000\",\"10500000\",\"600000518\",\"150000000\",\"184000000000\",\"10200000000\",\"44000000\",\"168000000\",\"100000000\",\"1000000000\",\"84000000\",\"90000000\",\"92000000000\",\"650000000 \",\"100262205\",\"18081806 \",\"22075700\",\"21000000\",\"21000000\",\"82546564\",\"21000000\",\"5151000\",\"16880000000\",\"52500000\",\"100000000\",\"22105263\",\"1000000000\",\"1750000000\",\"88188888\",\"210000000\",\"184470000000\",\"55000000\",\"50000000\",\"260000000\",\"210000000\",\"2100000000\",\"366000000\",\"100000000\",\"25000000\",\"18000000000\",\"1000000000\",\"100000000\",\"1000000000\",\"7600000000\",\"50000000\",\"84000000\",\"21000000\",\"70000000000\",\"0\",\"8080000000\",\"54000000\",\"105120001.44\",\"25228800\",\"105000000\",\"21000000\",\"120000000\",\"21000000\",\"262800000\",\"19035999\",\"30886000\",\"13370000\",\"74800000000\",\"100000000\",\"19700000\",\"84000000\",\"500000000\",\"5000000000\",\"420000000\",\"64000000\",\"2100000\",\"168000000\",\"30000000\",\"1000000000\",\"35000000000\",\"98100000000\",\"0\",\"4000000000\",\"200000000\",\"7000000000\",\"54256119\",\"21000000\",\"0\",\"500000000\",\"1000000000\",\"10500000000\",\"190000000\",\"1000000000\",\"42000000\",\"15000000\",\"50000000000\",\"400000000\",\"105000000\",\"208000000\",\"160000000\",\"9000000\",\"5000000\",\"182000000\",\"16504333\",\"105000000\",\"159918400\",\"10008835635\",\"300000000\",\"60168145\",\"2800000\",\"120000\",\"2100000000\",\"0\",\"24487944\",\"0\",\"1000000000\",\"100000000\",\"8634140\",\"990000000000\",\"1000000000\",\"2000000000\",\"250000000\",\"1400222610\",\"21000000\",\"1000000\"],\"TotalCoinsMined\":{\"__ndarray__\":\"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\",\"dtype\":\"float64\",\"order\":\"little\",\"shape\":[532]}},\"selected\":{\"id\":\"1105\"},\"selection_policy\":{\"id\":\"1154\"}},\"id\":\"1104\",\"type\":\"ColumnDataSource\"},{\"attributes\":{\"editor\":{\"id\":\"1142\"},\"field\":\"CoinName\",\"formatter\":{\"id\":\"1141\"},\"title\":\"CoinName\"},\"id\":\"1143\",\"type\":\"TableColumn\"},{\"attributes\":{\"format\":\"0,0.0[00000]\"},\"id\":\"1136\",\"type\":\"NumberFormatter\"},{\"attributes\":{},\"id\":\"1146\",\"type\":\"NumberFormatter\"},{\"attributes\":{\"editor\":{\"id\":\"1132\"},\"field\":\"PC_2\",\"formatter\":{\"id\":\"1131\"},\"title\":\"PC 2\"},\"id\":\"1133\",\"type\":\"TableColumn\"},{\"attributes\":{\"editor\":{\"id\":\"1147\"},\"field\":\"Class\",\"formatter\":{\"id\":\"1146\"},\"title\":\"Class\"},\"id\":\"1148\",\"type\":\"TableColumn\"},{\"attributes\":{},\"id\":\"1132\",\"type\":\"NumberEditor\"},{\"attributes\":{\"editor\":{\"id\":\"1137\"},\"field\":\"PC_3\",\"formatter\":{\"id\":\"1136\"},\"title\":\"PC 3\"},\"id\":\"1138\",\"type\":\"TableColumn\"},{\"attributes\":{\"source\":{\"id\":\"1104\"}},\"id\":\"1152\",\"type\":\"CDSView\"},{\"attributes\":{\"margin\":[5,5,5,5],\"name\":\"HSpacer01710\",\"sizing_mode\":\"stretch_width\"},\"id\":\"1103\",\"type\":\"Spacer\"},{\"attributes\":{\"format\":\"0,0.0[00000]\"},\"id\":\"1126\",\"type\":\"NumberFormatter\"},{\"attributes\":{\"editor\":{\"id\":\"1122\"},\"field\":\"TotalCoinSupply\",\"formatter\":{\"id\":\"1121\"},\"title\":\"TotalCoinSupply\"},\"id\":\"1123\",\"type\":\"TableColumn\"},{\"attributes\":{\"editor\":{\"id\":\"1127\"},\"field\":\"PC_1\",\"formatter\":{\"id\":\"1126\"},\"title\":\"PC 1\"},\"id\":\"1128\",\"type\":\"TableColumn\"},{\"attributes\":{},\"id\":\"1137\",\"type\":\"NumberEditor\"},{\"attributes\":{\"editor\":{\"id\":\"1117\"},\"field\":\"TotalCoinsMined\",\"formatter\":{\"id\":\"1116\"},\"title\":\"TotalCoinsMined\"},\"id\":\"1118\",\"type\":\"TableColumn\"},{\"attributes\":{\"editor\":{\"id\":\"1112\"},\"field\":\"ProofType\",\"formatter\":{\"id\":\"1111\"},\"title\":\"ProofType\"},\"id\":\"1113\",\"type\":\"TableColumn\"},{\"attributes\":{},\"id\":\"1105\",\"type\":\"Selection\"},{\"attributes\":{\"editor\":{\"id\":\"1107\"},\"field\":\"Algorithm\",\"formatter\":{\"id\":\"1106\"},\"title\":\"Algorithm\"},\"id\":\"1108\",\"type\":\"TableColumn\"},{\"attributes\":{\"format\":\"0,0.0[00000]\"},\"id\":\"1116\",\"type\":\"NumberFormatter\"},{\"attributes\":{\"margin\":[5,5,5,5],\"name\":\"HSpacer01711\",\"sizing_mode\":\"stretch_width\"},\"id\":\"1157\",\"type\":\"Spacer\"},{\"attributes\":{},\"id\":\"1154\",\"type\":\"UnionRenderers\"},{\"attributes\":{},\"id\":\"1142\",\"type\":\"StringEditor\"},{\"attributes\":{},\"id\":\"1122\",\"type\":\"StringEditor\"},{\"attributes\":{},\"id\":\"1117\",\"type\":\"NumberEditor\"},{\"attributes\":{\"children\":[{\"id\":\"1103\"},{\"id\":\"1151\"},{\"id\":\"1157\"}],\"margin\":[0,0,0,0],\"name\":\"Row01706\",\"tags\":[\"embedded\"]},\"id\":\"1102\",\"type\":\"Row\"},{\"attributes\":{},\"id\":\"1121\",\"type\":\"StringFormatter\"},{\"attributes\":{\"columns\":[{\"id\":\"1108\"},{\"id\":\"1113\"},{\"id\":\"1118\"},{\"id\":\"1123\"},{\"id\":\"1128\"},{\"id\":\"1133\"},{\"id\":\"1138\"},{\"id\":\"1143\"},{\"id\":\"1148\"}],\"height\":300,\"reorderable\":false,\"source\":{\"id\":\"1104\"},\"view\":{\"id\":\"1152\"},\"width\":700},\"id\":\"1151\",\"type\":\"DataTable\"},{\"attributes\":{},\"id\":\"1106\",\"type\":\"StringFormatter\"},{\"attributes\":{},\"id\":\"1112\",\"type\":\"StringEditor\"},{\"attributes\":{},\"id\":\"1141\",\"type\":\"StringFormatter\"},{\"attributes\":{},\"id\":\"1107\",\"type\":\"StringEditor\"},{\"attributes\":{},\"id\":\"1111\",\"type\":\"StringFormatter\"}],\"root_ids\":[\"1102\"]},\"title\":\"Bokeh Application\",\"version\":\"2.2.3\"}};\n    var render_items = [{\"docid\":\"1c55732f-11ad-4524-a085-196587cf37af\",\"root_ids\":[\"1102\"],\"roots\":{\"1102\":\"6a9a725b-4322-4d49-b824-5855c9fc7372\"}}];\n    root.Bokeh.embed.embed_items_notebook(docs_json, render_items);\n  }\n  if (root.Bokeh !== undefined && root.Bokeh.Panel !== undefined) {\n    embed_document(root);\n  } else {\n    var attempts = 0;\n    var timer = setInterval(function(root) {\n      if (root.Bokeh !== undefined && root.Bokeh.Panel !== undefined) {\n        clearInterval(timer);\n        embed_document(root);\n      } else if (document.readyState == \"complete\") {\n        attempts++;\n        if (attempts > 100) {\n          clearInterval(timer);\n          console.log(\"Bokeh: ERROR: Unable to run BokehJS code because BokehJS library is missing\");\n        }\n      }\n    }, 10, root)\n  }\n})(window);</script>",
      "application/vnd.holoviews_exec.v0+json": "",
      "text/plain": [
       ":Table   [Algorithm,ProofType,TotalCoinsMined,TotalCoinSupply,PC 1,PC 2,PC 3,CoinName,Class]"
      ]
     },
     "metadata": {
      "application/vnd.holoviews_exec.v0+json": {
       "id": "1102"
      }
     },
     "execution_count": 38
    }
   ],
   "source": [
    "# Create a table with tradable cryptocurrencies.\n",
    "clustered_df.hvplot.table(sortable=True, selectable=True)"
   ]
  },
  {
   "cell_type": "code",
   "execution_count": 39,
   "metadata": {},
   "outputs": [
    {
     "output_type": "stream",
     "name": "stdout",
     "text": [
      "There are 532 tradable cryptocurrencies.\n"
     ]
    }
   ],
   "source": [
    "# Print the total number of tradable cryptocurrencies.\n",
    "count = clustered_df['Algorithm'].count()\n",
    "print(f'There are {count} tradable cryptocurrencies.')"
   ]
  },
  {
   "cell_type": "code",
   "execution_count": 40,
   "metadata": {},
   "outputs": [
    {
     "output_type": "stream",
     "name": "stdout",
     "text": [
      "[[4.20000000e-11 0.00000000e+00]\n [5.32000000e-04 1.06585544e-03]\n [3.14159265e-01 2.95755135e-02]\n ...\n [1.40022261e-03 9.90135079e-04]\n [2.10000000e-05 7.37028150e-06]\n [1.00000000e-06 1.29582282e-07]]\n"
     ]
    }
   ],
   "source": [
    "# Scaling data to create the scatter plot with tradable cryptocurrencies.\n",
    "scaled_df = MinMaxScaler().fit_transform(clustered_df[['TotalCoinSupply', 'TotalCoinsMined']])\n",
    "print(scaled_df)"
   ]
  },
  {
   "cell_type": "code",
   "execution_count": 45,
   "metadata": {},
   "outputs": [
    {
     "output_type": "execute_result",
     "data": {
      "text/plain": [
       "      TotalCoinSupply  TotalCoinsMined          CoinName  Class\n",
       "42       4.200000e-11         0.000000           42 Coin      0\n",
       "404      5.320000e-04         0.001066           404Coin      0\n",
       "1337     3.141593e-01         0.029576         EliteCoin      3\n",
       "BTC      2.100000e-05         0.000018           Bitcoin      0\n",
       "ETH      0.000000e+00         0.000109          Ethereum      0\n",
       "LTC      8.400000e-05         0.000064          Litecoin      0\n",
       "DASH     2.200000e-05         0.000009              Dash      0\n",
       "XMR      0.000000e+00         0.000017            Monero      0\n",
       "ETC      2.100000e-04         0.000115  Ethereum Classic      0\n",
       "ZEC      2.100000e-05         0.000007             ZCash      0"
      ],
      "text/html": "<div>\n<style scoped>\n    .dataframe tbody tr th:only-of-type {\n        vertical-align: middle;\n    }\n\n    .dataframe tbody tr th {\n        vertical-align: top;\n    }\n\n    .dataframe thead th {\n        text-align: right;\n    }\n</style>\n<table border=\"1\" class=\"dataframe\">\n  <thead>\n    <tr style=\"text-align: right;\">\n      <th></th>\n      <th>TotalCoinSupply</th>\n      <th>TotalCoinsMined</th>\n      <th>CoinName</th>\n      <th>Class</th>\n    </tr>\n  </thead>\n  <tbody>\n    <tr>\n      <th>42</th>\n      <td>4.200000e-11</td>\n      <td>0.000000</td>\n      <td>42 Coin</td>\n      <td>0</td>\n    </tr>\n    <tr>\n      <th>404</th>\n      <td>5.320000e-04</td>\n      <td>0.001066</td>\n      <td>404Coin</td>\n      <td>0</td>\n    </tr>\n    <tr>\n      <th>1337</th>\n      <td>3.141593e-01</td>\n      <td>0.029576</td>\n      <td>EliteCoin</td>\n      <td>3</td>\n    </tr>\n    <tr>\n      <th>BTC</th>\n      <td>2.100000e-05</td>\n      <td>0.000018</td>\n      <td>Bitcoin</td>\n      <td>0</td>\n    </tr>\n    <tr>\n      <th>ETH</th>\n      <td>0.000000e+00</td>\n      <td>0.000109</td>\n      <td>Ethereum</td>\n      <td>0</td>\n    </tr>\n    <tr>\n      <th>LTC</th>\n      <td>8.400000e-05</td>\n      <td>0.000064</td>\n      <td>Litecoin</td>\n      <td>0</td>\n    </tr>\n    <tr>\n      <th>DASH</th>\n      <td>2.200000e-05</td>\n      <td>0.000009</td>\n      <td>Dash</td>\n      <td>0</td>\n    </tr>\n    <tr>\n      <th>XMR</th>\n      <td>0.000000e+00</td>\n      <td>0.000017</td>\n      <td>Monero</td>\n      <td>0</td>\n    </tr>\n    <tr>\n      <th>ETC</th>\n      <td>2.100000e-04</td>\n      <td>0.000115</td>\n      <td>Ethereum Classic</td>\n      <td>0</td>\n    </tr>\n    <tr>\n      <th>ZEC</th>\n      <td>2.100000e-05</td>\n      <td>0.000007</td>\n      <td>ZCash</td>\n      <td>0</td>\n    </tr>\n  </tbody>\n</table>\n</div>"
     },
     "metadata": {},
     "execution_count": 45
    }
   ],
   "source": [
    "# Create a new DataFrame that has the scaled data with the clustered_df DataFrame index.\n",
    "plot_df = pd.DataFrame(scaled_df, columns = [\"TotalCoinSupply\",\"TotalCoinsMined\"], index = clustered_df.index)\n",
    "\n",
    "# Add the \"CoinName\" column from the clustered_df DataFrame to the new DataFrame.\n",
    "plot_df = pd.concat([plot_df,clustered_df['CoinName']],axis =1)\n",
    "\n",
    "# Add the \"Class\" column from the clustered_df DataFrame to the new DataFrame. \n",
    "plot_df = pd.concat([plot_df,clustered_df[\"Class\"]],axis =1)\n",
    "\n",
    "plot_df.head(10)"
   ]
  },
  {
   "cell_type": "code",
   "execution_count": 46,
   "metadata": {},
   "outputs": [
    {
     "output_type": "display_data",
     "data": {},
     "metadata": {}
    },
    {
     "output_type": "execute_result",
     "data": {
      "text/html": "<div id='1169'>\n\n\n\n\n\n  <div class=\"bk-root\" id=\"520afd9a-7d8e-42c4-87e6-ffe68eadc1e3\" data-root-id=\"1169\"></div>\n</div>\n<script type=\"application/javascript\">(function(root) {\n  function embed_document(root) {\n    var docs_json = {\"fff64096-a544-4c52-9309-b48c1c0d475c\":{\"roots\":{\"references\":[{\"attributes\":{},\"id\":\"1187\",\"type\":\"BasicTicker\"},{\"attributes\":{\"click_policy\":\"mute\",\"items\":[{\"id\":\"1228\"},{\"id\":\"1247\"},{\"id\":\"1268\"},{\"id\":\"1291\"}],\"location\":[0,0],\"title\":\"Class\"},\"id\":\"1227\",\"type\":\"Legend\"},{\"attributes\":{\"axis\":{\"id\":\"1190\"},\"dimension\":1,\"grid_line_color\":null,\"ticker\":null},\"id\":\"1193\",\"type\":\"Grid\"},{\"attributes\":{},\"id\":\"1212\",\"type\":\"Selection\"},{\"attributes\":{\"data_source\":{\"id\":\"1269\"},\"glyph\":{\"id\":\"1272\"},\"hover_glyph\":null,\"muted_glyph\":{\"id\":\"1274\"},\"nonselection_glyph\":{\"id\":\"1273\"},\"selection_glyph\":null,\"view\":{\"id\":\"1276\"}},\"id\":\"1275\",\"type\":\"GlyphRenderer\"},{\"attributes\":{\"axis\":{\"id\":\"1186\"},\"grid_line_color\":null,\"ticker\":null},\"id\":\"1189\",\"type\":\"Grid\"},{\"attributes\":{\"label\":{\"value\":\"0\"},\"renderers\":[{\"id\":\"1217\"}]},\"id\":\"1228\",\"type\":\"LegendItem\"},{\"attributes\":{},\"id\":\"1209\",\"type\":\"BasicTickFormatter\"},{\"attributes\":{},\"id\":\"1191\",\"type\":\"BasicTicker\"},{\"attributes\":{\"fill_alpha\":{\"value\":0.2},\"fill_color\":{\"value\":\"#d62628\"},\"line_alpha\":{\"value\":0.2},\"line_color\":{\"value\":\"#d62628\"},\"size\":{\"units\":\"screen\",\"value\":5.477225575051661},\"x\":{\"field\":\"TotalCoinsMined\"},\"y\":{\"field\":\"TotalCoinSupply\"}},\"id\":\"1274\",\"type\":\"Scatter\"},{\"attributes\":{\"label\":{\"value\":\"3\"},\"renderers\":[{\"id\":\"1275\"}]},\"id\":\"1291\",\"type\":\"LegendItem\"},{\"attributes\":{\"active_drag\":\"auto\",\"active_inspect\":\"auto\",\"active_multi\":null,\"active_scroll\":\"auto\",\"active_tap\":\"auto\",\"tools\":[{\"id\":\"1173\"},{\"id\":\"1194\"},{\"id\":\"1195\"},{\"id\":\"1196\"},{\"id\":\"1197\"},{\"id\":\"1198\"}]},\"id\":\"1200\",\"type\":\"Toolbar\"},{\"attributes\":{\"end\":1.1,\"reset_end\":1.1,\"reset_start\":-0.1,\"start\":-0.1,\"tags\":[[[\"TotalCoinSupply\",\"TotalCoinSupply\",null]]]},\"id\":\"1172\",\"type\":\"Range1d\"},{\"attributes\":{\"axis_label\":\"TotalCoinSupply\",\"bounds\":\"auto\",\"formatter\":{\"id\":\"1209\"},\"major_label_orientation\":\"horizontal\",\"ticker\":{\"id\":\"1191\"}},\"id\":\"1190\",\"type\":\"LinearAxis\"},{\"attributes\":{\"source\":{\"id\":\"1229\"}},\"id\":\"1236\",\"type\":\"CDSView\"},{\"attributes\":{\"below\":[{\"id\":\"1186\"}],\"center\":[{\"id\":\"1189\"},{\"id\":\"1193\"}],\"left\":[{\"id\":\"1190\"}],\"margin\":[5,5,5,5],\"min_border_bottom\":10,\"min_border_left\":10,\"min_border_right\":10,\"min_border_top\":10,\"plot_height\":300,\"plot_width\":700,\"renderers\":[{\"id\":\"1217\"},{\"id\":\"1235\"},{\"id\":\"1254\"},{\"id\":\"1275\"}],\"right\":[{\"id\":\"1227\"}],\"sizing_mode\":\"fixed\",\"title\":{\"id\":\"1178\"},\"toolbar\":{\"id\":\"1200\"},\"x_range\":{\"id\":\"1171\"},\"x_scale\":{\"id\":\"1182\"},\"y_range\":{\"id\":\"1172\"},\"y_scale\":{\"id\":\"1184\"}},\"id\":\"1177\",\"subtype\":\"Figure\",\"type\":\"Plot\"},{\"attributes\":{\"fill_color\":{\"value\":\"#2ba02b\"},\"line_color\":{\"value\":\"#2ba02b\"},\"size\":{\"units\":\"screen\",\"value\":5.477225575051661},\"x\":{\"field\":\"TotalCoinsMined\"},\"y\":{\"field\":\"TotalCoinSupply\"}},\"id\":\"1251\",\"type\":\"Scatter\"},{\"attributes\":{},\"id\":\"1207\",\"type\":\"BasicTickFormatter\"},{\"attributes\":{},\"id\":\"1249\",\"type\":\"Selection\"},{\"attributes\":{},\"id\":\"1245\",\"type\":\"UnionRenderers\"},{\"attributes\":{\"fill_alpha\":{\"value\":0.2},\"fill_color\":{\"value\":\"#2ba02b\"},\"line_alpha\":{\"value\":0.2},\"line_color\":{\"value\":\"#2ba02b\"},\"size\":{\"units\":\"screen\",\"value\":5.477225575051661},\"x\":{\"field\":\"TotalCoinsMined\"},\"y\":{\"field\":\"TotalCoinSupply\"}},\"id\":\"1253\",\"type\":\"Scatter\"},{\"attributes\":{\"bottom_units\":\"screen\",\"fill_alpha\":0.5,\"fill_color\":\"lightgrey\",\"left_units\":\"screen\",\"level\":\"overlay\",\"line_alpha\":1.0,\"line_color\":\"black\",\"line_dash\":[4,4],\"line_width\":2,\"right_units\":\"screen\",\"top_units\":\"screen\"},\"id\":\"1199\",\"type\":\"BoxAnnotation\"},{\"attributes\":{\"data\":{\"Class\":[0,0,0,0,0,0,0,0,0,0,0,0,0,0,0,0,0,0,0,0,0,0,0,0,0,0,0,0,0,0,0,0,0,0,0,0,0,0,0,0,0,0,0,0,0,0,0,0,0,0,0,0,0,0,0,0,0,0,0,0,0,0,0,0,0,0,0,0,0,0,0,0,0,0,0,0,0,0,0,0,0,0,0,0,0,0,0,0,0,0,0,0,0,0,0,0,0,0,0,0,0,0,0,0,0,0,0,0,0,0,0,0,0,0,0,0,0,0,0,0,0,0,0,0,0,0,0,0,0,0,0,0,0,0,0,0,0,0,0,0,0,0,0,0,0,0,0,0,0,0,0,0,0,0,0,0,0,0,0,0,0,0,0,0,0,0,0,0,0,0,0,0,0,0,0,0,0,0,0,0,0,0,0,0,0,0,0,0,0,0,0,0,0,0,0,0,0,0,0,0,0,0,0,0,0,0,0,0,0,0,0,0,0,0,0,0,0,0,0,0,0,0,0,0,0,0,0,0,0,0,0,0,0,0,0,0,0,0,0,0,0,0,0,0,0,0,0,0,0,0,0,0,0,0,0,0,0,0,0,0,0,0,0,0,0,0,0,0,0,0,0,0,0,0,0,0,0,0,0,0,0,0,0,0,0,0,0,0,0,0,0,0,0,0,0,0,0,0,0,0,0,0,0,0,0,0,0,0,0,0,0,0,0,0,0,0,0,0,0,0,0,0,0,0,0,0,0,0,0,0,0,0,0,0,0,0,0,0,0,0,0,0,0,0,0,0,0,0,0,0,0,0,0,0,0,0,0,0,0,0,0,0,0,0,0,0,0,0,0,0,0,0,0,0,0,0,0,0,0,0,0,0,0,0,0,0,0,0,0,0,0,0,0,0,0,0,0,0,0,0,0,0,0,0,0,0,0,0,0,0,0,0,0,0,0,0,0,0,0,0,0,0,0,0,0,0,0,0,0,0,0,0,0,0,0,0,0,0,0,0,0,0,0,0,0,0,0,0,0,0,0,0,0,0,0,0,0,0,0,0,0,0,0,0,0,0,0,0,0,0,0,0,0,0,0,0,0,0,0,0,0,0,0,0,0,0,0,0,0,0,0,0,0,0,0,0,0,0,0,0,0,0,0,0,0,0,0,0,0,0,0,0,0,0,0,0,0,0,0,0,0,0,0,0],\"CoinName\":[\"42 Coin\",\"404Coin\",\"Bitcoin\",\"Ethereum\",\"Litecoin\",\"Dash\",\"Monero\",\"Ethereum Classic\",\"ZCash\",\"Bitshares\",\"DigiByte\",\"BitcoinDark\",\"PayCoin\",\"ProsperCoin\",\"KoboCoin\",\"Spreadcoin\",\"Argentum\",\"Aurora Coin\",\"BlueCoin\",\"MyriadCoin\",\"ZetaCoin\",\"SexCoin\",\"Quatloo\",\"EnergyCoin\",\"QuarkCoin\",\"Riecoin\",\"Digitalcoin \",\"BitBar\",\"Catcoin\",\"CryptoBullion\",\"CannaCoin\",\"CryptCoin\",\"CasinoCoin\",\"Diamond\",\"Verge\",\"DevCoin\",\"EarthCoin\",\"E-Gulden\",\"Einsteinium\",\"Emerald\",\"Exclusive Coin\",\"FlutterCoin\",\"Franko\",\"FeatherCoin\",\"GrandCoin\",\"GlobalCoin\",\"GoldCoin\",\"HoboNickels\",\"HyperStake\",\"Infinite Coin\",\"IOCoin\",\"IXcoin\",\"KrugerCoin\",\"LuckyCoin\",\"Litebar \",\"MaxCoin\",\"MegaCoin\",\"MediterraneanCoin\",\"MintCoin\",\"MinCoin\",\"MazaCoin\",\"Nautilus Coin\",\"NavCoin\",\"NobleCoin\",\"Namecoin\",\"NyanCoin\",\"OpalCoin\",\"Orbitcoin\",\"PotCoin\",\"PhoenixCoin\",\"Reddcoin\",\"RonPaulCoin\",\"StableCoin\",\"SmartCoin\",\"SuperCoin\",\"SyncCoin\",\"SysCoin\",\"TeslaCoin\",\"TigerCoin\",\"TittieCoin\",\"TorCoin\",\"TerraCoin\",\"UnbreakableCoin\",\"Unobtanium\",\"UroCoin\",\"UnitaryStatus Dollar\",\"UltraCoin\",\"ViaCoin\",\"VeriCoin\",\"Vertcoin\",\"WorldCoin\",\"X11 Coin\",\"Crypti\",\"JouleCoin\",\"StealthCoin\",\"ZCC Coin\",\"DigitalNote \",\"BurstCoin\",\"StorjCoin\",\"MonaCoin\",\"Neutron\",\"FairCoin\",\"Gulden\",\"RubyCoin\",\"PesetaCoin\",\"Kore\",\"Wild Beast Coin\",\"Dnotes\",\"Flo\",\"8BIT Coin\",\"Sativa Coin\",\"ArtByte\",\"Folding Coin\",\"Ucoin\",\"Unitus\",\"CypherPunkCoin\",\"OmniCron\",\"Vtorrent\",\"GreenCoin\",\"Cryptonite\",\"MasterCoin\",\"SoonCoin\",\"1Credit\",\"IslaCoin\",\"Nexus\",\"MarsCoin \",\"Crypto\",\"Anarchists Prime\",\"Droidz\",\"BowsCoin\",\"Squall Coin\",\"Song Coin\",\"BitZeny\",\"Diggits\",\"Expanse\",\"Paycon\",\"Siacoin\",\"Emercoin\",\"EverGreenCoin\",\"MindCoin\",\"I0coin\",\"Decred\",\"Revolution VR\",\"HOdlcoin\",\"EDRCoin\",\"Hitcoin\",\"Gamecredits\",\"DubaiCoin\",\"CarpeDiemCoin\",\"PWR Coin\",\"BillaryCoin\",\"GPU Coin\",\"Adzcoin\",\"SoilCoin\",\"YoCoin\",\"SibCoin\",\"EuropeCoin\",\"ZeitCoin\",\"SwingCoin\",\"SafeExchangeCoin\",\"Nebuchadnezzar\",\"Francs\",\"BolivarCoin\",\"Ratecoin\",\"Revenu\",\"Clockcoin\",\"VIP Tokens\",\"BitSend\",\"Omni\",\"Let it Ride\",\"PutinCoin\",\"iBankCoin\",\"Frankywillcoin\",\"MudraCoin\",\"PizzaCoin\",\"Lutetium Coin\",\"Komodo\",\"GoldBlocks\",\"CarterCoin\",\"Karbo\",\"BitTokens\",\"ZayedCoin\",\"MustangCoin\",\"ZoneCoin\",\"Circuits of Value\",\"RootCoin\",\"DopeCoin\",\"BitCurrency\",\"DollarCoin\",\"Swiscoin\",\"Shilling\",\"BuzzCoin\",\"Opair\",\"PesoBit\",\"Halloween Coin\",\"ZCoin\",\"CoffeeCoin\",\"RoyalCoin\",\"GanjaCoin V2\",\"TeamUP\",\"LanaCoin\",\"Elementrem\",\"ZClassic\",\"ARK\",\"InsaneCoin\",\"KiloCoin\",\"ArtexCoin\",\"EmberCoin\",\"XenixCoin\",\"FreeCoin\",\"PLNCoin\",\"AquariusCoin\",\"Kurrent\",\"Creatio\",\"Eternity\",\"Eurocoin\",\"BitcoinFast\",\"Stakenet\",\"BitConnect Coin\",\"MoneyCoin\",\"Enigma\",\"Cannabis Industry Coin\",\"Russiacoin\",\"PandaCoin\",\"GameUnits\",\"GAKHcoin\",\"Allsafe\",\"LiteCreed\",\"OsmiumCoin\",\"Bikercoins\",\"HexxCoin\",\"Klingon Empire Darsek\",\"Internet of People\",\"KushCoin\",\"Printerium\",\"PacCoin\",\"Impeach\",\"Citadel\",\"Zilbercoin\",\"FirstCoin\",\"BeaverCoin\",\"FindCoin\",\"VaultCoin\",\"Zero\",\"OpenChat\",\"Canada eCoin\",\"Zoin\",\"RenosCoin\",\"DubaiCoin\",\"VirtacoinPlus\",\"TajCoin\",\"Impact\",\"EB3coin\",\"Atmos\",\"HappyCoin\",\"Coinonat\",\"MacronCoin\",\"Condensate\",\"Independent Money System\",\"ArgusCoin\",\"LomoCoin\",\"ProCurrency\",\"GoldReserve\",\"BenjiRolls\",\"GrowthCoin\",\"ILCoin\",\"Phreak\",\"Degas Coin\",\"HTML5 Coin\",\"Ultimate Secure Cash\",\"EquiTrader\",\"QTUM\",\"Quantum Resistant Ledger\",\"Espers\",\"Dynamic\",\"Nano\",\"ChanCoin\",\"Dinastycoin\",\"Denarius\",\"DigitalPrice\",\"Virta Unique Coin\",\"Bitcoin Planet\",\"Unify\",\"BritCoin\",\"SocialCoin\",\"ArcticCoin\",\"DAS\",\"Linda\",\"LeviarCoin\",\"DeepOnion\",\"Bitcore\",\"SmartCash\",\"Signatum\",\"Onix\",\"Cream\",\"Bitcoin Cash\",\"Monoeci\",\"Draftcoin\",\"Vechain\",\"Sojourn Coin\",\"Stakecoin\",\"NewYorkCoin\",\"FrazCoin\",\"Kronecoin\",\"AdCoin\",\"Linx\",\"CoinonatX\",\"Ethereum Dark\",\"Sumokoin\",\"Obsidian\",\"Cardano\",\"Regalcoin\",\"BitcoinZ\",\"TrezarCoin\",\"Elements\",\"TerraNovaCoin\",\"VIVO Coin\",\"Rupee\",\"Bitcoin Gold\",\"WomenCoin\",\"Theresa May Coin\",\"NamoCoin\",\"LUXCoin\",\"Pirl\",\"Xios\",\"Bitcloud 2.0\",\"eBoost\",\"KekCoin\",\"BlackholeCoin\",\"Infinity Economics\",\"Pura\",\"Innova\",\"Ellaism\",\"GoByte\",\"Magnet\",\"Lamden Tau\",\"Electra\",\"Bitcoin Diamond\",\"SHIELD\",\"Cash & Back Coin\",\"UltraNote\",\"BitCoal\",\"DaxxCoin\",\"Bulwark\",\"Kalkulus\",\"AC3\",\"Lethean\",\"GermanCoin\",\"LiteCoin Ultra\",\"PopularCoin\",\"PhantomX\",\"Photon\",\"Sucre\",\"SparksPay\",\"Digiwage\",\"GunCoin\",\"IrishCoin\",\"Trollcoin\",\"Litecoin Plus\",\"Monkey Project\",\"Pioneer Coin\",\"UnitedBitcoin\",\"Interzone\",\"TokenPay\",\"1717 Masonic Commemorative Token\",\"My Big Coin\",\"MUNcoin\",\"Unified Society USDEX\",\"Niobio Cash\",\"ShareChain\",\"Travelflex\",\"KREDS\",\"Tokyo Coin\",\"BiblePay\",\"LitecoinCash\",\"BitFlip\",\"LottoCoin\",\"Crypto Improvement Fund\",\"Stipend\",\"Poa Network\",\"Pushi\",\"Ellerium\",\"Velox\",\"Ontology\",\"Callisto Network\",\"BitTube\",\"Poseidon\",\"Aidos Kuneen\",\"Bitspace\",\"Briacoin\",\"Ignition\",\"Bitrolium\",\"MedicCoin\",\"Alpenschillling\",\"Bitcoin Green\",\"Deviant Coin\",\"Abjcoin\",\"Semux\",\"FuturoCoin\",\"Carebit\",\"Zealium\",\"Monero Classic\",\"Proton\",\"iDealCash\",\"Jumpcoin\",\"Infinex\",\"Bitcoin Incognito\",\"KEYCO\",\"HollyWoodCoin\",\"GINcoin\",\"PlatinCoin\",\"Loki\",\"Swisscoin\",\"Xt3ch\",\"MassGrid\",\"TheVig\",\"PluraCoin\",\"EmaratCoin\",\"Dekado\",\"Lynx\",\"Poseidon Quark\",\"BitcoinWSpectrum\",\"Muse\",\"Motion\",\"PlusOneCoin\",\"Axe\",\"Trivechain\",\"Dystem\",\"Giant\",\"Peony Coin\",\"Absolute Coin\",\"Vitae\",\"HexCoin\",\"TPCash\",\"Webchain\",\"Ryo\",\"Urals Coin\",\"ARENON\",\"EUNO\",\"MMOCoin\",\"Ketan\",\"Project Pai\",\"XDNA\",\"PAXEX\",\"Azart\",\"ThunderStake\",\"Kcash\",\"Xchange\",\"Acute Angle Cloud\",\"CrypticCoin\",\"Bettex coin\",\"Actinium\",\"Bitcoin SV\",\"BitMoney\",\"Junson Ming Chan Coin\",\"FREDEnergy\",\"HerbCoin\",\"Universal Molecule\",\"Lithium\",\"PirateCash\",\"Exosis\",\"Block-Logic\",\"Oduwa\",\"Beam\",\"Galilel\",\"Bithereum\",\"Crypto Sports\",\"Credit\",\"SLICE\",\"Dash Platinum\",\"Nasdacoin\",\"Beetle Coin\",\"Titan Coin\",\"Award\",\"BLAST\",\"Bitcoin Rhodium\",\"GlobalToken\",\"Insane Coin\",\"ALAX\",\"LiteDoge\",\"SolarCoin\",\"TruckCoin\",\"UFO Coin\",\"OrangeCoin\",\"BlakeCoin\",\"BitstarCoin\",\"NeosCoin\",\"HyperCoin\",\"PinkCoin\",\"Crypto Escudo\",\"AudioCoin\",\"IncaKoin\",\"Piggy Coin\",\"Crown Coin\",\"Genstake\",\"SmileyCoin\",\"XiaoMiCoin\",\"Groestlcoin\",\"CapriCoin\",\" ClubCoin\",\"Radium\",\"Bata\",\"Pakcoin\",\"Creditbit \",\"OKCash\",\"Lisk\",\"HiCoin\",\"WhiteCoin\",\"FriendshipCoin\",\"JoinCoin\",\"Triangles Coin\",\"Vollar\",\"EOS\",\"Reality Clash\",\"Oxycoin\",\"TigerCash\",\"Waves\",\"Particl\",\"Nxt\",\"ZEPHYR\",\"Gapcoin\",\"Beldex\",\"Horizen\",\"BitcoinPlus\"],\"TotalCoinSupply\":{\"__ndarray__\":\"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\",\"dtype\":\"float64\",\"order\":\"little\",\"shape\":[524]},\"TotalCoinsMined\":{\"__ndarray__\":\"AAAAAAAAAADVQ6eRhXZRP6+ou0Hx/PI+b4rWT6SDHD9qGn4mRbEQP329mAGmIeM+CBAnMBQ48j7wDEJVXgQePwFvcySeR98+q7iVeqGvZj9Lp6Q/npiHP4fxacJq17U+W7PlNwxp6T4O0fKLQ3DYPtbSmfnYDfs+6ehqdHqe5z5A9Ac1LtvpPoFADD9SNfM+Y2BMhDkIRT8I4yegqPBbP3DKsyzdiCY/L+6KjEoSIT/oRTYbOCzfPpNqdAMPSyA/ICzRsK4uMT8RbyRNiz0KP59NHRkHtgE/fm6SX20RZz42FYtLuJbePu0vVvfrm7E+B4zTUMjt0z4X972eryvVPj3HXP3lr6Q/bxgeEAEAzD7MZYofD3qQP9hApPA4a5M/8xH2FInwiT++41uD3SX2PtQkQmxj+iw/nd4H5Iqm9D7J74qxKRDYPvkOG82Skj4/7OKrfnJdsz7h8m27k6ArPzOFKreVQ00/sZ9rdsljET8a/IWo3Q8GP1ecpQYuoxc/Ypyz9GrHWz8X1qv+Um23P/yTI8MIsvI+2g1Vrl1W9j4aGveuIA0kP+mrkQNSePQ+w6aYs+e2sj6TvP5BQUUQP3STmLdzNAQ/xDfwK4tpBT/T/2cOhgaWP3cMJQkyl9g+/Iv4sV61Wj+8eCIlMiPxPo6rsV/gfxE/vxok0C2UYz9pHLAFhzfvPlf2xWZGKDY/clC9FaMN8D78X4L1EUrLPnL5DYJdey0/i8x7BIOVEz8GsrQgnVKeP/20LDoYtrI+UbtUf++l+T6VdpMZuxv7PvA4gZuv2go/XaMQNUOyEz4TJNibZaVCP0OS6FanQBU/XWwyD38OBz90v41fV9laP5UFDLPCQ7g+sbwJ7+tK+D5svacTrE3DPrI5aeKgO4s+Bn6fn5x1tD5XA1AC9C9SP30yMSuimgo/So3LeFqF+D7k5byfQfUAPzbfW1HfGQs/ZX20aNqrHz8bjlSJ03LdPvtFfmC/eho/PlWL/fTBBD9FarAorYYBPzHwJWnxlyM/EkNUVVGTfD8v9/epUAFeP5OnqTHLGQs/LDcAdL4OEj/GZEMV67cEP4m2C5a/Kww/vHcWlIB5Oz876RpKEMv8PldPYuT8NCI/pcwKPQojwT68Wu9Dc6iIPmPUGyFpHyc//S8r0gUpJD/NWTdK5t+4PhEtw1ouEd4+u43+0IM7Sj+Fn7ZW789HP0rkrkGmysY+Re2gid09ET9Fe9kzvvfaPq5c/HTseuU+XTih5TeV6D5Eb/ntLRNzP2iQg1h8c0c/8Dkn/bj+pD5ULKfadGbqPiVbYWJW6Hc+P3KSIt+muT4hen9FKdsQP1EjiUBvEAE/0L1ZHKoc7T5yrZVfYj3vPnJGublsJuI+csvZ6XfN8D721dyvE1CWPjtGyf0IPwE/zcFpI7cFFD/7RX5gv3oaP6kiwRuRO+Y+rrGTtv1n+D4u6Xh0IR6hPzQmLIvTzQY/1efNMZmp7D4Jlvatg87wPr1leW50PfY+feesSPH05T4A2yO/r80rP7dp9B2+QOg+5oM5djQYzz64w1Tpib+GP/rxCBcDfhI/CNeOJOK61T7FWSJvonyWP4sWSaGt1IQ/AkyV+P4P4z7jP4drq28FP6nww6zT4wc/yB/NZWUo2D5m880gGJKlPoqNQpbySPI+PRSCCNcL5j7svR7o5R6jP2tOHmNWi9I++f8SbiTFYT+RAFIr/S71PoRXNiKn1ts+8H9TLJbs7D7ujyYFktAhP3lc7dd7QrQ+QPXFzhym8T4+Nd5F5BgWP9J6jnO41Pk+VIp4kW7kpD45sM3Uzm8EP4dD0Oqv6Uo/dgJ1rDQt0z77RX5gv3oaP8KwSmz0LtU+Wbaq9MVZtz5UvVBlDL9FP/BZKjNxsB4/pqRxDiJ88D7oqXRGKNwGP4tqAC8VkuA+ng944g0upD4AgcASBnTaPvRYj6HQSaY+QgF987fgxT56Q0MFuIxQP8R5KJfqb8A+1DtNvqTwHj9P/h//VHQmP9YUPmyMSuM+cMvi9YcERj+4vcx0643nPoIw9VQZQJQ/QFxHa5CaEz9q4x6W3sABP+WnRel4hTE/2DMeo0EI4D7+NIbIkbAjP1rd2J4tL8U++0V+YL96Gj/QJpJKht/yPumb2J7R6FE/YwA79p7B+z6FMP5AacjXPoyfDBK/phw/2bdahaRt8z6i/2L5Rf0pP1o9XtEcRks/aYtMVgzXtz86BVneRVPQPqlU6KW+ego/Cpe1fNUZ8j51sP5UiMHEPjuCQ8HDPxA/kQBSK/0u9T4WN5ZE6rbZPjz585B5Teo+mJbD7Cdx9T4t+OpgFAQUP+s1WKcNeec+4Jew0N0e5z5bwhuTX5yrPrXDDf5mk7A+/nKUS0y/4T6qCNVPxnyhP15IKAuBbc0+tkwa0oQYzD6BYbgGxEfmPtvAySsfAgA/1Kx1vOtMrj4McAKMU9LjPsX/dMFKy78+/uCpGjNi+T7JxDaJemfFPhLCp7bP+dc+ZajWlOYK6T6OM6x+FcZBPzTIpVxJ45Q+0p/hlqM85z75z9m7pMPIPrZ+M2OfIB0/Ck3M5oZlyj6ghV7+zcTuPqsP156DFwA/84jwQy5T3T56Q0MFuIxQP+n5gvIhcBo/1qPfyquk8z7A48DYhRcDP8ujJZ6E68I+YYjc8CLi6z6/xleSd8/pPjWSA+NaSx0/XGxBluj4ED9HFGw/nm0dPxPMhtR+y/Y+gYeI9slx5T71oLCH1pI6P71/oX2yGyA/aiIdwhm/1j7c24n5tHWzPgpcwiwJ8qA+B3WXBL6fGj+E/gBWAjDyPjTeTm3aefU+MqZkmp+JMz/Je+X67M5VP1aTWKvlIOg+QCN49mqf9j4SJeC9JgelPwDbBzkM6eU+c9ZP5BD37D77RX5gv3oaP/9UEsTGRxI/PAT7udKVlz9hKn9Ae/T0PrWHiodIpCE/L438AR5/8z6ErCojNPJdP+Qq5FI8rNE+5uK8DPabAj/81THurqoQPy0rqEb309w+yQQoA8408z741RgF1Yb2PudvAG7s5NU++PDXSmCV+z7UGa86eTnGPjQa6ZQatoI/CdfFZ+z/7T5wTMPVyTb3PvRo7PL22vI+gc0bUEOLYj9MptGTM5ccP0vBzFEoNyA/vVE1+gARCT8kZf43fg/zPgHyCelJoOo+OdFFwIrE8z7NoOAHEa6sP/2NU5y9caA+mO9bzlry0D4DNdImbn3CP/jx38F6juQ+1996s5J88j6p3Vc8E0oBP3gVJ9Mc2wE/hFHN8SWy9D6gfFhURsvRPrgWTFi/8+I+B3K8ML16+j57/PtlW9GaP8LmK5XBxN4+KbqbvfiPdT8GH+6ZTC4oP3sMH7KeXWY/MA/ITshUsz641qr3XKbRPrzBQMmWa/k+2x0gu2g48j6untpX6Q+pP0JSoyHkXxg/vi9HuOWNQj8xxlYPM5jhPl7TxYbH/wE/o0LUKwM3wj4fcKeItkMAPxLI6N0Reho/xDTgUPke6j4Qs5xlsVTxPkgxPBFPnoI/PMSQsbgyJz/aXBqSjwLbPi7JbWbBBes+PdU3xKy12D5+IszkxDoEP7qKEQM8EjM/uUtcgvNfnT9juoLCp0woP3iYzdXT4z8/4boxdtliHT/lg7+LuvGTPy1QU52nENM+mR9Mbb49QT9qpYs67A/sPsiJT2eL9fE+YzWXr25EFT+/sGvyzzU9P3ChKl4pUnQ/hxnqwtHV4T5K8gY5zWZwP34cKx997Ac/wKP4upcfnz8oDYelxerRPlT2YcShn+A+cvaEG0zq/D4z0xtWo9gzP+mYtu1bFgg/dzsxiP6PQz8IRzEIpDjFPuGmB20PrNI+ZQ7uSqf14T7Br9f1/1v1PpiqM+VXPuk+vNzKYeKn9T5uceIZfmu7PkSIV7E96eM+m6YY3Oxp1D4RYLbW0RcvPw7UWvF4uyE/UJ+yE+avhD/X8QcfT2scP1Ay2BUqT0U/7udFeLF9Lj+PWA2R2lNdP5CkxfJKIUU/fLYPZ39d6j5mRelkS/qNP2d12Rir+Ss/5zpHmZTV5z6cGSV4jxIrP7vl+hZcXsI+vca2dTVrnD7QEgJQTBX7PhibEdXsikU/2C/Wv0FkMD8VqfUeUzIVP9lBgL6BPtE+B3K8ML16+j7aFzKZITXtPvDlnPIQqaw+dKhUDHkItD73YJbAAeUSP7hnnCDcsTE/WV3Wt131/D7aDqH1hMTkPudS3lPTK/c+kN9ciizu5D6aEdS4Bt20PjbwhEh61wA/VSmOPUyAIj+ib5N/FnbnPsqbJCj29vA+w3Op81Co0j5GNcFNBT1XP/vTxTPxUPY+9k0et+iY1T6SE54zvRnnPvx87g2S9ao+oCQJmqt/BD/LOmFuZ5ndPo+bLwi42HY+GNnqCX9J9D4u8B4U0RmFP/TH2vq5KeA+kYALuOL8IT8qKRjnQpoBP4LOT27aiUI/vKQ4Yabg9j5yMj9ExgkAP3wmmCQII7Q/K8r/+wcExz42SXejuJ0OP8CrILqLRfM+9ZfpU6I24T4f5SubYVDiPs9e0ldlJ9U+hj+ewNiNAz816e99hAHePqwxxcI7FNk+RoR7IXyosT45rbWhQT7sPoehaumffRE/eNZihN4BuD59KAFD6+TWPurwYFaPgPA+0YDfJJ+41D6WvW8I0TzvPlZtDKPqaPQ+io8aO8pLAD+b+oRxCokcP8RoNbwUwuM+v5TwC45gYT/uib9lw8vTPoubEauvFdM+21raAS5A1T7sbVw4uopRP3pDQwW4jFA/Gw5gKXCp5D56Q0MFuIxQP0+r/Iq+hXE/j6T3FZPB3D5aK/QlKOLsPteY+cSoDvM+5OuiMmKbKz+rIOPFGc2RP60VH8sv5l4/yLfFtXGzAj+0RLaqCL+6PnVqj8zTyPA+mEbyFfiL7D5qzDKsbYabPhsOVFq4rwI/I2lavtdN7z6bmw6DVOYCP+T3bPWLWPM+cW/NA6Cj+j4H2XD9qWTAPooq7/B94p8/lM2DQKJh6z7i1s0RRUGoPkBWWhkuw/U+omxXO8JWKj8jMEysQqtNPyjBbHovVfA+sXmuTLuxCz+yXzXcA9WzPn42uEC1ZxY/C5KNNNcu+T56Q0MFuIxQP2D1pTy6sI8/GogG4TptDT/MI0ph3w4wP7DYIMkOpm8/rR3J9LH4zT6XJ/DBLr34PmOsZctQy/U+f2HIS8yb0j5kYzQw+mbkPiQYZ3/U4jw/IKH/DxHTST+c0yyFFjtQP5xDyy5ZjpI/icG10+pbQD9YbHkS5Vj4Ph/GUqt+xg8/ZbOty7CZnj84uK+F5sM6P+wERg+zaBM/YwABvf2oKj8YJJT4Q3AbP0v2HFN6MNA+FZl2+fRn1T5WOcGCu3MSP8PpRhaz5vE+mJIs6RnGEz8y4x8SUscfP/Gwxj8HsIQ/XKH50rSuMD+k9GATf/yyPiAxdFCvPcw+q0k3U4sUgz77RX5gv3oaP0VvlJzC41A/gceFIuXv+T4RwmraN5NSP3pDQwW4jFA/+0V+YL96Gj+zRUkYOarjPnpDQwW4jFA/BxxxCriMYD85whSEFaHvPqkaH3LtOFA/fthsjcfp3j5CDuXNaWSBPg==\",\"dtype\":\"float64\",\"order\":\"little\",\"shape\":[524]}},\"selected\":{\"id\":\"1212\"},\"selection_policy\":{\"id\":\"1225\"}},\"id\":\"1211\",\"type\":\"ColumnDataSource\"},{\"attributes\":{\"label\":{\"value\":\"1\"},\"renderers\":[{\"id\":\"1235\"}]},\"id\":\"1247\",\"type\":\"LegendItem\"},{\"attributes\":{},\"id\":\"1270\",\"type\":\"Selection\"},{\"attributes\":{\"fill_alpha\":{\"value\":0.1},\"fill_color\":{\"value\":\"#2ba02b\"},\"line_alpha\":{\"value\":0.1},\"line_color\":{\"value\":\"#2ba02b\"},\"size\":{\"units\":\"screen\",\"value\":5.477225575051661},\"x\":{\"field\":\"TotalCoinsMined\"},\"y\":{\"field\":\"TotalCoinSupply\"}},\"id\":\"1252\",\"type\":\"Scatter\"},{\"attributes\":{\"label\":{\"value\":\"2\"},\"renderers\":[{\"id\":\"1254\"}]},\"id\":\"1268\",\"type\":\"LegendItem\"},{\"attributes\":{},\"id\":\"1182\",\"type\":\"LinearScale\"},{\"attributes\":{\"data\":{\"Class\":[2],\"CoinName\":[\"TurtleCoin\"],\"TotalCoinSupply\":{\"__ndarray__\":\"AAAAAAAA8D8=\",\"dtype\":\"float64\",\"order\":\"little\",\"shape\":[1]},\"TotalCoinsMined\":{\"__ndarray__\":\"rV/sZZR7qz8=\",\"dtype\":\"float64\",\"order\":\"little\",\"shape\":[1]}},\"selected\":{\"id\":\"1249\"},\"selection_policy\":{\"id\":\"1266\"}},\"id\":\"1248\",\"type\":\"ColumnDataSource\"},{\"attributes\":{\"data\":{\"Class\":[3,3,3,3,3,3],\"CoinName\":[\"EliteCoin\",\"MoonCoin\",\"ByteCoin\",\"gCn Coin\",\"Newton Coin\",\"Qwertycoin\"],\"TotalCoinSupply\":{\"__ndarray__\":\"VfKcdi8b1D/6fmq8dJPYPzgbkQyhnMc/mZmZmZmZyT9aZDvfT43HP1vri4S2nMc/\",\"dtype\":\"float64\",\"order\":\"little\",\"shape\":[6]},\"TotalCoinsMined\":{\"__ndarray__\":\"SAVfHQtJnj+KZPYUZovJPVhQT91+zMc/GB33QgUVxT+DWcI4SlulP7iw3DhKvrk/\",\"dtype\":\"float64\",\"order\":\"little\",\"shape\":[6]}},\"selected\":{\"id\":\"1270\"},\"selection_policy\":{\"id\":\"1289\"}},\"id\":\"1269\",\"type\":\"ColumnDataSource\"},{\"attributes\":{\"data\":{\"Class\":[1],\"CoinName\":[\"BitTorrent\"],\"TotalCoinSupply\":{\"__ndarray__\":\"rkfhehSu7z8=\",\"dtype\":\"float64\",\"order\":\"little\",\"shape\":[1]},\"TotalCoinsMined\":{\"__ndarray__\":\"AAAAAAAA8D8=\",\"dtype\":\"float64\",\"order\":\"little\",\"shape\":[1]}},\"selected\":{\"id\":\"1230\"},\"selection_policy\":{\"id\":\"1245\"}},\"id\":\"1229\",\"type\":\"ColumnDataSource\"},{\"attributes\":{\"fill_color\":{\"value\":\"#d62628\"},\"line_color\":{\"value\":\"#d62628\"},\"size\":{\"units\":\"screen\",\"value\":5.477225575051661},\"x\":{\"field\":\"TotalCoinsMined\"},\"y\":{\"field\":\"TotalCoinSupply\"}},\"id\":\"1272\",\"type\":\"Scatter\"},{\"attributes\":{},\"id\":\"1194\",\"type\":\"SaveTool\"},{\"attributes\":{\"data_source\":{\"id\":\"1229\"},\"glyph\":{\"id\":\"1232\"},\"hover_glyph\":null,\"muted_glyph\":{\"id\":\"1234\"},\"nonselection_glyph\":{\"id\":\"1233\"},\"selection_glyph\":null,\"view\":{\"id\":\"1236\"}},\"id\":\"1235\",\"type\":\"GlyphRenderer\"},{\"attributes\":{\"fill_alpha\":{\"value\":0.2},\"fill_color\":{\"value\":\"#1f77b3\"},\"line_alpha\":{\"value\":0.2},\"line_color\":{\"value\":\"#1f77b3\"},\"size\":{\"units\":\"screen\",\"value\":5.477225575051661},\"x\":{\"field\":\"TotalCoinsMined\"},\"y\":{\"field\":\"TotalCoinSupply\"}},\"id\":\"1216\",\"type\":\"Scatter\"},{\"attributes\":{},\"id\":\"1195\",\"type\":\"PanTool\"},{\"attributes\":{\"source\":{\"id\":\"1211\"}},\"id\":\"1218\",\"type\":\"CDSView\"},{\"attributes\":{},\"id\":\"1198\",\"type\":\"ResetTool\"},{\"attributes\":{\"children\":[{\"id\":\"1170\"},{\"id\":\"1177\"},{\"id\":\"1418\"}],\"margin\":[0,0,0,0],\"name\":\"Row01901\",\"tags\":[\"embedded\"]},\"id\":\"1169\",\"type\":\"Row\"},{\"attributes\":{\"fill_alpha\":{\"value\":0.2},\"fill_color\":{\"value\":\"#ff7e0e\"},\"line_alpha\":{\"value\":0.2},\"line_color\":{\"value\":\"#ff7e0e\"},\"size\":{\"units\":\"screen\",\"value\":5.477225575051661},\"x\":{\"field\":\"TotalCoinsMined\"},\"y\":{\"field\":\"TotalCoinSupply\"}},\"id\":\"1234\",\"type\":\"Scatter\"},{\"attributes\":{},\"id\":\"1196\",\"type\":\"WheelZoomTool\"},{\"attributes\":{},\"id\":\"1230\",\"type\":\"Selection\"},{\"attributes\":{},\"id\":\"1266\",\"type\":\"UnionRenderers\"},{\"attributes\":{\"overlay\":{\"id\":\"1199\"}},\"id\":\"1197\",\"type\":\"BoxZoomTool\"},{\"attributes\":{\"data_source\":{\"id\":\"1211\"},\"glyph\":{\"id\":\"1214\"},\"hover_glyph\":null,\"muted_glyph\":{\"id\":\"1216\"},\"nonselection_glyph\":{\"id\":\"1215\"},\"selection_glyph\":null,\"view\":{\"id\":\"1218\"}},\"id\":\"1217\",\"type\":\"GlyphRenderer\"},{\"attributes\":{\"text\":\"\",\"text_color\":{\"value\":\"black\"},\"text_font_size\":{\"value\":\"12pt\"}},\"id\":\"1178\",\"type\":\"Title\"},{\"attributes\":{},\"id\":\"1225\",\"type\":\"UnionRenderers\"},{\"attributes\":{\"margin\":[5,5,5,5],\"name\":\"HSpacer01905\",\"sizing_mode\":\"stretch_width\"},\"id\":\"1170\",\"type\":\"Spacer\"},{\"attributes\":{\"data_source\":{\"id\":\"1248\"},\"glyph\":{\"id\":\"1251\"},\"hover_glyph\":null,\"muted_glyph\":{\"id\":\"1253\"},\"nonselection_glyph\":{\"id\":\"1252\"},\"selection_glyph\":null,\"view\":{\"id\":\"1255\"}},\"id\":\"1254\",\"type\":\"GlyphRenderer\"},{\"attributes\":{\"fill_color\":{\"value\":\"#ff7e0e\"},\"line_color\":{\"value\":\"#ff7e0e\"},\"size\":{\"units\":\"screen\",\"value\":5.477225575051661},\"x\":{\"field\":\"TotalCoinsMined\"},\"y\":{\"field\":\"TotalCoinSupply\"}},\"id\":\"1232\",\"type\":\"Scatter\"},{\"attributes\":{},\"id\":\"1289\",\"type\":\"UnionRenderers\"},{\"attributes\":{\"margin\":[5,5,5,5],\"name\":\"HSpacer01906\",\"sizing_mode\":\"stretch_width\"},\"id\":\"1418\",\"type\":\"Spacer\"},{\"attributes\":{\"axis_label\":\"TotalCoinsMined\",\"bounds\":\"auto\",\"formatter\":{\"id\":\"1207\"},\"major_label_orientation\":\"horizontal\",\"ticker\":{\"id\":\"1187\"}},\"id\":\"1186\",\"type\":\"LinearAxis\"},{\"attributes\":{\"fill_alpha\":{\"value\":0.1},\"fill_color\":{\"value\":\"#1f77b3\"},\"line_alpha\":{\"value\":0.1},\"line_color\":{\"value\":\"#1f77b3\"},\"size\":{\"units\":\"screen\",\"value\":5.477225575051661},\"x\":{\"field\":\"TotalCoinsMined\"},\"y\":{\"field\":\"TotalCoinSupply\"}},\"id\":\"1215\",\"type\":\"Scatter\"},{\"attributes\":{\"source\":{\"id\":\"1269\"}},\"id\":\"1276\",\"type\":\"CDSView\"},{\"attributes\":{\"fill_alpha\":{\"value\":0.1},\"fill_color\":{\"value\":\"#ff7e0e\"},\"line_alpha\":{\"value\":0.1},\"line_color\":{\"value\":\"#ff7e0e\"},\"size\":{\"units\":\"screen\",\"value\":5.477225575051661},\"x\":{\"field\":\"TotalCoinsMined\"},\"y\":{\"field\":\"TotalCoinSupply\"}},\"id\":\"1233\",\"type\":\"Scatter\"},{\"attributes\":{\"source\":{\"id\":\"1248\"}},\"id\":\"1255\",\"type\":\"CDSView\"},{\"attributes\":{\"fill_alpha\":{\"value\":0.1},\"fill_color\":{\"value\":\"#d62628\"},\"line_alpha\":{\"value\":0.1},\"line_color\":{\"value\":\"#d62628\"},\"size\":{\"units\":\"screen\",\"value\":5.477225575051661},\"x\":{\"field\":\"TotalCoinsMined\"},\"y\":{\"field\":\"TotalCoinSupply\"}},\"id\":\"1273\",\"type\":\"Scatter\"},{\"attributes\":{\"end\":1.042857142857143,\"reset_end\":1.042857142857143,\"reset_start\":-0.04285714285714286,\"start\":-0.04285714285714286,\"tags\":[[[\"TotalCoinsMined\",\"TotalCoinsMined\",null]]]},\"id\":\"1171\",\"type\":\"Range1d\"},{\"attributes\":{\"callback\":null,\"renderers\":[{\"id\":\"1217\"},{\"id\":\"1235\"},{\"id\":\"1254\"},{\"id\":\"1275\"}],\"tags\":[\"hv_created\"],\"tooltips\":[[\"Class\",\"@{Class}\"],[\"TotalCoinsMined\",\"@{TotalCoinsMined}\"],[\"TotalCoinSupply\",\"@{TotalCoinSupply}\"],[\"CoinName\",\"@{CoinName}\"]]},\"id\":\"1173\",\"type\":\"HoverTool\"},{\"attributes\":{},\"id\":\"1184\",\"type\":\"LinearScale\"},{\"attributes\":{\"fill_color\":{\"value\":\"#1f77b3\"},\"line_color\":{\"value\":\"#1f77b3\"},\"size\":{\"units\":\"screen\",\"value\":5.477225575051661},\"x\":{\"field\":\"TotalCoinsMined\"},\"y\":{\"field\":\"TotalCoinSupply\"}},\"id\":\"1214\",\"type\":\"Scatter\"}],\"root_ids\":[\"1169\"]},\"title\":\"Bokeh Application\",\"version\":\"2.2.3\"}};\n    var render_items = [{\"docid\":\"fff64096-a544-4c52-9309-b48c1c0d475c\",\"root_ids\":[\"1169\"],\"roots\":{\"1169\":\"520afd9a-7d8e-42c4-87e6-ffe68eadc1e3\"}}];\n    root.Bokeh.embed.embed_items_notebook(docs_json, render_items);\n  }\n  if (root.Bokeh !== undefined && root.Bokeh.Panel !== undefined) {\n    embed_document(root);\n  } else {\n    var attempts = 0;\n    var timer = setInterval(function(root) {\n      if (root.Bokeh !== undefined && root.Bokeh.Panel !== undefined) {\n        clearInterval(timer);\n        embed_document(root);\n      } else if (document.readyState == \"complete\") {\n        attempts++;\n        if (attempts > 100) {\n          clearInterval(timer);\n          console.log(\"Bokeh: ERROR: Unable to run BokehJS code because BokehJS library is missing\");\n        }\n      }\n    }, 10, root)\n  }\n})(window);</script>",
      "application/vnd.holoviews_exec.v0+json": "",
      "text/plain": [
       ":NdOverlay   [Class]\n",
       "   :Scatter   [TotalCoinsMined]   (TotalCoinSupply,CoinName)"
      ]
     },
     "metadata": {
      "application/vnd.holoviews_exec.v0+json": {
       "id": "1169"
      }
     },
     "execution_count": 46
    }
   ],
   "source": [
    "# Create a hvplot.scatter plot using x=\"TotalCoinsMined\" and y=\"TotalCoinSupply\".\n",
    "plot_df.hvplot.scatter(x=\"TotalCoinsMined\", y=\"TotalCoinSupply\", by=\"Class\",hover_cols = [\"CoinName\"])\n"
   ]
  },
  {
   "cell_type": "code",
   "execution_count": null,
   "metadata": {},
   "outputs": [],
   "source": []
  }
 ],
 "metadata": {
  "file_extension": ".py",
  "kernelspec": {
   "name": "python3",
   "display_name": "Python 3.7.9 64-bit ('mlenv': conda)",
   "metadata": {
    "interpreter": {
     "hash": "71d2ad3b2737414c0184e52001d3bfd669dd7705f0b48cb8b421db1e3c007459"
    }
   }
  },
  "language_info": {
   "codemirror_mode": {
    "name": "ipython",
    "version": 3
   },
   "file_extension": ".py",
   "mimetype": "text/x-python",
   "name": "python",
   "nbconvert_exporter": "python",
   "pygments_lexer": "ipython3",
   "version": "3.7.9-final"
  },
  "latex_envs": {
   "LaTeX_envs_menu_present": true,
   "autoclose": false,
   "autocomplete": true,
   "bibliofile": "biblio.bib",
   "cite_by": "apalike",
   "current_citInitial": 1,
   "eqLabelWithNumbers": true,
   "eqNumInitial": 1,
   "hotkeys": {
    "equation": "Ctrl-E",
    "itemize": "Ctrl-I"
   },
   "labels_anchors": false,
   "latex_user_defs": false,
   "report_style_numbering": false,
   "user_envs_cfg": false
  },
  "mimetype": "text/x-python",
  "name": "python",
  "npconvert_exporter": "python",
  "pygments_lexer": "ipython3",
  "version": 3
 },
 "nbformat": 4,
 "nbformat_minor": 2
}